{
  "cells": [
    {
      "cell_type": "markdown",
      "metadata": {
        "id": "view-in-github",
        "colab_type": "text"
      },
      "source": [
        "<a href=\"https://colab.research.google.com/github/Akshara-416/sales_prediction/blob/data_exploration/src/data/data_exploration.ipynb\" target=\"_parent\"><img src=\"https://colab.research.google.com/assets/colab-badge.svg\" alt=\"Open In Colab\"/></a>"
      ]
    },
    {
      "cell_type": "markdown",
      "id": "4bff3777",
      "metadata": {
        "id": "4bff3777"
      },
      "source": [
        "## Import required libraries"
      ]
    },
    {
      "cell_type": "code",
      "execution_count": null,
      "id": "e0a45328",
      "metadata": {
        "id": "e0a45328"
      },
      "outputs": [],
      "source": [
        "import numpy as np\n",
        "import pandas as pd\n",
        "import importlib\n",
        "import matplotlib.pyplot as plt\n",
        "%matplotlib inline"
      ]
    },
    {
      "cell_type": "code",
      "execution_count": null,
      "id": "78742eab",
      "metadata": {
        "id": "78742eab"
      },
      "outputs": [],
      "source": [
        "import functions\n",
        "importlib.reload(functions)\n",
        "from functions import input_read"
      ]
    },
    {
      "cell_type": "markdown",
      "id": "98d11bc1",
      "metadata": {
        "id": "98d11bc1"
      },
      "source": [
        "## Social Media Data"
      ]
    },
    {
      "cell_type": "code",
      "execution_count": null,
      "id": "5cf26375",
      "metadata": {
        "id": "5cf26375",
        "outputId": "4952b6c9-b8c7-4340-c295-2a7ffe635a0a"
      },
      "outputs": [
        {
          "name": "stdout",
          "output_type": "stream",
          "text": [
            "Shape of social_media_data : (533390, 3)\n",
            "\n",
            "List of columns in social_media_data : Index(['Theme Id', 'published_date', 'total_post'], dtype='object')\n",
            "\n",
            "Datatype of columns in social_media_data :\n",
            "Theme Id          float64\n",
            "published_date     object\n",
            "total_post          int64\n",
            "dtype: object\n"
          ]
        }
      ],
      "source": [
        "df_sm = input_read('files/social_media_data.xlsx')"
      ]
    },
    {
      "cell_type": "code",
      "execution_count": null,
      "id": "2eb37015",
      "metadata": {
        "id": "2eb37015",
        "outputId": "f2cd0854-e96e-41c5-a3e2-dab5937639d7"
      },
      "outputs": [
        {
          "data": {
            "text/html": [
              "<div>\n",
              "<style scoped>\n",
              "    .dataframe tbody tr th:only-of-type {\n",
              "        vertical-align: middle;\n",
              "    }\n",
              "\n",
              "    .dataframe tbody tr th {\n",
              "        vertical-align: top;\n",
              "    }\n",
              "\n",
              "    .dataframe thead th {\n",
              "        text-align: right;\n",
              "    }\n",
              "</style>\n",
              "<table border=\"1\" class=\"dataframe\">\n",
              "  <thead>\n",
              "    <tr style=\"text-align: right;\">\n",
              "      <th></th>\n",
              "      <th>Theme Id</th>\n",
              "      <th>published_date</th>\n",
              "      <th>total_post</th>\n",
              "    </tr>\n",
              "  </thead>\n",
              "  <tbody>\n",
              "    <tr>\n",
              "      <th>0</th>\n",
              "      <td>148.0</td>\n",
              "      <td>2015-01-10 00:00:00</td>\n",
              "      <td>76</td>\n",
              "    </tr>\n",
              "    <tr>\n",
              "      <th>1</th>\n",
              "      <td>148.0</td>\n",
              "      <td>2015-10-10 00:00:00</td>\n",
              "      <td>31</td>\n",
              "    </tr>\n",
              "    <tr>\n",
              "      <th>2</th>\n",
              "      <td>148.0</td>\n",
              "      <td>2015-11-10 00:00:00</td>\n",
              "      <td>65</td>\n",
              "    </tr>\n",
              "    <tr>\n",
              "      <th>3</th>\n",
              "      <td>148.0</td>\n",
              "      <td>2015-12-10 00:00:00</td>\n",
              "      <td>88</td>\n",
              "    </tr>\n",
              "    <tr>\n",
              "      <th>4</th>\n",
              "      <td>148.0</td>\n",
              "      <td>10/13/2015</td>\n",
              "      <td>85</td>\n",
              "    </tr>\n",
              "  </tbody>\n",
              "</table>\n",
              "</div>"
            ],
            "text/plain": [
              "   Theme Id       published_date  total_post\n",
              "0     148.0  2015-01-10 00:00:00          76\n",
              "1     148.0  2015-10-10 00:00:00          31\n",
              "2     148.0  2015-11-10 00:00:00          65\n",
              "3     148.0  2015-12-10 00:00:00          88\n",
              "4     148.0           10/13/2015          85"
            ]
          },
          "execution_count": 40,
          "metadata": {},
          "output_type": "execute_result"
        }
      ],
      "source": [
        "df_sm.head()"
      ]
    },
    {
      "cell_type": "code",
      "execution_count": null,
      "id": "d11f69ac",
      "metadata": {
        "id": "d11f69ac",
        "outputId": "7cde4efc-5914-4106-d549-79b2ef4c0ad5"
      },
      "outputs": [
        {
          "data": {
            "text/plain": [
              "193"
            ]
          },
          "execution_count": 44,
          "metadata": {},
          "output_type": "execute_result"
        }
      ],
      "source": [
        "df_sm['Theme Id'].nunique()"
      ]
    },
    {
      "cell_type": "code",
      "execution_count": null,
      "id": "c3da64c3",
      "metadata": {
        "id": "c3da64c3",
        "outputId": "09968bde-8f85-4c0d-95d5-58c13739cb09"
      },
      "outputs": [
        {
          "data": {
            "text/plain": [
              "967.0    3223\n",
              "788.0    3223\n",
              "884.0    1625\n",
              "769.0    1625\n",
              "959.0    1625\n",
              "         ... \n",
              "543.0    1597\n",
              "670.0    1511\n",
              "922.0    1511\n",
              "576.0    1511\n",
              "634.0    1511\n",
              "Name: Theme Id, Length: 193, dtype: int64"
            ]
          },
          "execution_count": 46,
          "metadata": {},
          "output_type": "execute_result"
        }
      ],
      "source": [
        "df_sm['Theme Id'].value_counts()"
      ]
    },
    {
      "cell_type": "code",
      "execution_count": null,
      "id": "e0065743",
      "metadata": {
        "id": "e0065743",
        "outputId": "18df8566-d772-43fa-b0e5-4cd6c31a7cce"
      },
      "outputs": [
        {
          "data": {
            "text/plain": [
              "0         2015-01-10 00:00:00\n",
              "1         2015-10-10 00:00:00\n",
              "2         2015-11-10 00:00:00\n",
              "3         2015-12-10 00:00:00\n",
              "4                  10/13/2015\n",
              "                 ...         \n",
              "533385    2019-05-09 00:00:00\n",
              "533386    2019-06-09 00:00:00\n",
              "533387    2019-07-09 00:00:00\n",
              "533388    2019-08-09 00:00:00\n",
              "533389    2019-09-09 00:00:00\n",
              "Name: published_date, Length: 533390, dtype: object"
            ]
          },
          "execution_count": 80,
          "metadata": {},
          "output_type": "execute_result"
        }
      ],
      "source": [
        "df_sm['published_date']"
      ]
    },
    {
      "cell_type": "code",
      "execution_count": null,
      "id": "cbab7539",
      "metadata": {
        "id": "cbab7539",
        "outputId": "85700776-61fa-4696-aefb-5eb441f0fbe8"
      },
      "outputs": [
        {
          "data": {
            "text/plain": [
              "0         01/10/2015\n",
              "1         10/10/2015\n",
              "2         11/10/2015\n",
              "3         12/10/2015\n",
              "4         10/13/2015\n",
              "             ...    \n",
              "533385    05/09/2019\n",
              "533386    06/09/2019\n",
              "533387    07/09/2019\n",
              "533388    08/09/2019\n",
              "533389    09/09/2019\n",
              "Name: published_date, Length: 533390, dtype: object"
            ]
          },
          "execution_count": 79,
          "metadata": {},
          "output_type": "execute_result"
        }
      ],
      "source": [
        "df_sm['published_date'] = df_sm['published_date'].apply(lambda x: x.strftime('%m/%d/%Y') if type(x)!=str else x)"
      ]
    },
    {
      "cell_type": "markdown",
      "id": "3d5045f4",
      "metadata": {
        "id": "3d5045f4"
      },
      "source": [
        "## Google search data"
      ]
    },
    {
      "cell_type": "code",
      "execution_count": null,
      "id": "1b9d5f5c",
      "metadata": {
        "id": "1b9d5f5c",
        "outputId": "77afe089-0230-4dc8-cb53-f44af9ea23e3"
      },
      "outputs": [
        {
          "name": "stdout",
          "output_type": "stream",
          "text": [
            "Shape of google_search_data : (181565, 6)\n",
            "\n",
            "List of columns in google_search_data : Index(['date', 'platform', 'searchVolume', 'Claim_ID', 'week_number',\n",
            "       'year_new'],\n",
            "      dtype='object')\n",
            "\n",
            "Datatype of columns in google_search_data :\n",
            "date            object\n",
            "platform        object\n",
            "searchVolume     int64\n",
            "Claim_ID         int64\n",
            "week_number      int64\n",
            "year_new         int64\n",
            "dtype: object\n"
          ]
        }
      ],
      "source": [
        "df_gs = input_read('files/google_search_data.csv')"
      ]
    },
    {
      "cell_type": "code",
      "execution_count": null,
      "id": "ae1dbb63",
      "metadata": {
        "id": "ae1dbb63",
        "outputId": "73afb4ca-5812-4398-87e4-1dce913c620f"
      },
      "outputs": [
        {
          "data": {
            "text/plain": [
              "160"
            ]
          },
          "execution_count": 47,
          "metadata": {},
          "output_type": "execute_result"
        }
      ],
      "source": [
        "df_gs['Claim_ID'].nunique()"
      ]
    },
    {
      "cell_type": "code",
      "execution_count": null,
      "id": "0e45d82a",
      "metadata": {
        "id": "0e45d82a",
        "outputId": "5c42e7da-095f-48b9-e1ea-7dc4e193f3db"
      },
      "outputs": [
        {
          "data": {
            "text/plain": [
              "967    5744\n",
              "576    4009\n",
              "670    4003\n",
              "8      3966\n",
              "634    3787\n",
              "       ... \n",
              "433       2\n",
              "832       2\n",
              "125       2\n",
              "606       1\n",
              "514       1\n",
              "Name: Claim_ID, Length: 160, dtype: int64"
            ]
          },
          "execution_count": 48,
          "metadata": {},
          "output_type": "execute_result"
        }
      ],
      "source": [
        "df_gs['Claim_ID'].value_counts()"
      ]
    },
    {
      "cell_type": "code",
      "execution_count": null,
      "id": "52207c6e",
      "metadata": {
        "id": "52207c6e",
        "outputId": "769c364d-48ce-4dbe-fdc2-3bb94a9119e8"
      },
      "outputs": [
        {
          "data": {
            "text/plain": [
              "0         05-01-2014\n",
              "1         06-01-2014\n",
              "2         07-01-2014\n",
              "3         10-01-2014\n",
              "4         20-01-2014\n",
              "             ...    \n",
              "181560    05-09-2019\n",
              "181561    22-09-2019\n",
              "181562    26-09-2019\n",
              "181563    15-07-2019\n",
              "181564    02-09-2019\n",
              "Name: date, Length: 181565, dtype: object"
            ]
          },
          "execution_count": 58,
          "metadata": {},
          "output_type": "execute_result"
        }
      ],
      "source": [
        "df_gs['date']"
      ]
    },
    {
      "cell_type": "markdown",
      "id": "8b68c01e",
      "metadata": {
        "id": "8b68c01e"
      },
      "source": [
        "#Value counts\n",
        "    print(\"Value counts\")\n",
        "    for column in data.columns:\n",
        "        print(\"{} : {}\".format(column,data[column].value_counts()))"
      ]
    }
  ],
  "metadata": {
    "kernelspec": {
      "display_name": "Python 3",
      "language": "python",
      "name": "python3"
    },
    "language_info": {
      "codemirror_mode": {
        "name": "ipython",
        "version": 3
      },
      "file_extension": ".py",
      "mimetype": "text/x-python",
      "name": "python",
      "nbconvert_exporter": "python",
      "pygments_lexer": "ipython3",
      "version": "3.8.5"
    },
    "colab": {
      "name": "data_exploration.ipynb",
      "provenance": [],
      "include_colab_link": true
    }
  },
  "nbformat": 4,
  "nbformat_minor": 5
}