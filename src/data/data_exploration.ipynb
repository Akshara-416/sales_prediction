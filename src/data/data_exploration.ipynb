{
  "cells": [
    {
      "cell_type": "markdown",
      "metadata": {
        "id": "view-in-github",
        "colab_type": "text"
      },
      "source": [
        "<a href=\"https://colab.research.google.com/github/Akshara-416/sales_prediction/blob/data_exploration/src/data/data_exploration.ipynb\" target=\"_parent\"><img src=\"https://colab.research.google.com/assets/colab-badge.svg\" alt=\"Open In Colab\"/></a>"
      ]
    },
    {
      "cell_type": "markdown",
      "id": "4bff3777",
      "metadata": {
        "id": "4bff3777"
      },
      "source": [
        "## Import required libraries"
      ]
    },
    {
      "cell_type": "code",
      "execution_count": 45,
      "id": "e0a45328",
      "metadata": {
        "id": "e0a45328"
      },
      "outputs": [],
      "source": [
        "import numpy as np\n",
        "import pandas as pd\n",
        "import importlib\n",
        "import matplotlib.pyplot as plt\n",
        "from datetime import datetime\n",
        "%matplotlib inline"
      ]
    },
    {
      "cell_type": "code",
      "execution_count": 3,
      "id": "78742eab",
      "metadata": {
        "id": "78742eab"
      },
      "outputs": [],
      "source": [
        "import functions\n",
        "importlib.reload(functions)\n",
        "from functions import input_read"
      ]
    },
    {
      "cell_type": "markdown",
      "id": "98d11bc1",
      "metadata": {
        "id": "98d11bc1"
      },
      "source": [
        "## Social Media Data"
      ]
    },
    {
      "cell_type": "code",
      "execution_count": 50,
      "id": "5cf26375",
      "metadata": {
        "colab": {
          "base_uri": "https://localhost:8080/"
        },
        "id": "5cf26375",
        "outputId": "19eb90dc-2c0a-40aa-ed06-3d46df7edc3a"
      },
      "outputs": [
        {
          "output_type": "stream",
          "name": "stdout",
          "text": [
            "Shape of social_media_data : (533390, 3)\n",
            "\n",
            "List of columns in social_media_data : Index(['Theme Id', 'published_date', 'total_post'], dtype='object')\n",
            "\n",
            "Datatype of columns in social_media_data :\n",
            "Theme Id          float64\n",
            "published_date     object\n",
            "total_post          int64\n",
            "dtype: object\n"
          ]
        }
      ],
      "source": [
        "df_sm = input_read('files/social_media_data.xlsx')"
      ]
    },
    {
      "cell_type": "code",
      "execution_count": 51,
      "id": "2eb37015",
      "metadata": {
        "colab": {
          "base_uri": "https://localhost:8080/",
          "height": 206
        },
        "id": "2eb37015",
        "outputId": "5f94f36c-4cc9-47ee-8b67-518644316e66"
      },
      "outputs": [
        {
          "output_type": "execute_result",
          "data": {
            "text/plain": [
              "   Theme Id       published_date  total_post\n",
              "0     148.0  2015-01-10 00:00:00          76\n",
              "1     148.0  2015-10-10 00:00:00          31\n",
              "2     148.0  2015-11-10 00:00:00          65\n",
              "3     148.0  2015-12-10 00:00:00          88\n",
              "4     148.0           10/13/2015          85"
            ],
            "text/html": [
              "\n",
              "  <div id=\"df-252db6fd-611d-4518-a885-bc34679c4212\">\n",
              "    <div class=\"colab-df-container\">\n",
              "      <div>\n",
              "<style scoped>\n",
              "    .dataframe tbody tr th:only-of-type {\n",
              "        vertical-align: middle;\n",
              "    }\n",
              "\n",
              "    .dataframe tbody tr th {\n",
              "        vertical-align: top;\n",
              "    }\n",
              "\n",
              "    .dataframe thead th {\n",
              "        text-align: right;\n",
              "    }\n",
              "</style>\n",
              "<table border=\"1\" class=\"dataframe\">\n",
              "  <thead>\n",
              "    <tr style=\"text-align: right;\">\n",
              "      <th></th>\n",
              "      <th>Theme Id</th>\n",
              "      <th>published_date</th>\n",
              "      <th>total_post</th>\n",
              "    </tr>\n",
              "  </thead>\n",
              "  <tbody>\n",
              "    <tr>\n",
              "      <th>0</th>\n",
              "      <td>148.0</td>\n",
              "      <td>2015-01-10 00:00:00</td>\n",
              "      <td>76</td>\n",
              "    </tr>\n",
              "    <tr>\n",
              "      <th>1</th>\n",
              "      <td>148.0</td>\n",
              "      <td>2015-10-10 00:00:00</td>\n",
              "      <td>31</td>\n",
              "    </tr>\n",
              "    <tr>\n",
              "      <th>2</th>\n",
              "      <td>148.0</td>\n",
              "      <td>2015-11-10 00:00:00</td>\n",
              "      <td>65</td>\n",
              "    </tr>\n",
              "    <tr>\n",
              "      <th>3</th>\n",
              "      <td>148.0</td>\n",
              "      <td>2015-12-10 00:00:00</td>\n",
              "      <td>88</td>\n",
              "    </tr>\n",
              "    <tr>\n",
              "      <th>4</th>\n",
              "      <td>148.0</td>\n",
              "      <td>10/13/2015</td>\n",
              "      <td>85</td>\n",
              "    </tr>\n",
              "  </tbody>\n",
              "</table>\n",
              "</div>\n",
              "      <button class=\"colab-df-convert\" onclick=\"convertToInteractive('df-252db6fd-611d-4518-a885-bc34679c4212')\"\n",
              "              title=\"Convert this dataframe to an interactive table.\"\n",
              "              style=\"display:none;\">\n",
              "        \n",
              "  <svg xmlns=\"http://www.w3.org/2000/svg\" height=\"24px\"viewBox=\"0 0 24 24\"\n",
              "       width=\"24px\">\n",
              "    <path d=\"M0 0h24v24H0V0z\" fill=\"none\"/>\n",
              "    <path d=\"M18.56 5.44l.94 2.06.94-2.06 2.06-.94-2.06-.94-.94-2.06-.94 2.06-2.06.94zm-11 1L8.5 8.5l.94-2.06 2.06-.94-2.06-.94L8.5 2.5l-.94 2.06-2.06.94zm10 10l.94 2.06.94-2.06 2.06-.94-2.06-.94-.94-2.06-.94 2.06-2.06.94z\"/><path d=\"M17.41 7.96l-1.37-1.37c-.4-.4-.92-.59-1.43-.59-.52 0-1.04.2-1.43.59L10.3 9.45l-7.72 7.72c-.78.78-.78 2.05 0 2.83L4 21.41c.39.39.9.59 1.41.59.51 0 1.02-.2 1.41-.59l7.78-7.78 2.81-2.81c.8-.78.8-2.07 0-2.86zM5.41 20L4 18.59l7.72-7.72 1.47 1.35L5.41 20z\"/>\n",
              "  </svg>\n",
              "      </button>\n",
              "      \n",
              "  <style>\n",
              "    .colab-df-container {\n",
              "      display:flex;\n",
              "      flex-wrap:wrap;\n",
              "      gap: 12px;\n",
              "    }\n",
              "\n",
              "    .colab-df-convert {\n",
              "      background-color: #E8F0FE;\n",
              "      border: none;\n",
              "      border-radius: 50%;\n",
              "      cursor: pointer;\n",
              "      display: none;\n",
              "      fill: #1967D2;\n",
              "      height: 32px;\n",
              "      padding: 0 0 0 0;\n",
              "      width: 32px;\n",
              "    }\n",
              "\n",
              "    .colab-df-convert:hover {\n",
              "      background-color: #E2EBFA;\n",
              "      box-shadow: 0px 1px 2px rgba(60, 64, 67, 0.3), 0px 1px 3px 1px rgba(60, 64, 67, 0.15);\n",
              "      fill: #174EA6;\n",
              "    }\n",
              "\n",
              "    [theme=dark] .colab-df-convert {\n",
              "      background-color: #3B4455;\n",
              "      fill: #D2E3FC;\n",
              "    }\n",
              "\n",
              "    [theme=dark] .colab-df-convert:hover {\n",
              "      background-color: #434B5C;\n",
              "      box-shadow: 0px 1px 3px 1px rgba(0, 0, 0, 0.15);\n",
              "      filter: drop-shadow(0px 1px 2px rgba(0, 0, 0, 0.3));\n",
              "      fill: #FFFFFF;\n",
              "    }\n",
              "  </style>\n",
              "\n",
              "      <script>\n",
              "        const buttonEl =\n",
              "          document.querySelector('#df-252db6fd-611d-4518-a885-bc34679c4212 button.colab-df-convert');\n",
              "        buttonEl.style.display =\n",
              "          google.colab.kernel.accessAllowed ? 'block' : 'none';\n",
              "\n",
              "        async function convertToInteractive(key) {\n",
              "          const element = document.querySelector('#df-252db6fd-611d-4518-a885-bc34679c4212');\n",
              "          const dataTable =\n",
              "            await google.colab.kernel.invokeFunction('convertToInteractive',\n",
              "                                                     [key], {});\n",
              "          if (!dataTable) return;\n",
              "\n",
              "          const docLinkHtml = 'Like what you see? Visit the ' +\n",
              "            '<a target=\"_blank\" href=https://colab.research.google.com/notebooks/data_table.ipynb>data table notebook</a>'\n",
              "            + ' to learn more about interactive tables.';\n",
              "          element.innerHTML = '';\n",
              "          dataTable['output_type'] = 'display_data';\n",
              "          await google.colab.output.renderOutput(dataTable, element);\n",
              "          const docLink = document.createElement('div');\n",
              "          docLink.innerHTML = docLinkHtml;\n",
              "          element.appendChild(docLink);\n",
              "        }\n",
              "      </script>\n",
              "    </div>\n",
              "  </div>\n",
              "  "
            ]
          },
          "metadata": {},
          "execution_count": 51
        }
      ],
      "source": [
        "df_sm.head()"
      ]
    },
    {
      "cell_type": "code",
      "execution_count": 52,
      "id": "d11f69ac",
      "metadata": {
        "colab": {
          "base_uri": "https://localhost:8080/"
        },
        "id": "d11f69ac",
        "outputId": "bfffb598-f831-4087-ce50-a8c1746d7778"
      },
      "outputs": [
        {
          "output_type": "execute_result",
          "data": {
            "text/plain": [
              "193"
            ]
          },
          "metadata": {},
          "execution_count": 52
        }
      ],
      "source": [
        "df_sm['Theme Id'].nunique()"
      ]
    },
    {
      "cell_type": "code",
      "execution_count": 53,
      "id": "c3da64c3",
      "metadata": {
        "colab": {
          "base_uri": "https://localhost:8080/"
        },
        "id": "c3da64c3",
        "outputId": "f75a4223-f6d8-4704-cb9f-d7223254535d"
      },
      "outputs": [
        {
          "output_type": "execute_result",
          "data": {
            "text/plain": [
              "788.0    3223\n",
              "967.0    3223\n",
              "556.0    1625\n",
              "26.0     1625\n",
              "960.0    1625\n",
              "         ... \n",
              "543.0    1597\n",
              "922.0    1511\n",
              "634.0    1511\n",
              "576.0    1511\n",
              "670.0    1511\n",
              "Name: Theme Id, Length: 193, dtype: int64"
            ]
          },
          "metadata": {},
          "execution_count": 53
        }
      ],
      "source": [
        "df_sm['Theme Id'].value_counts()"
      ]
    },
    {
      "cell_type": "code",
      "execution_count": 54,
      "id": "e0065743",
      "metadata": {
        "colab": {
          "base_uri": "https://localhost:8080/"
        },
        "id": "e0065743",
        "outputId": "58532ce2-49be-49ea-86c9-3b3cf0281218"
      },
      "outputs": [
        {
          "output_type": "execute_result",
          "data": {
            "text/plain": [
              "0         2015-01-10 00:00:00\n",
              "1         2015-10-10 00:00:00\n",
              "2         2015-11-10 00:00:00\n",
              "3         2015-12-10 00:00:00\n",
              "4                  10/13/2015\n",
              "                 ...         \n",
              "533385    2019-05-09 00:00:00\n",
              "533386    2019-06-09 00:00:00\n",
              "533387    2019-07-09 00:00:00\n",
              "533388    2019-08-09 00:00:00\n",
              "533389    2019-09-09 00:00:00\n",
              "Name: published_date, Length: 533390, dtype: object"
            ]
          },
          "metadata": {},
          "execution_count": 54
        }
      ],
      "source": [
        "df_sm['published_date']"
      ]
    },
    {
      "cell_type": "code",
      "execution_count": 55,
      "id": "cbab7539",
      "metadata": {
        "id": "cbab7539"
      },
      "outputs": [],
      "source": [
        "df_sm['published_date'] = df_sm['published_date'].apply(lambda x: datetime.strptime(x,'%m/%d/%Y') if type(x)==str else x)"
      ]
    },
    {
      "cell_type": "code",
      "source": [
        "df_sm['published_date']"
      ],
      "metadata": {
        "colab": {
          "base_uri": "https://localhost:8080/"
        },
        "id": "ffGJFAhQEMgk",
        "outputId": "2ea1ba61-20c6-499a-c2ab-0350ed6b0a09"
      },
      "id": "ffGJFAhQEMgk",
      "execution_count": 56,
      "outputs": [
        {
          "output_type": "execute_result",
          "data": {
            "text/plain": [
              "0        2015-01-10\n",
              "1        2015-10-10\n",
              "2        2015-11-10\n",
              "3        2015-12-10\n",
              "4        2015-10-13\n",
              "            ...    \n",
              "533385   2019-05-09\n",
              "533386   2019-06-09\n",
              "533387   2019-07-09\n",
              "533388   2019-08-09\n",
              "533389   2019-09-09\n",
              "Name: published_date, Length: 533390, dtype: datetime64[ns]"
            ]
          },
          "metadata": {},
          "execution_count": 56
        }
      ]
    },
    {
      "cell_type": "code",
      "source": [
        "df_sm['publish_year'] = df_sm['published_date'].apply(lambda x:x.year)\n",
        "df_sm['publish_month'] = df_sm['published_date'].apply(lambda x:x.month)\n",
        "df_sm['publish_week'] = df_sm['published_date'].apply(lambda x:x.isocalendar()[1])"
      ],
      "metadata": {
        "id": "PJFMeC3BEVf6"
      },
      "id": "PJFMeC3BEVf6",
      "execution_count": 57,
      "outputs": []
    },
    {
      "cell_type": "code",
      "source": [
        "df_sm"
      ],
      "metadata": {
        "colab": {
          "base_uri": "https://localhost:8080/",
          "height": 423
        },
        "id": "gs9NrAqpGoQZ",
        "outputId": "152c222a-9868-4d7f-af33-d08253c466f3"
      },
      "id": "gs9NrAqpGoQZ",
      "execution_count": 58,
      "outputs": [
        {
          "output_type": "execute_result",
          "data": {
            "text/plain": [
              "        Theme Id published_date  total_post  publish_year  publish_month  \\\n",
              "0          148.0     2015-01-10          76          2015              1   \n",
              "1          148.0     2015-10-10          31          2015             10   \n",
              "2          148.0     2015-11-10          65          2015             11   \n",
              "3          148.0     2015-12-10          88          2015             12   \n",
              "4          148.0     2015-10-13          85          2015             10   \n",
              "...          ...            ...         ...           ...            ...   \n",
              "533385     876.0     2019-05-09        4658          2019              5   \n",
              "533386     876.0     2019-06-09        3731          2019              6   \n",
              "533387     876.0     2019-07-09        2336          2019              7   \n",
              "533388     876.0     2019-08-09        1374          2019              8   \n",
              "533389     876.0     2019-09-09        1442          2019              9   \n",
              "\n",
              "        publish_week  \n",
              "0                  2  \n",
              "1                 41  \n",
              "2                 46  \n",
              "3                 50  \n",
              "4                 42  \n",
              "...              ...  \n",
              "533385            19  \n",
              "533386            23  \n",
              "533387            28  \n",
              "533388            32  \n",
              "533389            37  \n",
              "\n",
              "[533390 rows x 6 columns]"
            ],
            "text/html": [
              "\n",
              "  <div id=\"df-50bfe1ca-b3f3-4e85-8f80-d36a4aae49e5\">\n",
              "    <div class=\"colab-df-container\">\n",
              "      <div>\n",
              "<style scoped>\n",
              "    .dataframe tbody tr th:only-of-type {\n",
              "        vertical-align: middle;\n",
              "    }\n",
              "\n",
              "    .dataframe tbody tr th {\n",
              "        vertical-align: top;\n",
              "    }\n",
              "\n",
              "    .dataframe thead th {\n",
              "        text-align: right;\n",
              "    }\n",
              "</style>\n",
              "<table border=\"1\" class=\"dataframe\">\n",
              "  <thead>\n",
              "    <tr style=\"text-align: right;\">\n",
              "      <th></th>\n",
              "      <th>Theme Id</th>\n",
              "      <th>published_date</th>\n",
              "      <th>total_post</th>\n",
              "      <th>publish_year</th>\n",
              "      <th>publish_month</th>\n",
              "      <th>publish_week</th>\n",
              "    </tr>\n",
              "  </thead>\n",
              "  <tbody>\n",
              "    <tr>\n",
              "      <th>0</th>\n",
              "      <td>148.0</td>\n",
              "      <td>2015-01-10</td>\n",
              "      <td>76</td>\n",
              "      <td>2015</td>\n",
              "      <td>1</td>\n",
              "      <td>2</td>\n",
              "    </tr>\n",
              "    <tr>\n",
              "      <th>1</th>\n",
              "      <td>148.0</td>\n",
              "      <td>2015-10-10</td>\n",
              "      <td>31</td>\n",
              "      <td>2015</td>\n",
              "      <td>10</td>\n",
              "      <td>41</td>\n",
              "    </tr>\n",
              "    <tr>\n",
              "      <th>2</th>\n",
              "      <td>148.0</td>\n",
              "      <td>2015-11-10</td>\n",
              "      <td>65</td>\n",
              "      <td>2015</td>\n",
              "      <td>11</td>\n",
              "      <td>46</td>\n",
              "    </tr>\n",
              "    <tr>\n",
              "      <th>3</th>\n",
              "      <td>148.0</td>\n",
              "      <td>2015-12-10</td>\n",
              "      <td>88</td>\n",
              "      <td>2015</td>\n",
              "      <td>12</td>\n",
              "      <td>50</td>\n",
              "    </tr>\n",
              "    <tr>\n",
              "      <th>4</th>\n",
              "      <td>148.0</td>\n",
              "      <td>2015-10-13</td>\n",
              "      <td>85</td>\n",
              "      <td>2015</td>\n",
              "      <td>10</td>\n",
              "      <td>42</td>\n",
              "    </tr>\n",
              "    <tr>\n",
              "      <th>...</th>\n",
              "      <td>...</td>\n",
              "      <td>...</td>\n",
              "      <td>...</td>\n",
              "      <td>...</td>\n",
              "      <td>...</td>\n",
              "      <td>...</td>\n",
              "    </tr>\n",
              "    <tr>\n",
              "      <th>533385</th>\n",
              "      <td>876.0</td>\n",
              "      <td>2019-05-09</td>\n",
              "      <td>4658</td>\n",
              "      <td>2019</td>\n",
              "      <td>5</td>\n",
              "      <td>19</td>\n",
              "    </tr>\n",
              "    <tr>\n",
              "      <th>533386</th>\n",
              "      <td>876.0</td>\n",
              "      <td>2019-06-09</td>\n",
              "      <td>3731</td>\n",
              "      <td>2019</td>\n",
              "      <td>6</td>\n",
              "      <td>23</td>\n",
              "    </tr>\n",
              "    <tr>\n",
              "      <th>533387</th>\n",
              "      <td>876.0</td>\n",
              "      <td>2019-07-09</td>\n",
              "      <td>2336</td>\n",
              "      <td>2019</td>\n",
              "      <td>7</td>\n",
              "      <td>28</td>\n",
              "    </tr>\n",
              "    <tr>\n",
              "      <th>533388</th>\n",
              "      <td>876.0</td>\n",
              "      <td>2019-08-09</td>\n",
              "      <td>1374</td>\n",
              "      <td>2019</td>\n",
              "      <td>8</td>\n",
              "      <td>32</td>\n",
              "    </tr>\n",
              "    <tr>\n",
              "      <th>533389</th>\n",
              "      <td>876.0</td>\n",
              "      <td>2019-09-09</td>\n",
              "      <td>1442</td>\n",
              "      <td>2019</td>\n",
              "      <td>9</td>\n",
              "      <td>37</td>\n",
              "    </tr>\n",
              "  </tbody>\n",
              "</table>\n",
              "<p>533390 rows × 6 columns</p>\n",
              "</div>\n",
              "      <button class=\"colab-df-convert\" onclick=\"convertToInteractive('df-50bfe1ca-b3f3-4e85-8f80-d36a4aae49e5')\"\n",
              "              title=\"Convert this dataframe to an interactive table.\"\n",
              "              style=\"display:none;\">\n",
              "        \n",
              "  <svg xmlns=\"http://www.w3.org/2000/svg\" height=\"24px\"viewBox=\"0 0 24 24\"\n",
              "       width=\"24px\">\n",
              "    <path d=\"M0 0h24v24H0V0z\" fill=\"none\"/>\n",
              "    <path d=\"M18.56 5.44l.94 2.06.94-2.06 2.06-.94-2.06-.94-.94-2.06-.94 2.06-2.06.94zm-11 1L8.5 8.5l.94-2.06 2.06-.94-2.06-.94L8.5 2.5l-.94 2.06-2.06.94zm10 10l.94 2.06.94-2.06 2.06-.94-2.06-.94-.94-2.06-.94 2.06-2.06.94z\"/><path d=\"M17.41 7.96l-1.37-1.37c-.4-.4-.92-.59-1.43-.59-.52 0-1.04.2-1.43.59L10.3 9.45l-7.72 7.72c-.78.78-.78 2.05 0 2.83L4 21.41c.39.39.9.59 1.41.59.51 0 1.02-.2 1.41-.59l7.78-7.78 2.81-2.81c.8-.78.8-2.07 0-2.86zM5.41 20L4 18.59l7.72-7.72 1.47 1.35L5.41 20z\"/>\n",
              "  </svg>\n",
              "      </button>\n",
              "      \n",
              "  <style>\n",
              "    .colab-df-container {\n",
              "      display:flex;\n",
              "      flex-wrap:wrap;\n",
              "      gap: 12px;\n",
              "    }\n",
              "\n",
              "    .colab-df-convert {\n",
              "      background-color: #E8F0FE;\n",
              "      border: none;\n",
              "      border-radius: 50%;\n",
              "      cursor: pointer;\n",
              "      display: none;\n",
              "      fill: #1967D2;\n",
              "      height: 32px;\n",
              "      padding: 0 0 0 0;\n",
              "      width: 32px;\n",
              "    }\n",
              "\n",
              "    .colab-df-convert:hover {\n",
              "      background-color: #E2EBFA;\n",
              "      box-shadow: 0px 1px 2px rgba(60, 64, 67, 0.3), 0px 1px 3px 1px rgba(60, 64, 67, 0.15);\n",
              "      fill: #174EA6;\n",
              "    }\n",
              "\n",
              "    [theme=dark] .colab-df-convert {\n",
              "      background-color: #3B4455;\n",
              "      fill: #D2E3FC;\n",
              "    }\n",
              "\n",
              "    [theme=dark] .colab-df-convert:hover {\n",
              "      background-color: #434B5C;\n",
              "      box-shadow: 0px 1px 3px 1px rgba(0, 0, 0, 0.15);\n",
              "      filter: drop-shadow(0px 1px 2px rgba(0, 0, 0, 0.3));\n",
              "      fill: #FFFFFF;\n",
              "    }\n",
              "  </style>\n",
              "\n",
              "      <script>\n",
              "        const buttonEl =\n",
              "          document.querySelector('#df-50bfe1ca-b3f3-4e85-8f80-d36a4aae49e5 button.colab-df-convert');\n",
              "        buttonEl.style.display =\n",
              "          google.colab.kernel.accessAllowed ? 'block' : 'none';\n",
              "\n",
              "        async function convertToInteractive(key) {\n",
              "          const element = document.querySelector('#df-50bfe1ca-b3f3-4e85-8f80-d36a4aae49e5');\n",
              "          const dataTable =\n",
              "            await google.colab.kernel.invokeFunction('convertToInteractive',\n",
              "                                                     [key], {});\n",
              "          if (!dataTable) return;\n",
              "\n",
              "          const docLinkHtml = 'Like what you see? Visit the ' +\n",
              "            '<a target=\"_blank\" href=https://colab.research.google.com/notebooks/data_table.ipynb>data table notebook</a>'\n",
              "            + ' to learn more about interactive tables.';\n",
              "          element.innerHTML = '';\n",
              "          dataTable['output_type'] = 'display_data';\n",
              "          await google.colab.output.renderOutput(dataTable, element);\n",
              "          const docLink = document.createElement('div');\n",
              "          docLink.innerHTML = docLinkHtml;\n",
              "          element.appendChild(docLink);\n",
              "        }\n",
              "      </script>\n",
              "    </div>\n",
              "  </div>\n",
              "  "
            ]
          },
          "metadata": {},
          "execution_count": 58
        }
      ]
    },
    {
      "cell_type": "code",
      "source": [
        "df_sm.groupby(['publish_year']).sum()['total_post']"
      ],
      "metadata": {
        "colab": {
          "base_uri": "https://localhost:8080/"
        },
        "id": "ETIY9NsBG3yG",
        "outputId": "d1f3548e-3855-4a8b-8bd8-49f16b1cc954"
      },
      "id": "ETIY9NsBG3yG",
      "execution_count": 59,
      "outputs": [
        {
          "output_type": "execute_result",
          "data": {
            "text/plain": [
              "publish_year\n",
              "2015     52035240\n",
              "2016    110244878\n",
              "2017    142134603\n",
              "2018    163379609\n",
              "2019     94582691\n",
              "Name: total_post, dtype: int64"
            ]
          },
          "metadata": {},
          "execution_count": 59
        }
      ]
    },
    {
      "cell_type": "markdown",
      "id": "3d5045f4",
      "metadata": {
        "id": "3d5045f4"
      },
      "source": [
        "## Google search data"
      ]
    },
    {
      "cell_type": "code",
      "execution_count": 60,
      "id": "1b9d5f5c",
      "metadata": {
        "colab": {
          "base_uri": "https://localhost:8080/"
        },
        "id": "1b9d5f5c",
        "outputId": "01ed608d-c628-4ccf-91d1-a767a2b83759"
      },
      "outputs": [
        {
          "output_type": "stream",
          "name": "stdout",
          "text": [
            "Shape of google_search_data : (181565, 6)\n",
            "\n",
            "List of columns in google_search_data : Index(['date', 'platform', 'searchVolume', 'Claim_ID', 'week_number',\n",
            "       'year_new'],\n",
            "      dtype='object')\n",
            "\n",
            "Datatype of columns in google_search_data :\n",
            "date            object\n",
            "platform        object\n",
            "searchVolume     int64\n",
            "Claim_ID         int64\n",
            "week_number      int64\n",
            "year_new         int64\n",
            "dtype: object\n"
          ]
        }
      ],
      "source": [
        "df_gs = input_read('files/google_search_data.csv')"
      ]
    },
    {
      "cell_type": "code",
      "execution_count": 61,
      "id": "ae1dbb63",
      "metadata": {
        "colab": {
          "base_uri": "https://localhost:8080/"
        },
        "id": "ae1dbb63",
        "outputId": "46205ed9-a8ba-4d92-bfee-ee9cf146094d"
      },
      "outputs": [
        {
          "output_type": "execute_result",
          "data": {
            "text/plain": [
              "160"
            ]
          },
          "metadata": {},
          "execution_count": 61
        }
      ],
      "source": [
        "df_gs['Claim_ID'].nunique()"
      ]
    },
    {
      "cell_type": "code",
      "execution_count": 62,
      "id": "0e45d82a",
      "metadata": {
        "colab": {
          "base_uri": "https://localhost:8080/"
        },
        "id": "0e45d82a",
        "outputId": "f9a83b76-68c1-4e49-8919-f58212329151"
      },
      "outputs": [
        {
          "output_type": "execute_result",
          "data": {
            "text/plain": [
              "967    5744\n",
              "576    4009\n",
              "670    4003\n",
              "8      3966\n",
              "634    3787\n",
              "       ... \n",
              "125       2\n",
              "681       2\n",
              "433       2\n",
              "514       1\n",
              "606       1\n",
              "Name: Claim_ID, Length: 160, dtype: int64"
            ]
          },
          "metadata": {},
          "execution_count": 62
        }
      ],
      "source": [
        "df_gs['Claim_ID'].value_counts()"
      ]
    },
    {
      "cell_type": "code",
      "execution_count": 63,
      "id": "52207c6e",
      "metadata": {
        "colab": {
          "base_uri": "https://localhost:8080/"
        },
        "id": "52207c6e",
        "outputId": "e5eed523-180e-4791-b2b5-cd8ed58081fd"
      },
      "outputs": [
        {
          "output_type": "execute_result",
          "data": {
            "text/plain": [
              "0         05-01-2014\n",
              "1         06-01-2014\n",
              "2         07-01-2014\n",
              "3         10-01-2014\n",
              "4         20-01-2014\n",
              "             ...    \n",
              "181560    05-09-2019\n",
              "181561    22-09-2019\n",
              "181562    26-09-2019\n",
              "181563    15-07-2019\n",
              "181564    02-09-2019\n",
              "Name: date, Length: 181565, dtype: object"
            ]
          },
          "metadata": {},
          "execution_count": 63
        }
      ],
      "source": [
        "df_gs['date']"
      ]
    },
    {
      "cell_type": "code",
      "source": [
        "df_gs['date'] = df_gs['date'].apply(lambda x: datetime.strptime(x,'%d-%m-%Y') if type(x)==str else x)"
      ],
      "metadata": {
        "id": "kM11dZiaH5x_"
      },
      "id": "kM11dZiaH5x_",
      "execution_count": 64,
      "outputs": []
    },
    {
      "cell_type": "code",
      "source": [
        "df_gs['search_year'] = df_gs['date'].apply(lambda x:x.year)\n",
        "df_gs['search_month'] = df_gs['date'].apply(lambda x:x.month)\n",
        "df_gs['search_week'] = df_gs['date'].apply(lambda x:x.isocalendar()[1])"
      ],
      "metadata": {
        "id": "Bfq2HbE8H8Wb"
      },
      "id": "Bfq2HbE8H8Wb",
      "execution_count": 65,
      "outputs": []
    },
    {
      "cell_type": "code",
      "source": [
        "# combining both\n",
        "\n",
        "combined_df = pd.merge(df_sm,df_gs, how = 'inner', left_on =['Theme Id','publish_year','publish_week'], right_on = ['Claim_ID','search_year','search_week'])"
      ],
      "metadata": {
        "id": "7W8r6bRsH8Zl"
      },
      "id": "7W8r6bRsH8Zl",
      "execution_count": 66,
      "outputs": []
    },
    {
      "cell_type": "code",
      "source": [
        "combined_df.shape"
      ],
      "metadata": {
        "colab": {
          "base_uri": "https://localhost:8080/"
        },
        "id": "OQ4x1enqH8cW",
        "outputId": "464d86cc-fdde-4903-eca9-2ce4fea6f01f"
      },
      "id": "OQ4x1enqH8cW",
      "execution_count": 68,
      "outputs": [
        {
          "output_type": "execute_result",
          "data": {
            "text/plain": [
              "(1074156, 15)"
            ]
          },
          "metadata": {},
          "execution_count": 68
        }
      ]
    },
    {
      "cell_type": "code",
      "source": [
        "combined_df.head()"
      ],
      "metadata": {
        "colab": {
          "base_uri": "https://localhost:8080/",
          "height": 374
        },
        "id": "NW_aKcvYH8gF",
        "outputId": "94952e04-3207-4bea-f534-6f16ae94561d"
      },
      "id": "NW_aKcvYH8gF",
      "execution_count": 69,
      "outputs": [
        {
          "output_type": "execute_result",
          "data": {
            "text/plain": [
              "   Theme Id published_date  total_post  publish_year  publish_month  \\\n",
              "0     148.0     2015-01-10          76          2015              1   \n",
              "1     148.0     2015-01-10          76          2015              1   \n",
              "2     148.0     2015-01-11           6          2015              1   \n",
              "3     148.0     2015-01-11           6          2015              1   \n",
              "4     148.0     2015-01-06           2          2015              1   \n",
              "\n",
              "   publish_week       date platform  searchVolume  Claim_ID  week_number  \\\n",
              "0             2 2015-01-09   google           342       148            2   \n",
              "1             2 2015-01-10   google           342       148            2   \n",
              "2             2 2015-01-09   google           342       148            2   \n",
              "3             2 2015-01-10   google           342       148            2   \n",
              "4             2 2015-01-09   google           342       148            2   \n",
              "\n",
              "   year_new  search_year  search_month  search_week  \n",
              "0      2015         2015             1            2  \n",
              "1      2015         2015             1            2  \n",
              "2      2015         2015             1            2  \n",
              "3      2015         2015             1            2  \n",
              "4      2015         2015             1            2  "
            ],
            "text/html": [
              "\n",
              "  <div id=\"df-a73f9bf0-967f-418b-b6e1-a8eb669659fc\">\n",
              "    <div class=\"colab-df-container\">\n",
              "      <div>\n",
              "<style scoped>\n",
              "    .dataframe tbody tr th:only-of-type {\n",
              "        vertical-align: middle;\n",
              "    }\n",
              "\n",
              "    .dataframe tbody tr th {\n",
              "        vertical-align: top;\n",
              "    }\n",
              "\n",
              "    .dataframe thead th {\n",
              "        text-align: right;\n",
              "    }\n",
              "</style>\n",
              "<table border=\"1\" class=\"dataframe\">\n",
              "  <thead>\n",
              "    <tr style=\"text-align: right;\">\n",
              "      <th></th>\n",
              "      <th>Theme Id</th>\n",
              "      <th>published_date</th>\n",
              "      <th>total_post</th>\n",
              "      <th>publish_year</th>\n",
              "      <th>publish_month</th>\n",
              "      <th>publish_week</th>\n",
              "      <th>date</th>\n",
              "      <th>platform</th>\n",
              "      <th>searchVolume</th>\n",
              "      <th>Claim_ID</th>\n",
              "      <th>week_number</th>\n",
              "      <th>year_new</th>\n",
              "      <th>search_year</th>\n",
              "      <th>search_month</th>\n",
              "      <th>search_week</th>\n",
              "    </tr>\n",
              "  </thead>\n",
              "  <tbody>\n",
              "    <tr>\n",
              "      <th>0</th>\n",
              "      <td>148.0</td>\n",
              "      <td>2015-01-10</td>\n",
              "      <td>76</td>\n",
              "      <td>2015</td>\n",
              "      <td>1</td>\n",
              "      <td>2</td>\n",
              "      <td>2015-01-09</td>\n",
              "      <td>google</td>\n",
              "      <td>342</td>\n",
              "      <td>148</td>\n",
              "      <td>2</td>\n",
              "      <td>2015</td>\n",
              "      <td>2015</td>\n",
              "      <td>1</td>\n",
              "      <td>2</td>\n",
              "    </tr>\n",
              "    <tr>\n",
              "      <th>1</th>\n",
              "      <td>148.0</td>\n",
              "      <td>2015-01-10</td>\n",
              "      <td>76</td>\n",
              "      <td>2015</td>\n",
              "      <td>1</td>\n",
              "      <td>2</td>\n",
              "      <td>2015-01-10</td>\n",
              "      <td>google</td>\n",
              "      <td>342</td>\n",
              "      <td>148</td>\n",
              "      <td>2</td>\n",
              "      <td>2015</td>\n",
              "      <td>2015</td>\n",
              "      <td>1</td>\n",
              "      <td>2</td>\n",
              "    </tr>\n",
              "    <tr>\n",
              "      <th>2</th>\n",
              "      <td>148.0</td>\n",
              "      <td>2015-01-11</td>\n",
              "      <td>6</td>\n",
              "      <td>2015</td>\n",
              "      <td>1</td>\n",
              "      <td>2</td>\n",
              "      <td>2015-01-09</td>\n",
              "      <td>google</td>\n",
              "      <td>342</td>\n",
              "      <td>148</td>\n",
              "      <td>2</td>\n",
              "      <td>2015</td>\n",
              "      <td>2015</td>\n",
              "      <td>1</td>\n",
              "      <td>2</td>\n",
              "    </tr>\n",
              "    <tr>\n",
              "      <th>3</th>\n",
              "      <td>148.0</td>\n",
              "      <td>2015-01-11</td>\n",
              "      <td>6</td>\n",
              "      <td>2015</td>\n",
              "      <td>1</td>\n",
              "      <td>2</td>\n",
              "      <td>2015-01-10</td>\n",
              "      <td>google</td>\n",
              "      <td>342</td>\n",
              "      <td>148</td>\n",
              "      <td>2</td>\n",
              "      <td>2015</td>\n",
              "      <td>2015</td>\n",
              "      <td>1</td>\n",
              "      <td>2</td>\n",
              "    </tr>\n",
              "    <tr>\n",
              "      <th>4</th>\n",
              "      <td>148.0</td>\n",
              "      <td>2015-01-06</td>\n",
              "      <td>2</td>\n",
              "      <td>2015</td>\n",
              "      <td>1</td>\n",
              "      <td>2</td>\n",
              "      <td>2015-01-09</td>\n",
              "      <td>google</td>\n",
              "      <td>342</td>\n",
              "      <td>148</td>\n",
              "      <td>2</td>\n",
              "      <td>2015</td>\n",
              "      <td>2015</td>\n",
              "      <td>1</td>\n",
              "      <td>2</td>\n",
              "    </tr>\n",
              "  </tbody>\n",
              "</table>\n",
              "</div>\n",
              "      <button class=\"colab-df-convert\" onclick=\"convertToInteractive('df-a73f9bf0-967f-418b-b6e1-a8eb669659fc')\"\n",
              "              title=\"Convert this dataframe to an interactive table.\"\n",
              "              style=\"display:none;\">\n",
              "        \n",
              "  <svg xmlns=\"http://www.w3.org/2000/svg\" height=\"24px\"viewBox=\"0 0 24 24\"\n",
              "       width=\"24px\">\n",
              "    <path d=\"M0 0h24v24H0V0z\" fill=\"none\"/>\n",
              "    <path d=\"M18.56 5.44l.94 2.06.94-2.06 2.06-.94-2.06-.94-.94-2.06-.94 2.06-2.06.94zm-11 1L8.5 8.5l.94-2.06 2.06-.94-2.06-.94L8.5 2.5l-.94 2.06-2.06.94zm10 10l.94 2.06.94-2.06 2.06-.94-2.06-.94-.94-2.06-.94 2.06-2.06.94z\"/><path d=\"M17.41 7.96l-1.37-1.37c-.4-.4-.92-.59-1.43-.59-.52 0-1.04.2-1.43.59L10.3 9.45l-7.72 7.72c-.78.78-.78 2.05 0 2.83L4 21.41c.39.39.9.59 1.41.59.51 0 1.02-.2 1.41-.59l7.78-7.78 2.81-2.81c.8-.78.8-2.07 0-2.86zM5.41 20L4 18.59l7.72-7.72 1.47 1.35L5.41 20z\"/>\n",
              "  </svg>\n",
              "      </button>\n",
              "      \n",
              "  <style>\n",
              "    .colab-df-container {\n",
              "      display:flex;\n",
              "      flex-wrap:wrap;\n",
              "      gap: 12px;\n",
              "    }\n",
              "\n",
              "    .colab-df-convert {\n",
              "      background-color: #E8F0FE;\n",
              "      border: none;\n",
              "      border-radius: 50%;\n",
              "      cursor: pointer;\n",
              "      display: none;\n",
              "      fill: #1967D2;\n",
              "      height: 32px;\n",
              "      padding: 0 0 0 0;\n",
              "      width: 32px;\n",
              "    }\n",
              "\n",
              "    .colab-df-convert:hover {\n",
              "      background-color: #E2EBFA;\n",
              "      box-shadow: 0px 1px 2px rgba(60, 64, 67, 0.3), 0px 1px 3px 1px rgba(60, 64, 67, 0.15);\n",
              "      fill: #174EA6;\n",
              "    }\n",
              "\n",
              "    [theme=dark] .colab-df-convert {\n",
              "      background-color: #3B4455;\n",
              "      fill: #D2E3FC;\n",
              "    }\n",
              "\n",
              "    [theme=dark] .colab-df-convert:hover {\n",
              "      background-color: #434B5C;\n",
              "      box-shadow: 0px 1px 3px 1px rgba(0, 0, 0, 0.15);\n",
              "      filter: drop-shadow(0px 1px 2px rgba(0, 0, 0, 0.3));\n",
              "      fill: #FFFFFF;\n",
              "    }\n",
              "  </style>\n",
              "\n",
              "      <script>\n",
              "        const buttonEl =\n",
              "          document.querySelector('#df-a73f9bf0-967f-418b-b6e1-a8eb669659fc button.colab-df-convert');\n",
              "        buttonEl.style.display =\n",
              "          google.colab.kernel.accessAllowed ? 'block' : 'none';\n",
              "\n",
              "        async function convertToInteractive(key) {\n",
              "          const element = document.querySelector('#df-a73f9bf0-967f-418b-b6e1-a8eb669659fc');\n",
              "          const dataTable =\n",
              "            await google.colab.kernel.invokeFunction('convertToInteractive',\n",
              "                                                     [key], {});\n",
              "          if (!dataTable) return;\n",
              "\n",
              "          const docLinkHtml = 'Like what you see? Visit the ' +\n",
              "            '<a target=\"_blank\" href=https://colab.research.google.com/notebooks/data_table.ipynb>data table notebook</a>'\n",
              "            + ' to learn more about interactive tables.';\n",
              "          element.innerHTML = '';\n",
              "          dataTable['output_type'] = 'display_data';\n",
              "          await google.colab.output.renderOutput(dataTable, element);\n",
              "          const docLink = document.createElement('div');\n",
              "          docLink.innerHTML = docLinkHtml;\n",
              "          element.appendChild(docLink);\n",
              "        }\n",
              "      </script>\n",
              "    </div>\n",
              "  </div>\n",
              "  "
            ]
          },
          "metadata": {},
          "execution_count": 69
        }
      ]
    },
    {
      "cell_type": "code",
      "source": [
        ""
      ],
      "metadata": {
        "id": "4TzMZKd3H8i8"
      },
      "id": "4TzMZKd3H8i8",
      "execution_count": null,
      "outputs": []
    },
    {
      "cell_type": "markdown",
      "id": "8b68c01e",
      "metadata": {
        "id": "8b68c01e"
      },
      "source": [
        "#Value counts\n",
        "    print(\"Value counts\")\n",
        "    for column in data.columns:\n",
        "        print(\"{} : {}\".format(column,data[column].value_counts()))"
      ]
    }
  ],
  "metadata": {
    "kernelspec": {
      "display_name": "Python 3",
      "language": "python",
      "name": "python3"
    },
    "language_info": {
      "codemirror_mode": {
        "name": "ipython",
        "version": 3
      },
      "file_extension": ".py",
      "mimetype": "text/x-python",
      "name": "python",
      "nbconvert_exporter": "python",
      "pygments_lexer": "ipython3",
      "version": "3.8.5"
    },
    "colab": {
      "name": "data_exploration.ipynb",
      "provenance": [],
      "include_colab_link": true
    }
  },
  "nbformat": 4,
  "nbformat_minor": 5
}