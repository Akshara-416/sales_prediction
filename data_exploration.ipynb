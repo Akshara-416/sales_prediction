{
  "cells": [
    {
      "cell_type": "markdown",
      "metadata": {
        "id": "view-in-github",
        "colab_type": "text"
      },
      "source": [
        "<a href=\"https://colab.research.google.com/github/Akshara-416/sales_prediction/blob/data_exploration/data_exploration.ipynb\" target=\"_parent\"><img src=\"https://colab.research.google.com/assets/colab-badge.svg\" alt=\"Open In Colab\"/></a>"
      ]
    },
    {
      "cell_type": "markdown",
      "id": "4bff3777",
      "metadata": {
        "id": "4bff3777"
      },
      "source": [
        "## Import required libraries"
      ]
    },
    {
      "cell_type": "code",
      "execution_count": 1,
      "id": "e0a45328",
      "metadata": {
        "id": "e0a45328"
      },
      "outputs": [],
      "source": [
        "import sys\n",
        "import numpy as np\n",
        "import pandas as pd\n",
        "import importlib\n",
        "import matplotlib.pyplot as plt\n",
        "from datetime import datetime\n",
        "import seaborn as sns\n",
        "%matplotlib inline"
      ]
    },
    {
      "cell_type": "code",
      "execution_count": 2,
      "id": "78742eab",
      "metadata": {
        "id": "78742eab"
      },
      "outputs": [],
      "source": [
        "import functions\n",
        "importlib.reload(functions)\n",
        "from functions import input_read"
      ]
    },
    {
      "cell_type": "markdown",
      "id": "98d11bc1",
      "metadata": {
        "id": "98d11bc1"
      },
      "source": [
        "## Social Media Data"
      ]
    },
    {
      "cell_type": "code",
      "execution_count": 3,
      "id": "5cf26375",
      "metadata": {
        "colab": {
          "base_uri": "https://localhost:8080/"
        },
        "id": "5cf26375",
        "outputId": "bedf496c-8a77-4959-b5e1-531d24999264"
      },
      "outputs": [
        {
          "output_type": "stream",
          "name": "stdout",
          "text": [
            "Shape of social_media_data : (533390, 3)\n",
            "\n",
            "List of columns in social_media_data : Index(['Theme Id', 'published_date', 'total_post'], dtype='object')\n",
            "\n",
            "Datatype of columns in social_media_data :\n",
            "Theme Id          float64\n",
            "published_date     object\n",
            "total_post          int64\n",
            "dtype: object\n"
          ]
        }
      ],
      "source": [
        "df_sm = input_read('files/social_media_data.xlsx')"
      ]
    },
    {
      "cell_type": "code",
      "source": [
        "df_sm_bkp = df_sm.copy()"
      ],
      "metadata": {
        "id": "8bGb1csC63Jx"
      },
      "id": "8bGb1csC63Jx",
      "execution_count": 4,
      "outputs": []
    },
    {
      "cell_type": "code",
      "execution_count": 6,
      "id": "2eb37015",
      "metadata": {
        "colab": {
          "base_uri": "https://localhost:8080/",
          "height": 206
        },
        "id": "2eb37015",
        "outputId": "c0c37995-ea44-48af-d1e0-7cf016fbf44b"
      },
      "outputs": [
        {
          "output_type": "execute_result",
          "data": {
            "text/plain": [
              "   Theme Id       published_date  total_post\n",
              "0     148.0  2015-01-10 00:00:00          76\n",
              "1     148.0  2015-10-10 00:00:00          31\n",
              "2     148.0  2015-11-10 00:00:00          65\n",
              "3     148.0  2015-12-10 00:00:00          88\n",
              "4     148.0           10/13/2015          85"
            ],
            "text/html": [
              "\n",
              "  <div id=\"df-ab93bfb9-7eac-42b6-a023-2d05156c73bf\">\n",
              "    <div class=\"colab-df-container\">\n",
              "      <div>\n",
              "<style scoped>\n",
              "    .dataframe tbody tr th:only-of-type {\n",
              "        vertical-align: middle;\n",
              "    }\n",
              "\n",
              "    .dataframe tbody tr th {\n",
              "        vertical-align: top;\n",
              "    }\n",
              "\n",
              "    .dataframe thead th {\n",
              "        text-align: right;\n",
              "    }\n",
              "</style>\n",
              "<table border=\"1\" class=\"dataframe\">\n",
              "  <thead>\n",
              "    <tr style=\"text-align: right;\">\n",
              "      <th></th>\n",
              "      <th>Theme Id</th>\n",
              "      <th>published_date</th>\n",
              "      <th>total_post</th>\n",
              "    </tr>\n",
              "  </thead>\n",
              "  <tbody>\n",
              "    <tr>\n",
              "      <th>0</th>\n",
              "      <td>148.0</td>\n",
              "      <td>2015-01-10 00:00:00</td>\n",
              "      <td>76</td>\n",
              "    </tr>\n",
              "    <tr>\n",
              "      <th>1</th>\n",
              "      <td>148.0</td>\n",
              "      <td>2015-10-10 00:00:00</td>\n",
              "      <td>31</td>\n",
              "    </tr>\n",
              "    <tr>\n",
              "      <th>2</th>\n",
              "      <td>148.0</td>\n",
              "      <td>2015-11-10 00:00:00</td>\n",
              "      <td>65</td>\n",
              "    </tr>\n",
              "    <tr>\n",
              "      <th>3</th>\n",
              "      <td>148.0</td>\n",
              "      <td>2015-12-10 00:00:00</td>\n",
              "      <td>88</td>\n",
              "    </tr>\n",
              "    <tr>\n",
              "      <th>4</th>\n",
              "      <td>148.0</td>\n",
              "      <td>10/13/2015</td>\n",
              "      <td>85</td>\n",
              "    </tr>\n",
              "  </tbody>\n",
              "</table>\n",
              "</div>\n",
              "      <button class=\"colab-df-convert\" onclick=\"convertToInteractive('df-ab93bfb9-7eac-42b6-a023-2d05156c73bf')\"\n",
              "              title=\"Convert this dataframe to an interactive table.\"\n",
              "              style=\"display:none;\">\n",
              "        \n",
              "  <svg xmlns=\"http://www.w3.org/2000/svg\" height=\"24px\"viewBox=\"0 0 24 24\"\n",
              "       width=\"24px\">\n",
              "    <path d=\"M0 0h24v24H0V0z\" fill=\"none\"/>\n",
              "    <path d=\"M18.56 5.44l.94 2.06.94-2.06 2.06-.94-2.06-.94-.94-2.06-.94 2.06-2.06.94zm-11 1L8.5 8.5l.94-2.06 2.06-.94-2.06-.94L8.5 2.5l-.94 2.06-2.06.94zm10 10l.94 2.06.94-2.06 2.06-.94-2.06-.94-.94-2.06-.94 2.06-2.06.94z\"/><path d=\"M17.41 7.96l-1.37-1.37c-.4-.4-.92-.59-1.43-.59-.52 0-1.04.2-1.43.59L10.3 9.45l-7.72 7.72c-.78.78-.78 2.05 0 2.83L4 21.41c.39.39.9.59 1.41.59.51 0 1.02-.2 1.41-.59l7.78-7.78 2.81-2.81c.8-.78.8-2.07 0-2.86zM5.41 20L4 18.59l7.72-7.72 1.47 1.35L5.41 20z\"/>\n",
              "  </svg>\n",
              "      </button>\n",
              "      \n",
              "  <style>\n",
              "    .colab-df-container {\n",
              "      display:flex;\n",
              "      flex-wrap:wrap;\n",
              "      gap: 12px;\n",
              "    }\n",
              "\n",
              "    .colab-df-convert {\n",
              "      background-color: #E8F0FE;\n",
              "      border: none;\n",
              "      border-radius: 50%;\n",
              "      cursor: pointer;\n",
              "      display: none;\n",
              "      fill: #1967D2;\n",
              "      height: 32px;\n",
              "      padding: 0 0 0 0;\n",
              "      width: 32px;\n",
              "    }\n",
              "\n",
              "    .colab-df-convert:hover {\n",
              "      background-color: #E2EBFA;\n",
              "      box-shadow: 0px 1px 2px rgba(60, 64, 67, 0.3), 0px 1px 3px 1px rgba(60, 64, 67, 0.15);\n",
              "      fill: #174EA6;\n",
              "    }\n",
              "\n",
              "    [theme=dark] .colab-df-convert {\n",
              "      background-color: #3B4455;\n",
              "      fill: #D2E3FC;\n",
              "    }\n",
              "\n",
              "    [theme=dark] .colab-df-convert:hover {\n",
              "      background-color: #434B5C;\n",
              "      box-shadow: 0px 1px 3px 1px rgba(0, 0, 0, 0.15);\n",
              "      filter: drop-shadow(0px 1px 2px rgba(0, 0, 0, 0.3));\n",
              "      fill: #FFFFFF;\n",
              "    }\n",
              "  </style>\n",
              "\n",
              "      <script>\n",
              "        const buttonEl =\n",
              "          document.querySelector('#df-ab93bfb9-7eac-42b6-a023-2d05156c73bf button.colab-df-convert');\n",
              "        buttonEl.style.display =\n",
              "          google.colab.kernel.accessAllowed ? 'block' : 'none';\n",
              "\n",
              "        async function convertToInteractive(key) {\n",
              "          const element = document.querySelector('#df-ab93bfb9-7eac-42b6-a023-2d05156c73bf');\n",
              "          const dataTable =\n",
              "            await google.colab.kernel.invokeFunction('convertToInteractive',\n",
              "                                                     [key], {});\n",
              "          if (!dataTable) return;\n",
              "\n",
              "          const docLinkHtml = 'Like what you see? Visit the ' +\n",
              "            '<a target=\"_blank\" href=https://colab.research.google.com/notebooks/data_table.ipynb>data table notebook</a>'\n",
              "            + ' to learn more about interactive tables.';\n",
              "          element.innerHTML = '';\n",
              "          dataTable['output_type'] = 'display_data';\n",
              "          await google.colab.output.renderOutput(dataTable, element);\n",
              "          const docLink = document.createElement('div');\n",
              "          docLink.innerHTML = docLinkHtml;\n",
              "          element.appendChild(docLink);\n",
              "        }\n",
              "      </script>\n",
              "    </div>\n",
              "  </div>\n",
              "  "
            ]
          },
          "metadata": {},
          "execution_count": 6
        }
      ],
      "source": [
        "df_sm.head()"
      ]
    },
    {
      "cell_type": "code",
      "execution_count": 7,
      "id": "d11f69ac",
      "metadata": {
        "colab": {
          "base_uri": "https://localhost:8080/"
        },
        "id": "d11f69ac",
        "outputId": "bc2d039e-2661-44e9-d992-605859bf0a0d"
      },
      "outputs": [
        {
          "output_type": "stream",
          "name": "stdout",
          "text": [
            "Size of the data: (533390, 3)\n",
            "Total number of unique Theme Ids in Social Media Data: 193\n",
            "List of themes available in Social Media Data: [8.0, 15.0, 26.0, 38.0, 39.0, 40.0, 65.0, 75.0, 79.0, 81.0, 100.0, 101.0, 120.0, 125.0, 138.0, 139.0, 142.0, 143.0, 144.0, 145.0, 147.0, 148.0, 151.0, 152.0, 158.0, 163.0, 171.0, 173.0, 177.0, 178.0, 187.0, 191.0, 192.0, 193.0, 197.0, 207.0, 211.0, 220.0, 227.0, 228.0, 384.0, 385.0, 388.0, 393.0, 430.0, 433.0, 437.0, 438.0, 440.0, 441.0, 507.0, 508.0, 509.0, 510.0, 514.0, 516.0, 517.0, 519.0, 521.0, 526.0, 529.0, 531.0, 536.0, 541.0, 543.0, 552.0, 555.0, 556.0, 558.0, 566.0, 567.0, 574.0, 576.0, 583.0, 585.0, 587.0, 593.0, 594.0, 600.0, 601.0, 605.0, 606.0, 608.0, 613.0, 615.0, 616.0, 618.0, 620.0, 622.0, 632.0, 634.0, 650.0, 657.0, 659.0, 668.0, 670.0, 673.0, 677.0, 681.0, 682.0, 683.0, 684.0, 689.0, 702.0, 704.0, 707.0, 713.0, 716.0, 720.0, 727.0, 732.0, 737.0, 738.0, 741.0, 743.0, 747.0, 754.0, 755.0, 761.0, 769.0, 770.0, 776.0, 777.0, 780.0, 782.0, 785.0, 788.0, 789.0, 799.0, 803.0, 813.0, 816.0, 821.0, 823.0, 832.0, 839.0, 842.0, 843.0, 844.0, 847.0, 852.0, 860.0, 867.0, 868.0, 869.0, 870.0, 873.0, 876.0, 877.0, 884.0, 887.0, 889.0, 900.0, 901.0, 903.0, 904.0, 906.0, 908.0, 913.0, 915.0, 916.0, 918.0, 919.0, 922.0, 928.0, 929.0, 930.0, 931.0, 937.0, 941.0, 944.0, 946.0, 948.0, 949.0, 957.0, 958.0, 959.0, 960.0, 963.0, 964.0, 965.0, 967.0, 970.0, 974.0, 977.0, 979.0, 980.0, 981.0, 982.0, 983.0, 984.0, 985.0, 999.0, nan]\n",
            "Percentage of records with missing values in theme id: 40.97 %\n"
          ]
        }
      ],
      "source": [
        "print('Size of the data:',df_sm.shape)\n",
        "print('Total number of unique Theme Ids in Social Media Data:',df_sm['Theme Id'].nunique())\n",
        "print('List of themes available in Social Media Data:', list(sorted(df_sm['Theme Id'].unique())))\n",
        "print('Percentage of records with missing values in theme id:',round(df_sm[df_sm['Theme Id'].isnull()].shape[0]*100/df_sm.shape[0],2),'%')"
      ]
    },
    {
      "cell_type": "code",
      "source": [
        "df_sm.isnull().sum()"
      ],
      "metadata": {
        "colab": {
          "base_uri": "https://localhost:8080/"
        },
        "id": "5qx1zqy7MLdE",
        "outputId": "6a1f84cd-ec2e-4246-dae8-ed1b29de04c6"
      },
      "id": "5qx1zqy7MLdE",
      "execution_count": 8,
      "outputs": [
        {
          "output_type": "execute_result",
          "data": {
            "text/plain": [
              "Theme Id          218511\n",
              "published_date         0\n",
              "total_post             0\n",
              "dtype: int64"
            ]
          },
          "metadata": {},
          "execution_count": 8
        }
      ]
    },
    {
      "cell_type": "code",
      "source": [
        "df_sm.info()"
      ],
      "metadata": {
        "colab": {
          "base_uri": "https://localhost:8080/"
        },
        "id": "VJZHM5uAVWaH",
        "outputId": "cc0dbe0c-3aa6-42fe-c4c7-687ba959c3a7"
      },
      "id": "VJZHM5uAVWaH",
      "execution_count": 10,
      "outputs": [
        {
          "output_type": "stream",
          "name": "stdout",
          "text": [
            "<class 'pandas.core.frame.DataFrame'>\n",
            "RangeIndex: 533390 entries, 0 to 533389\n",
            "Data columns (total 3 columns):\n",
            " #   Column          Non-Null Count   Dtype  \n",
            "---  ------          --------------   -----  \n",
            " 0   Theme Id        314879 non-null  float64\n",
            " 1   published_date  533390 non-null  object \n",
            " 2   total_post      533390 non-null  int64  \n",
            "dtypes: float64(1), int64(1), object(1)\n",
            "memory usage: 12.2+ MB\n"
          ]
        }
      ]
    },
    {
      "cell_type": "code",
      "source": [
        "#df_sm.describe()"
      ],
      "metadata": {
        "id": "tXuUc2VkVa6f"
      },
      "id": "tXuUc2VkVa6f",
      "execution_count": 11,
      "outputs": []
    },
    {
      "cell_type": "code",
      "source": [
        "df_sm['Theme Id'].value_counts(dropna=False)"
      ],
      "metadata": {
        "colab": {
          "base_uri": "https://localhost:8080/"
        },
        "id": "hn3GsHw9M6-f",
        "outputId": "0ddfed10-d84b-4d94-fc2b-775f6a274453"
      },
      "id": "hn3GsHw9M6-f",
      "execution_count": 12,
      "outputs": [
        {
          "output_type": "execute_result",
          "data": {
            "text/plain": [
              "NaN      218511\n",
              "788.0      3223\n",
              "967.0      3223\n",
              "430.0      1625\n",
              "26.0       1625\n",
              "          ...  \n",
              "543.0      1597\n",
              "670.0      1511\n",
              "922.0      1511\n",
              "576.0      1511\n",
              "634.0      1511\n",
              "Name: Theme Id, Length: 194, dtype: int64"
            ]
          },
          "metadata": {},
          "execution_count": 12
        }
      ]
    },
    {
      "cell_type": "code",
      "source": [
        "df_sm['Theme Id'].value_counts(dropna=False).reset_index().rename(columns={'index':'Theme id', 'Theme Id': 'Count'})"
      ],
      "metadata": {
        "colab": {
          "base_uri": "https://localhost:8080/",
          "height": 423
        },
        "id": "Nuk_OIfT03MN",
        "outputId": "4c1ded28-b7c9-49ce-d16f-abd0756dfd71"
      },
      "id": "Nuk_OIfT03MN",
      "execution_count": 185,
      "outputs": [
        {
          "output_type": "execute_result",
          "data": {
            "text/plain": [
              "     Theme id   Count\n",
              "0         NaN  218511\n",
              "1     788.000    3223\n",
              "2     967.000    3223\n",
              "3     430.000    1625\n",
              "4      26.000    1625\n",
              "..        ...     ...\n",
              "189   543.000    1597\n",
              "190   670.000    1511\n",
              "191   922.000    1511\n",
              "192   576.000    1511\n",
              "193   634.000    1511\n",
              "\n",
              "[194 rows x 2 columns]"
            ],
            "text/html": [
              "\n",
              "  <div id=\"df-b6c524eb-9904-4a91-a85a-21e455661b0d\">\n",
              "    <div class=\"colab-df-container\">\n",
              "      <div>\n",
              "<style scoped>\n",
              "    .dataframe tbody tr th:only-of-type {\n",
              "        vertical-align: middle;\n",
              "    }\n",
              "\n",
              "    .dataframe tbody tr th {\n",
              "        vertical-align: top;\n",
              "    }\n",
              "\n",
              "    .dataframe thead th {\n",
              "        text-align: right;\n",
              "    }\n",
              "</style>\n",
              "<table border=\"1\" class=\"dataframe\">\n",
              "  <thead>\n",
              "    <tr style=\"text-align: right;\">\n",
              "      <th></th>\n",
              "      <th>Theme id</th>\n",
              "      <th>Count</th>\n",
              "    </tr>\n",
              "  </thead>\n",
              "  <tbody>\n",
              "    <tr>\n",
              "      <th>0</th>\n",
              "      <td>NaN</td>\n",
              "      <td>218511</td>\n",
              "    </tr>\n",
              "    <tr>\n",
              "      <th>1</th>\n",
              "      <td>788.000</td>\n",
              "      <td>3223</td>\n",
              "    </tr>\n",
              "    <tr>\n",
              "      <th>2</th>\n",
              "      <td>967.000</td>\n",
              "      <td>3223</td>\n",
              "    </tr>\n",
              "    <tr>\n",
              "      <th>3</th>\n",
              "      <td>430.000</td>\n",
              "      <td>1625</td>\n",
              "    </tr>\n",
              "    <tr>\n",
              "      <th>4</th>\n",
              "      <td>26.000</td>\n",
              "      <td>1625</td>\n",
              "    </tr>\n",
              "    <tr>\n",
              "      <th>...</th>\n",
              "      <td>...</td>\n",
              "      <td>...</td>\n",
              "    </tr>\n",
              "    <tr>\n",
              "      <th>189</th>\n",
              "      <td>543.000</td>\n",
              "      <td>1597</td>\n",
              "    </tr>\n",
              "    <tr>\n",
              "      <th>190</th>\n",
              "      <td>670.000</td>\n",
              "      <td>1511</td>\n",
              "    </tr>\n",
              "    <tr>\n",
              "      <th>191</th>\n",
              "      <td>922.000</td>\n",
              "      <td>1511</td>\n",
              "    </tr>\n",
              "    <tr>\n",
              "      <th>192</th>\n",
              "      <td>576.000</td>\n",
              "      <td>1511</td>\n",
              "    </tr>\n",
              "    <tr>\n",
              "      <th>193</th>\n",
              "      <td>634.000</td>\n",
              "      <td>1511</td>\n",
              "    </tr>\n",
              "  </tbody>\n",
              "</table>\n",
              "<p>194 rows × 2 columns</p>\n",
              "</div>\n",
              "      <button class=\"colab-df-convert\" onclick=\"convertToInteractive('df-b6c524eb-9904-4a91-a85a-21e455661b0d')\"\n",
              "              title=\"Convert this dataframe to an interactive table.\"\n",
              "              style=\"display:none;\">\n",
              "        \n",
              "  <svg xmlns=\"http://www.w3.org/2000/svg\" height=\"24px\"viewBox=\"0 0 24 24\"\n",
              "       width=\"24px\">\n",
              "    <path d=\"M0 0h24v24H0V0z\" fill=\"none\"/>\n",
              "    <path d=\"M18.56 5.44l.94 2.06.94-2.06 2.06-.94-2.06-.94-.94-2.06-.94 2.06-2.06.94zm-11 1L8.5 8.5l.94-2.06 2.06-.94-2.06-.94L8.5 2.5l-.94 2.06-2.06.94zm10 10l.94 2.06.94-2.06 2.06-.94-2.06-.94-.94-2.06-.94 2.06-2.06.94z\"/><path d=\"M17.41 7.96l-1.37-1.37c-.4-.4-.92-.59-1.43-.59-.52 0-1.04.2-1.43.59L10.3 9.45l-7.72 7.72c-.78.78-.78 2.05 0 2.83L4 21.41c.39.39.9.59 1.41.59.51 0 1.02-.2 1.41-.59l7.78-7.78 2.81-2.81c.8-.78.8-2.07 0-2.86zM5.41 20L4 18.59l7.72-7.72 1.47 1.35L5.41 20z\"/>\n",
              "  </svg>\n",
              "      </button>\n",
              "      \n",
              "  <style>\n",
              "    .colab-df-container {\n",
              "      display:flex;\n",
              "      flex-wrap:wrap;\n",
              "      gap: 12px;\n",
              "    }\n",
              "\n",
              "    .colab-df-convert {\n",
              "      background-color: #E8F0FE;\n",
              "      border: none;\n",
              "      border-radius: 50%;\n",
              "      cursor: pointer;\n",
              "      display: none;\n",
              "      fill: #1967D2;\n",
              "      height: 32px;\n",
              "      padding: 0 0 0 0;\n",
              "      width: 32px;\n",
              "    }\n",
              "\n",
              "    .colab-df-convert:hover {\n",
              "      background-color: #E2EBFA;\n",
              "      box-shadow: 0px 1px 2px rgba(60, 64, 67, 0.3), 0px 1px 3px 1px rgba(60, 64, 67, 0.15);\n",
              "      fill: #174EA6;\n",
              "    }\n",
              "\n",
              "    [theme=dark] .colab-df-convert {\n",
              "      background-color: #3B4455;\n",
              "      fill: #D2E3FC;\n",
              "    }\n",
              "\n",
              "    [theme=dark] .colab-df-convert:hover {\n",
              "      background-color: #434B5C;\n",
              "      box-shadow: 0px 1px 3px 1px rgba(0, 0, 0, 0.15);\n",
              "      filter: drop-shadow(0px 1px 2px rgba(0, 0, 0, 0.3));\n",
              "      fill: #FFFFFF;\n",
              "    }\n",
              "  </style>\n",
              "\n",
              "      <script>\n",
              "        const buttonEl =\n",
              "          document.querySelector('#df-b6c524eb-9904-4a91-a85a-21e455661b0d button.colab-df-convert');\n",
              "        buttonEl.style.display =\n",
              "          google.colab.kernel.accessAllowed ? 'block' : 'none';\n",
              "\n",
              "        async function convertToInteractive(key) {\n",
              "          const element = document.querySelector('#df-b6c524eb-9904-4a91-a85a-21e455661b0d');\n",
              "          const dataTable =\n",
              "            await google.colab.kernel.invokeFunction('convertToInteractive',\n",
              "                                                     [key], {});\n",
              "          if (!dataTable) return;\n",
              "\n",
              "          const docLinkHtml = 'Like what you see? Visit the ' +\n",
              "            '<a target=\"_blank\" href=https://colab.research.google.com/notebooks/data_table.ipynb>data table notebook</a>'\n",
              "            + ' to learn more about interactive tables.';\n",
              "          element.innerHTML = '';\n",
              "          dataTable['output_type'] = 'display_data';\n",
              "          await google.colab.output.renderOutput(dataTable, element);\n",
              "          const docLink = document.createElement('div');\n",
              "          docLink.innerHTML = docLinkHtml;\n",
              "          element.appendChild(docLink);\n",
              "        }\n",
              "      </script>\n",
              "    </div>\n",
              "  </div>\n",
              "  "
            ]
          },
          "metadata": {},
          "execution_count": 185
        }
      ]
    },
    {
      "cell_type": "code",
      "source": [
        "fig = plt.figure() \n",
        "fig.set_size_inches(15, 8)\n",
        "sns.histplot(data=df_sm, x = 'Theme Id')\n",
        "plt.title('Count of Records')\n",
        "plt.show()"
      ],
      "metadata": {
        "colab": {
          "base_uri": "https://localhost:8080/",
          "height": 518
        },
        "id": "AdYEXXMm-EuC",
        "outputId": "cc2def86-c213-4580-d2b6-041c7328266c"
      },
      "id": "AdYEXXMm-EuC",
      "execution_count": 106,
      "outputs": [
        {
          "output_type": "display_data",
          "data": {
            "text/plain": [
              "<Figure size 1080x576 with 1 Axes>"
            ],
            "image/png": "[encoded data removed]"
          },
          "metadata": {}
        }
      ]
    },
    {
      "cell_type": "code",
      "source": [
        "pd.set_option('display.float_format', lambda x: '%.3f' % x)\n",
        "df_sm.groupby('Theme Id').sum().reset_index()['total_post'].describe()"
      ],
      "metadata": {
        "colab": {
          "base_uri": "https://localhost:8080/"
        },
        "id": "8Zi-A0NqAqo1",
        "outputId": "06aa9890-f2ad-43e5-82e7-84cc181dc03e"
      },
      "id": "8Zi-A0NqAqo1",
      "execution_count": 118,
      "outputs": [
        {
          "output_type": "execute_result",
          "data": {
            "text/plain": [
              "count       193.000\n",
              "mean     211336.601\n",
              "std      632051.142\n",
              "min           0.000\n",
              "25%        3877.000\n",
              "50%       24946.000\n",
              "75%      118200.000\n",
              "max     5329592.000\n",
              "Name: total_post, dtype: float64"
            ]
          },
          "metadata": {},
          "execution_count": 118
        }
      ]
    },
    {
      "cell_type": "code",
      "source": [
        "fig = plt.figure() \n",
        "fig.set_size_inches(15, 8)\n",
        "sns.scatterplot(data=df_sm.groupby('Theme Id').sum().reset_index(), x = 'Theme Id',y='total_post')\n",
        "plt.title('Total number of posts')\n",
        "plt.show()"
      ],
      "metadata": {
        "colab": {
          "base_uri": "https://localhost:8080/",
          "height": 518
        },
        "id": "TgVm7xxCADSh",
        "outputId": "bc7f65ba-171c-4b83-e31f-bb7e53e2533f"
      },
      "id": "TgVm7xxCADSh",
      "execution_count": 119,
      "outputs": [
        {
          "output_type": "display_data",
          "data": {
            "text/plain": [
              "<Figure size 1080x576 with 1 Axes>"
            ],
            "image/png": "[encoded data removed]"
          },
          "metadata": {}
        }
      ]
    },
    {
      "cell_type": "code",
      "source": [
        "df_sm.sum()"
      ],
      "metadata": {
        "colab": {
          "base_uri": "https://localhost:8080/"
        },
        "id": "O5Zvem_DmAHD",
        "outputId": "0375915b-dac2-4b05-ceb4-cb7ed4672bef"
      },
      "id": "O5Zvem_DmAHD",
      "execution_count": 13,
      "outputs": [
        {
          "output_type": "stream",
          "name": "stderr",
          "text": [
            "/usr/local/lib/python3.7/dist-packages/ipykernel_launcher.py:1: FutureWarning: Dropping of nuisance columns in DataFrame reductions (with 'numeric_only=None') is deprecated; in a future version this will raise TypeError.  Select only valid columns before calling the reduction.\n",
            "  \"\"\"Entry point for launching an IPython kernel.\n"
          ]
        },
        {
          "output_type": "execute_result",
          "data": {
            "text/plain": [
              "Theme Id      194820061.0\n",
              "total_post    562377021.0\n",
              "dtype: float64"
            ]
          },
          "metadata": {},
          "execution_count": 13
        }
      ]
    },
    {
      "cell_type": "code",
      "source": [
        "521589057*100/562377021.0 # 92% of the total posts dont have Theme ID"
      ],
      "metadata": {
        "colab": {
          "base_uri": "https://localhost:8080/"
        },
        "id": "1R2XN7D5mPmX",
        "outputId": "df98c173-84be-4aec-bae5-70345f1b6a24"
      },
      "id": "1R2XN7D5mPmX",
      "execution_count": 14,
      "outputs": [
        {
          "output_type": "execute_result",
          "data": {
            "text/plain": [
              "92.74722072970332"
            ]
          },
          "metadata": {},
          "execution_count": 14
        }
      ]
    },
    {
      "cell_type": "code",
      "source": [
        "df_sm.groupby('Theme Id', dropna=False).sum().sort_values(by='total_post', ascending=False)"
      ],
      "metadata": {
        "id": "Ct6DGQtL_Abi",
        "outputId": "d60a5f48-9cd6-44e7-9db8-b24caaaa2ba9",
        "colab": {
          "base_uri": "https://localhost:8080/",
          "height": 455
        }
      },
      "id": "Ct6DGQtL_Abi",
      "execution_count": 15,
      "outputs": [
        {
          "output_type": "execute_result",
          "data": {
            "text/plain": [
              "          total_post\n",
              "Theme Id            \n",
              "NaN        521589057\n",
              "576.0        5329592\n",
              "670.0        4609405\n",
              "770.0        2821690\n",
              "668.0        2462718\n",
              "...              ...\n",
              "919.0             29\n",
              "727.0             22\n",
              "388.0             10\n",
              "139.0              3\n",
              "900.0              0\n",
              "\n",
              "[194 rows x 1 columns]"
            ],
            "text/html": [
              "\n",
              "  <div id=\"df-bc85801f-f028-4d7c-a537-f30b1370648d\">\n",
              "    <div class=\"colab-df-container\">\n",
              "      <div>\n",
              "<style scoped>\n",
              "    .dataframe tbody tr th:only-of-type {\n",
              "        vertical-align: middle;\n",
              "    }\n",
              "\n",
              "    .dataframe tbody tr th {\n",
              "        vertical-align: top;\n",
              "    }\n",
              "\n",
              "    .dataframe thead th {\n",
              "        text-align: right;\n",
              "    }\n",
              "</style>\n",
              "<table border=\"1\" class=\"dataframe\">\n",
              "  <thead>\n",
              "    <tr style=\"text-align: right;\">\n",
              "      <th></th>\n",
              "      <th>total_post</th>\n",
              "    </tr>\n",
              "    <tr>\n",
              "      <th>Theme Id</th>\n",
              "      <th></th>\n",
              "    </tr>\n",
              "  </thead>\n",
              "  <tbody>\n",
              "    <tr>\n",
              "      <th>NaN</th>\n",
              "      <td>521589057</td>\n",
              "    </tr>\n",
              "    <tr>\n",
              "      <th>576.0</th>\n",
              "      <td>5329592</td>\n",
              "    </tr>\n",
              "    <tr>\n",
              "      <th>670.0</th>\n",
              "      <td>4609405</td>\n",
              "    </tr>\n",
              "    <tr>\n",
              "      <th>770.0</th>\n",
              "      <td>2821690</td>\n",
              "    </tr>\n",
              "    <tr>\n",
              "      <th>668.0</th>\n",
              "      <td>2462718</td>\n",
              "    </tr>\n",
              "    <tr>\n",
              "      <th>...</th>\n",
              "      <td>...</td>\n",
              "    </tr>\n",
              "    <tr>\n",
              "      <th>919.0</th>\n",
              "      <td>29</td>\n",
              "    </tr>\n",
              "    <tr>\n",
              "      <th>727.0</th>\n",
              "      <td>22</td>\n",
              "    </tr>\n",
              "    <tr>\n",
              "      <th>388.0</th>\n",
              "      <td>10</td>\n",
              "    </tr>\n",
              "    <tr>\n",
              "      <th>139.0</th>\n",
              "      <td>3</td>\n",
              "    </tr>\n",
              "    <tr>\n",
              "      <th>900.0</th>\n",
              "      <td>0</td>\n",
              "    </tr>\n",
              "  </tbody>\n",
              "</table>\n",
              "<p>194 rows × 1 columns</p>\n",
              "</div>\n",
              "      <button class=\"colab-df-convert\" onclick=\"convertToInteractive('df-bc85801f-f028-4d7c-a537-f30b1370648d')\"\n",
              "              title=\"Convert this dataframe to an interactive table.\"\n",
              "              style=\"display:none;\">\n",
              "        \n",
              "  <svg xmlns=\"http://www.w3.org/2000/svg\" height=\"24px\"viewBox=\"0 0 24 24\"\n",
              "       width=\"24px\">\n",
              "    <path d=\"M0 0h24v24H0V0z\" fill=\"none\"/>\n",
              "    <path d=\"M18.56 5.44l.94 2.06.94-2.06 2.06-.94-2.06-.94-.94-2.06-.94 2.06-2.06.94zm-11 1L8.5 8.5l.94-2.06 2.06-.94-2.06-.94L8.5 2.5l-.94 2.06-2.06.94zm10 10l.94 2.06.94-2.06 2.06-.94-2.06-.94-.94-2.06-.94 2.06-2.06.94z\"/><path d=\"M17.41 7.96l-1.37-1.37c-.4-.4-.92-.59-1.43-.59-.52 0-1.04.2-1.43.59L10.3 9.45l-7.72 7.72c-.78.78-.78 2.05 0 2.83L4 21.41c.39.39.9.59 1.41.59.51 0 1.02-.2 1.41-.59l7.78-7.78 2.81-2.81c.8-.78.8-2.07 0-2.86zM5.41 20L4 18.59l7.72-7.72 1.47 1.35L5.41 20z\"/>\n",
              "  </svg>\n",
              "      </button>\n",
              "      \n",
              "  <style>\n",
              "    .colab-df-container {\n",
              "      display:flex;\n",
              "      flex-wrap:wrap;\n",
              "      gap: 12px;\n",
              "    }\n",
              "\n",
              "    .colab-df-convert {\n",
              "      background-color: #E8F0FE;\n",
              "      border: none;\n",
              "      border-radius: 50%;\n",
              "      cursor: pointer;\n",
              "      display: none;\n",
              "      fill: #1967D2;\n",
              "      height: 32px;\n",
              "      padding: 0 0 0 0;\n",
              "      width: 32px;\n",
              "    }\n",
              "\n",
              "    .colab-df-convert:hover {\n",
              "      background-color: #E2EBFA;\n",
              "      box-shadow: 0px 1px 2px rgba(60, 64, 67, 0.3), 0px 1px 3px 1px rgba(60, 64, 67, 0.15);\n",
              "      fill: #174EA6;\n",
              "    }\n",
              "\n",
              "    [theme=dark] .colab-df-convert {\n",
              "      background-color: #3B4455;\n",
              "      fill: #D2E3FC;\n",
              "    }\n",
              "\n",
              "    [theme=dark] .colab-df-convert:hover {\n",
              "      background-color: #434B5C;\n",
              "      box-shadow: 0px 1px 3px 1px rgba(0, 0, 0, 0.15);\n",
              "      filter: drop-shadow(0px 1px 2px rgba(0, 0, 0, 0.3));\n",
              "      fill: #FFFFFF;\n",
              "    }\n",
              "  </style>\n",
              "\n",
              "      <script>\n",
              "        const buttonEl =\n",
              "          document.querySelector('#df-bc85801f-f028-4d7c-a537-f30b1370648d button.colab-df-convert');\n",
              "        buttonEl.style.display =\n",
              "          google.colab.kernel.accessAllowed ? 'block' : 'none';\n",
              "\n",
              "        async function convertToInteractive(key) {\n",
              "          const element = document.querySelector('#df-bc85801f-f028-4d7c-a537-f30b1370648d');\n",
              "          const dataTable =\n",
              "            await google.colab.kernel.invokeFunction('convertToInteractive',\n",
              "                                                     [key], {});\n",
              "          if (!dataTable) return;\n",
              "\n",
              "          const docLinkHtml = 'Like what you see? Visit the ' +\n",
              "            '<a target=\"_blank\" href=https://colab.research.google.com/notebooks/data_table.ipynb>data table notebook</a>'\n",
              "            + ' to learn more about interactive tables.';\n",
              "          element.innerHTML = '';\n",
              "          dataTable['output_type'] = 'display_data';\n",
              "          await google.colab.output.renderOutput(dataTable, element);\n",
              "          const docLink = document.createElement('div');\n",
              "          docLink.innerHTML = docLinkHtml;\n",
              "          element.appendChild(docLink);\n",
              "        }\n",
              "      </script>\n",
              "    </div>\n",
              "  </div>\n",
              "  "
            ]
          },
          "metadata": {},
          "execution_count": 15
        }
      ]
    },
    {
      "cell_type": "code",
      "source": [
        "#data = df_sm.groupby('Theme Id').sum().sort_values(by='total_post').reset_index()\n",
        "#data.describe()"
      ],
      "metadata": {
        "id": "qPnHImBOSEQr"
      },
      "id": "qPnHImBOSEQr",
      "execution_count": 16,
      "outputs": []
    },
    {
      "cell_type": "code",
      "execution_count": 17,
      "id": "e0065743",
      "metadata": {
        "id": "e0065743",
        "colab": {
          "base_uri": "https://localhost:8080/"
        },
        "outputId": "367e21ed-8098-4c7a-cdbc-c60ed73fa61e"
      },
      "outputs": [
        {
          "output_type": "execute_result",
          "data": {
            "text/plain": [
              "0         2015-01-10 00:00:00\n",
              "1         2015-10-10 00:00:00\n",
              "2         2015-11-10 00:00:00\n",
              "3         2015-12-10 00:00:00\n",
              "4                  10/13/2015\n",
              "                 ...         \n",
              "533385    2019-05-09 00:00:00\n",
              "533386    2019-06-09 00:00:00\n",
              "533387    2019-07-09 00:00:00\n",
              "533388    2019-08-09 00:00:00\n",
              "533389    2019-09-09 00:00:00\n",
              "Name: published_date, Length: 533390, dtype: object"
            ]
          },
          "metadata": {},
          "execution_count": 17
        }
      ],
      "source": [
        "df_sm['published_date']"
      ]
    },
    {
      "cell_type": "code",
      "execution_count": 18,
      "id": "cbab7539",
      "metadata": {
        "id": "cbab7539"
      },
      "outputs": [],
      "source": [
        "df_sm['published_date'] = df_sm['published_date'].apply(lambda x: datetime.strptime(x,'%m/%d/%Y') if type(x)==str else x)"
      ]
    },
    {
      "cell_type": "code",
      "source": [
        "df_sm['published_date']"
      ],
      "metadata": {
        "id": "ffGJFAhQEMgk",
        "colab": {
          "base_uri": "https://localhost:8080/"
        },
        "outputId": "e79871be-71ef-48e3-e9a7-49fddf8fd973"
      },
      "id": "ffGJFAhQEMgk",
      "execution_count": 19,
      "outputs": [
        {
          "output_type": "execute_result",
          "data": {
            "text/plain": [
              "0        2015-01-10\n",
              "1        2015-10-10\n",
              "2        2015-11-10\n",
              "3        2015-12-10\n",
              "4        2015-10-13\n",
              "            ...    \n",
              "533385   2019-05-09\n",
              "533386   2019-06-09\n",
              "533387   2019-07-09\n",
              "533388   2019-08-09\n",
              "533389   2019-09-09\n",
              "Name: published_date, Length: 533390, dtype: datetime64[ns]"
            ]
          },
          "metadata": {},
          "execution_count": 19
        }
      ]
    },
    {
      "cell_type": "code",
      "source": [
        "df_sm['publish_year'] = df_sm['published_date'].apply(lambda x:x.year)\n",
        "df_sm['publish_month'] = df_sm['published_date'].apply(lambda x:x.month)\n",
        "df_sm['publish_week'] = df_sm['published_date'].apply(lambda x:x.isocalendar()[1])"
      ],
      "metadata": {
        "id": "PJFMeC3BEVf6"
      },
      "id": "PJFMeC3BEVf6",
      "execution_count": 20,
      "outputs": []
    },
    {
      "cell_type": "code",
      "source": [
        "df_sm"
      ],
      "metadata": {
        "colab": {
          "base_uri": "https://localhost:8080/",
          "height": 423
        },
        "id": "gs9NrAqpGoQZ",
        "outputId": "c52eb72c-1cc3-4da5-f59a-4ed3d30f7b9c"
      },
      "id": "gs9NrAqpGoQZ",
      "execution_count": 21,
      "outputs": [
        {
          "output_type": "execute_result",
          "data": {
            "text/plain": [
              "        Theme Id published_date  total_post  publish_year  publish_month  \\\n",
              "0          148.0     2015-01-10          76          2015              1   \n",
              "1          148.0     2015-10-10          31          2015             10   \n",
              "2          148.0     2015-11-10          65          2015             11   \n",
              "3          148.0     2015-12-10          88          2015             12   \n",
              "4          148.0     2015-10-13          85          2015             10   \n",
              "...          ...            ...         ...           ...            ...   \n",
              "533385     876.0     2019-05-09        4658          2019              5   \n",
              "533386     876.0     2019-06-09        3731          2019              6   \n",
              "533387     876.0     2019-07-09        2336          2019              7   \n",
              "533388     876.0     2019-08-09        1374          2019              8   \n",
              "533389     876.0     2019-09-09        1442          2019              9   \n",
              "\n",
              "        publish_week  \n",
              "0                  2  \n",
              "1                 41  \n",
              "2                 46  \n",
              "3                 50  \n",
              "4                 42  \n",
              "...              ...  \n",
              "533385            19  \n",
              "533386            23  \n",
              "533387            28  \n",
              "533388            32  \n",
              "533389            37  \n",
              "\n",
              "[533390 rows x 6 columns]"
            ],
            "text/html": [
              "\n",
              "  <div id=\"df-78ac48c5-428e-42b6-b90f-01ef5e56fd22\">\n",
              "    <div class=\"colab-df-container\">\n",
              "      <div>\n",
              "<style scoped>\n",
              "    .dataframe tbody tr th:only-of-type {\n",
              "        vertical-align: middle;\n",
              "    }\n",
              "\n",
              "    .dataframe tbody tr th {\n",
              "        vertical-align: top;\n",
              "    }\n",
              "\n",
              "    .dataframe thead th {\n",
              "        text-align: right;\n",
              "    }\n",
              "</style>\n",
              "<table border=\"1\" class=\"dataframe\">\n",
              "  <thead>\n",
              "    <tr style=\"text-align: right;\">\n",
              "      <th></th>\n",
              "      <th>Theme Id</th>\n",
              "      <th>published_date</th>\n",
              "      <th>total_post</th>\n",
              "      <th>publish_year</th>\n",
              "      <th>publish_month</th>\n",
              "      <th>publish_week</th>\n",
              "    </tr>\n",
              "  </thead>\n",
              "  <tbody>\n",
              "    <tr>\n",
              "      <th>0</th>\n",
              "      <td>148.0</td>\n",
              "      <td>2015-01-10</td>\n",
              "      <td>76</td>\n",
              "      <td>2015</td>\n",
              "      <td>1</td>\n",
              "      <td>2</td>\n",
              "    </tr>\n",
              "    <tr>\n",
              "      <th>1</th>\n",
              "      <td>148.0</td>\n",
              "      <td>2015-10-10</td>\n",
              "      <td>31</td>\n",
              "      <td>2015</td>\n",
              "      <td>10</td>\n",
              "      <td>41</td>\n",
              "    </tr>\n",
              "    <tr>\n",
              "      <th>2</th>\n",
              "      <td>148.0</td>\n",
              "      <td>2015-11-10</td>\n",
              "      <td>65</td>\n",
              "      <td>2015</td>\n",
              "      <td>11</td>\n",
              "      <td>46</td>\n",
              "    </tr>\n",
              "    <tr>\n",
              "      <th>3</th>\n",
              "      <td>148.0</td>\n",
              "      <td>2015-12-10</td>\n",
              "      <td>88</td>\n",
              "      <td>2015</td>\n",
              "      <td>12</td>\n",
              "      <td>50</td>\n",
              "    </tr>\n",
              "    <tr>\n",
              "      <th>4</th>\n",
              "      <td>148.0</td>\n",
              "      <td>2015-10-13</td>\n",
              "      <td>85</td>\n",
              "      <td>2015</td>\n",
              "      <td>10</td>\n",
              "      <td>42</td>\n",
              "    </tr>\n",
              "    <tr>\n",
              "      <th>...</th>\n",
              "      <td>...</td>\n",
              "      <td>...</td>\n",
              "      <td>...</td>\n",
              "      <td>...</td>\n",
              "      <td>...</td>\n",
              "      <td>...</td>\n",
              "    </tr>\n",
              "    <tr>\n",
              "      <th>533385</th>\n",
              "      <td>876.0</td>\n",
              "      <td>2019-05-09</td>\n",
              "      <td>4658</td>\n",
              "      <td>2019</td>\n",
              "      <td>5</td>\n",
              "      <td>19</td>\n",
              "    </tr>\n",
              "    <tr>\n",
              "      <th>533386</th>\n",
              "      <td>876.0</td>\n",
              "      <td>2019-06-09</td>\n",
              "      <td>3731</td>\n",
              "      <td>2019</td>\n",
              "      <td>6</td>\n",
              "      <td>23</td>\n",
              "    </tr>\n",
              "    <tr>\n",
              "      <th>533387</th>\n",
              "      <td>876.0</td>\n",
              "      <td>2019-07-09</td>\n",
              "      <td>2336</td>\n",
              "      <td>2019</td>\n",
              "      <td>7</td>\n",
              "      <td>28</td>\n",
              "    </tr>\n",
              "    <tr>\n",
              "      <th>533388</th>\n",
              "      <td>876.0</td>\n",
              "      <td>2019-08-09</td>\n",
              "      <td>1374</td>\n",
              "      <td>2019</td>\n",
              "      <td>8</td>\n",
              "      <td>32</td>\n",
              "    </tr>\n",
              "    <tr>\n",
              "      <th>533389</th>\n",
              "      <td>876.0</td>\n",
              "      <td>2019-09-09</td>\n",
              "      <td>1442</td>\n",
              "      <td>2019</td>\n",
              "      <td>9</td>\n",
              "      <td>37</td>\n",
              "    </tr>\n",
              "  </tbody>\n",
              "</table>\n",
              "<p>533390 rows × 6 columns</p>\n",
              "</div>\n",
              "      <button class=\"colab-df-convert\" onclick=\"convertToInteractive('df-78ac48c5-428e-42b6-b90f-01ef5e56fd22')\"\n",
              "              title=\"Convert this dataframe to an interactive table.\"\n",
              "              style=\"display:none;\">\n",
              "        \n",
              "  <svg xmlns=\"http://www.w3.org/2000/svg\" height=\"24px\"viewBox=\"0 0 24 24\"\n",
              "       width=\"24px\">\n",
              "    <path d=\"M0 0h24v24H0V0z\" fill=\"none\"/>\n",
              "    <path d=\"M18.56 5.44l.94 2.06.94-2.06 2.06-.94-2.06-.94-.94-2.06-.94 2.06-2.06.94zm-11 1L8.5 8.5l.94-2.06 2.06-.94-2.06-.94L8.5 2.5l-.94 2.06-2.06.94zm10 10l.94 2.06.94-2.06 2.06-.94-2.06-.94-.94-2.06-.94 2.06-2.06.94z\"/><path d=\"M17.41 7.96l-1.37-1.37c-.4-.4-.92-.59-1.43-.59-.52 0-1.04.2-1.43.59L10.3 9.45l-7.72 7.72c-.78.78-.78 2.05 0 2.83L4 21.41c.39.39.9.59 1.41.59.51 0 1.02-.2 1.41-.59l7.78-7.78 2.81-2.81c.8-.78.8-2.07 0-2.86zM5.41 20L4 18.59l7.72-7.72 1.47 1.35L5.41 20z\"/>\n",
              "  </svg>\n",
              "      </button>\n",
              "      \n",
              "  <style>\n",
              "    .colab-df-container {\n",
              "      display:flex;\n",
              "      flex-wrap:wrap;\n",
              "      gap: 12px;\n",
              "    }\n",
              "\n",
              "    .colab-df-convert {\n",
              "      background-color: #E8F0FE;\n",
              "      border: none;\n",
              "      border-radius: 50%;\n",
              "      cursor: pointer;\n",
              "      display: none;\n",
              "      fill: #1967D2;\n",
              "      height: 32px;\n",
              "      padding: 0 0 0 0;\n",
              "      width: 32px;\n",
              "    }\n",
              "\n",
              "    .colab-df-convert:hover {\n",
              "      background-color: #E2EBFA;\n",
              "      box-shadow: 0px 1px 2px rgba(60, 64, 67, 0.3), 0px 1px 3px 1px rgba(60, 64, 67, 0.15);\n",
              "      fill: #174EA6;\n",
              "    }\n",
              "\n",
              "    [theme=dark] .colab-df-convert {\n",
              "      background-color: #3B4455;\n",
              "      fill: #D2E3FC;\n",
              "    }\n",
              "\n",
              "    [theme=dark] .colab-df-convert:hover {\n",
              "      background-color: #434B5C;\n",
              "      box-shadow: 0px 1px 3px 1px rgba(0, 0, 0, 0.15);\n",
              "      filter: drop-shadow(0px 1px 2px rgba(0, 0, 0, 0.3));\n",
              "      fill: #FFFFFF;\n",
              "    }\n",
              "  </style>\n",
              "\n",
              "      <script>\n",
              "        const buttonEl =\n",
              "          document.querySelector('#df-78ac48c5-428e-42b6-b90f-01ef5e56fd22 button.colab-df-convert');\n",
              "        buttonEl.style.display =\n",
              "          google.colab.kernel.accessAllowed ? 'block' : 'none';\n",
              "\n",
              "        async function convertToInteractive(key) {\n",
              "          const element = document.querySelector('#df-78ac48c5-428e-42b6-b90f-01ef5e56fd22');\n",
              "          const dataTable =\n",
              "            await google.colab.kernel.invokeFunction('convertToInteractive',\n",
              "                                                     [key], {});\n",
              "          if (!dataTable) return;\n",
              "\n",
              "          const docLinkHtml = 'Like what you see? Visit the ' +\n",
              "            '<a target=\"_blank\" href=https://colab.research.google.com/notebooks/data_table.ipynb>data table notebook</a>'\n",
              "            + ' to learn more about interactive tables.';\n",
              "          element.innerHTML = '';\n",
              "          dataTable['output_type'] = 'display_data';\n",
              "          await google.colab.output.renderOutput(dataTable, element);\n",
              "          const docLink = document.createElement('div');\n",
              "          docLink.innerHTML = docLinkHtml;\n",
              "          element.appendChild(docLink);\n",
              "        }\n",
              "      </script>\n",
              "    </div>\n",
              "  </div>\n",
              "  "
            ]
          },
          "metadata": {},
          "execution_count": 21
        }
      ]
    },
    {
      "cell_type": "code",
      "source": [
        "#df = df_sm.groupby(['publish_year','Theme Id']).sum()['total_post'].reset_index().sort_values(by=['publish_year','total_post'])\n",
        "#df[df.publish_year==2017]"
      ],
      "metadata": {
        "id": "ETIY9NsBG3yG"
      },
      "id": "ETIY9NsBG3yG",
      "execution_count": 22,
      "outputs": []
    },
    {
      "cell_type": "code",
      "source": [
        "df_sm.describe()"
      ],
      "metadata": {
        "colab": {
          "base_uri": "https://localhost:8080/",
          "height": 300
        },
        "id": "6ClFprXcXdQ5",
        "outputId": "863bef7c-c79f-4a8f-a9b2-51a3f66f6298"
      },
      "id": "6ClFprXcXdQ5",
      "execution_count": 23,
      "outputs": [
        {
          "output_type": "execute_result",
          "data": {
            "text/plain": [
              "            Theme Id     total_post   publish_year  publish_month  \\\n",
              "count  314879.000000  533390.000000  533390.000000  533390.000000   \n",
              "mean      618.714049    1054.344890    2017.097133       6.604706   \n",
              "std       290.145829    4459.377626       1.323617       3.375816   \n",
              "min         8.000000       0.000000    2015.000000       1.000000   \n",
              "25%       440.000000       3.000000    2016.000000       4.000000   \n",
              "50%       677.000000      35.000000    2017.000000       7.000000   \n",
              "75%       870.000000     343.000000    2018.000000       9.000000   \n",
              "max       999.000000  369528.000000    2019.000000      12.000000   \n",
              "\n",
              "        publish_week  \n",
              "count  533390.000000  \n",
              "mean       27.016451  \n",
              "std        14.783147  \n",
              "min         1.000000  \n",
              "25%        14.000000  \n",
              "50%        27.000000  \n",
              "75%        40.000000  \n",
              "max        53.000000  "
            ],
            "text/html": [
              "\n",
              "  <div id=\"df-22cf0650-1d5d-4ea9-b82f-747ab2eeedb9\">\n",
              "    <div class=\"colab-df-container\">\n",
              "      <div>\n",
              "<style scoped>\n",
              "    .dataframe tbody tr th:only-of-type {\n",
              "        vertical-align: middle;\n",
              "    }\n",
              "\n",
              "    .dataframe tbody tr th {\n",
              "        vertical-align: top;\n",
              "    }\n",
              "\n",
              "    .dataframe thead th {\n",
              "        text-align: right;\n",
              "    }\n",
              "</style>\n",
              "<table border=\"1\" class=\"dataframe\">\n",
              "  <thead>\n",
              "    <tr style=\"text-align: right;\">\n",
              "      <th></th>\n",
              "      <th>Theme Id</th>\n",
              "      <th>total_post</th>\n",
              "      <th>publish_year</th>\n",
              "      <th>publish_month</th>\n",
              "      <th>publish_week</th>\n",
              "    </tr>\n",
              "  </thead>\n",
              "  <tbody>\n",
              "    <tr>\n",
              "      <th>count</th>\n",
              "      <td>314879.000000</td>\n",
              "      <td>533390.000000</td>\n",
              "      <td>533390.000000</td>\n",
              "      <td>533390.000000</td>\n",
              "      <td>533390.000000</td>\n",
              "    </tr>\n",
              "    <tr>\n",
              "      <th>mean</th>\n",
              "      <td>618.714049</td>\n",
              "      <td>1054.344890</td>\n",
              "      <td>2017.097133</td>\n",
              "      <td>6.604706</td>\n",
              "      <td>27.016451</td>\n",
              "    </tr>\n",
              "    <tr>\n",
              "      <th>std</th>\n",
              "      <td>290.145829</td>\n",
              "      <td>4459.377626</td>\n",
              "      <td>1.323617</td>\n",
              "      <td>3.375816</td>\n",
              "      <td>14.783147</td>\n",
              "    </tr>\n",
              "    <tr>\n",
              "      <th>min</th>\n",
              "      <td>8.000000</td>\n",
              "      <td>0.000000</td>\n",
              "      <td>2015.000000</td>\n",
              "      <td>1.000000</td>\n",
              "      <td>1.000000</td>\n",
              "    </tr>\n",
              "    <tr>\n",
              "      <th>25%</th>\n",
              "      <td>440.000000</td>\n",
              "      <td>3.000000</td>\n",
              "      <td>2016.000000</td>\n",
              "      <td>4.000000</td>\n",
              "      <td>14.000000</td>\n",
              "    </tr>\n",
              "    <tr>\n",
              "      <th>50%</th>\n",
              "      <td>677.000000</td>\n",
              "      <td>35.000000</td>\n",
              "      <td>2017.000000</td>\n",
              "      <td>7.000000</td>\n",
              "      <td>27.000000</td>\n",
              "    </tr>\n",
              "    <tr>\n",
              "      <th>75%</th>\n",
              "      <td>870.000000</td>\n",
              "      <td>343.000000</td>\n",
              "      <td>2018.000000</td>\n",
              "      <td>9.000000</td>\n",
              "      <td>40.000000</td>\n",
              "    </tr>\n",
              "    <tr>\n",
              "      <th>max</th>\n",
              "      <td>999.000000</td>\n",
              "      <td>369528.000000</td>\n",
              "      <td>2019.000000</td>\n",
              "      <td>12.000000</td>\n",
              "      <td>53.000000</td>\n",
              "    </tr>\n",
              "  </tbody>\n",
              "</table>\n",
              "</div>\n",
              "      <button class=\"colab-df-convert\" onclick=\"convertToInteractive('df-22cf0650-1d5d-4ea9-b82f-747ab2eeedb9')\"\n",
              "              title=\"Convert this dataframe to an interactive table.\"\n",
              "              style=\"display:none;\">\n",
              "        \n",
              "  <svg xmlns=\"http://www.w3.org/2000/svg\" height=\"24px\"viewBox=\"0 0 24 24\"\n",
              "       width=\"24px\">\n",
              "    <path d=\"M0 0h24v24H0V0z\" fill=\"none\"/>\n",
              "    <path d=\"M18.56 5.44l.94 2.06.94-2.06 2.06-.94-2.06-.94-.94-2.06-.94 2.06-2.06.94zm-11 1L8.5 8.5l.94-2.06 2.06-.94-2.06-.94L8.5 2.5l-.94 2.06-2.06.94zm10 10l.94 2.06.94-2.06 2.06-.94-2.06-.94-.94-2.06-.94 2.06-2.06.94z\"/><path d=\"M17.41 7.96l-1.37-1.37c-.4-.4-.92-.59-1.43-.59-.52 0-1.04.2-1.43.59L10.3 9.45l-7.72 7.72c-.78.78-.78 2.05 0 2.83L4 21.41c.39.39.9.59 1.41.59.51 0 1.02-.2 1.41-.59l7.78-7.78 2.81-2.81c.8-.78.8-2.07 0-2.86zM5.41 20L4 18.59l7.72-7.72 1.47 1.35L5.41 20z\"/>\n",
              "  </svg>\n",
              "      </button>\n",
              "      \n",
              "  <style>\n",
              "    .colab-df-container {\n",
              "      display:flex;\n",
              "      flex-wrap:wrap;\n",
              "      gap: 12px;\n",
              "    }\n",
              "\n",
              "    .colab-df-convert {\n",
              "      background-color: #E8F0FE;\n",
              "      border: none;\n",
              "      border-radius: 50%;\n",
              "      cursor: pointer;\n",
              "      display: none;\n",
              "      fill: #1967D2;\n",
              "      height: 32px;\n",
              "      padding: 0 0 0 0;\n",
              "      width: 32px;\n",
              "    }\n",
              "\n",
              "    .colab-df-convert:hover {\n",
              "      background-color: #E2EBFA;\n",
              "      box-shadow: 0px 1px 2px rgba(60, 64, 67, 0.3), 0px 1px 3px 1px rgba(60, 64, 67, 0.15);\n",
              "      fill: #174EA6;\n",
              "    }\n",
              "\n",
              "    [theme=dark] .colab-df-convert {\n",
              "      background-color: #3B4455;\n",
              "      fill: #D2E3FC;\n",
              "    }\n",
              "\n",
              "    [theme=dark] .colab-df-convert:hover {\n",
              "      background-color: #434B5C;\n",
              "      box-shadow: 0px 1px 3px 1px rgba(0, 0, 0, 0.15);\n",
              "      filter: drop-shadow(0px 1px 2px rgba(0, 0, 0, 0.3));\n",
              "      fill: #FFFFFF;\n",
              "    }\n",
              "  </style>\n",
              "\n",
              "      <script>\n",
              "        const buttonEl =\n",
              "          document.querySelector('#df-22cf0650-1d5d-4ea9-b82f-747ab2eeedb9 button.colab-df-convert');\n",
              "        buttonEl.style.display =\n",
              "          google.colab.kernel.accessAllowed ? 'block' : 'none';\n",
              "\n",
              "        async function convertToInteractive(key) {\n",
              "          const element = document.querySelector('#df-22cf0650-1d5d-4ea9-b82f-747ab2eeedb9');\n",
              "          const dataTable =\n",
              "            await google.colab.kernel.invokeFunction('convertToInteractive',\n",
              "                                                     [key], {});\n",
              "          if (!dataTable) return;\n",
              "\n",
              "          const docLinkHtml = 'Like what you see? Visit the ' +\n",
              "            '<a target=\"_blank\" href=https://colab.research.google.com/notebooks/data_table.ipynb>data table notebook</a>'\n",
              "            + ' to learn more about interactive tables.';\n",
              "          element.innerHTML = '';\n",
              "          dataTable['output_type'] = 'display_data';\n",
              "          await google.colab.output.renderOutput(dataTable, element);\n",
              "          const docLink = document.createElement('div');\n",
              "          docLink.innerHTML = docLinkHtml;\n",
              "          element.appendChild(docLink);\n",
              "        }\n",
              "      </script>\n",
              "    </div>\n",
              "  </div>\n",
              "  "
            ]
          },
          "metadata": {},
          "execution_count": 23
        }
      ]
    },
    {
      "cell_type": "code",
      "source": [
        "data  = df_sm.groupby(['publish_year','Theme Id']).count().reset_index().sort_values(by=['Theme Id','publish_year','total_post'])\n",
        "data[data.total_post>366][['Theme Id','publish_year','total_post']]"
      ],
      "metadata": {
        "colab": {
          "base_uri": "https://localhost:8080/",
          "height": 363
        },
        "id": "WIkeojDkxTmN",
        "outputId": "7c40e354-a6f2-4b68-87cd-bd5c1d683ad2"
      },
      "id": "WIkeojDkxTmN",
      "execution_count": 41,
      "outputs": [
        {
          "output_type": "execute_result",
          "data": {
            "text/plain": [
              "     Theme Id  publish_year  total_post\n",
              "126     788.0          2015         450\n",
              "319     788.0          2016         732\n",
              "512     788.0          2017         703\n",
              "705     788.0          2018         730\n",
              "898     788.0          2019         608\n",
              "181     967.0          2015         450\n",
              "374     967.0          2016         732\n",
              "567     967.0          2017         703\n",
              "760     967.0          2018         730\n",
              "953     967.0          2019         608"
            ],
            "text/html": [
              "\n",
              "  <div id=\"df-df437204-cdc6-40ec-9770-aee659884fc9\">\n",
              "    <div class=\"colab-df-container\">\n",
              "      <div>\n",
              "<style scoped>\n",
              "    .dataframe tbody tr th:only-of-type {\n",
              "        vertical-align: middle;\n",
              "    }\n",
              "\n",
              "    .dataframe tbody tr th {\n",
              "        vertical-align: top;\n",
              "    }\n",
              "\n",
              "    .dataframe thead th {\n",
              "        text-align: right;\n",
              "    }\n",
              "</style>\n",
              "<table border=\"1\" class=\"dataframe\">\n",
              "  <thead>\n",
              "    <tr style=\"text-align: right;\">\n",
              "      <th></th>\n",
              "      <th>Theme Id</th>\n",
              "      <th>publish_year</th>\n",
              "      <th>total_post</th>\n",
              "    </tr>\n",
              "  </thead>\n",
              "  <tbody>\n",
              "    <tr>\n",
              "      <th>126</th>\n",
              "      <td>788.0</td>\n",
              "      <td>2015</td>\n",
              "      <td>450</td>\n",
              "    </tr>\n",
              "    <tr>\n",
              "      <th>319</th>\n",
              "      <td>788.0</td>\n",
              "      <td>2016</td>\n",
              "      <td>732</td>\n",
              "    </tr>\n",
              "    <tr>\n",
              "      <th>512</th>\n",
              "      <td>788.0</td>\n",
              "      <td>2017</td>\n",
              "      <td>703</td>\n",
              "    </tr>\n",
              "    <tr>\n",
              "      <th>705</th>\n",
              "      <td>788.0</td>\n",
              "      <td>2018</td>\n",
              "      <td>730</td>\n",
              "    </tr>\n",
              "    <tr>\n",
              "      <th>898</th>\n",
              "      <td>788.0</td>\n",
              "      <td>2019</td>\n",
              "      <td>608</td>\n",
              "    </tr>\n",
              "    <tr>\n",
              "      <th>181</th>\n",
              "      <td>967.0</td>\n",
              "      <td>2015</td>\n",
              "      <td>450</td>\n",
              "    </tr>\n",
              "    <tr>\n",
              "      <th>374</th>\n",
              "      <td>967.0</td>\n",
              "      <td>2016</td>\n",
              "      <td>732</td>\n",
              "    </tr>\n",
              "    <tr>\n",
              "      <th>567</th>\n",
              "      <td>967.0</td>\n",
              "      <td>2017</td>\n",
              "      <td>703</td>\n",
              "    </tr>\n",
              "    <tr>\n",
              "      <th>760</th>\n",
              "      <td>967.0</td>\n",
              "      <td>2018</td>\n",
              "      <td>730</td>\n",
              "    </tr>\n",
              "    <tr>\n",
              "      <th>953</th>\n",
              "      <td>967.0</td>\n",
              "      <td>2019</td>\n",
              "      <td>608</td>\n",
              "    </tr>\n",
              "  </tbody>\n",
              "</table>\n",
              "</div>\n",
              "      <button class=\"colab-df-convert\" onclick=\"convertToInteractive('df-df437204-cdc6-40ec-9770-aee659884fc9')\"\n",
              "              title=\"Convert this dataframe to an interactive table.\"\n",
              "              style=\"display:none;\">\n",
              "        \n",
              "  <svg xmlns=\"http://www.w3.org/2000/svg\" height=\"24px\"viewBox=\"0 0 24 24\"\n",
              "       width=\"24px\">\n",
              "    <path d=\"M0 0h24v24H0V0z\" fill=\"none\"/>\n",
              "    <path d=\"M18.56 5.44l.94 2.06.94-2.06 2.06-.94-2.06-.94-.94-2.06-.94 2.06-2.06.94zm-11 1L8.5 8.5l.94-2.06 2.06-.94-2.06-.94L8.5 2.5l-.94 2.06-2.06.94zm10 10l.94 2.06.94-2.06 2.06-.94-2.06-.94-.94-2.06-.94 2.06-2.06.94z\"/><path d=\"M17.41 7.96l-1.37-1.37c-.4-.4-.92-.59-1.43-.59-.52 0-1.04.2-1.43.59L10.3 9.45l-7.72 7.72c-.78.78-.78 2.05 0 2.83L4 21.41c.39.39.9.59 1.41.59.51 0 1.02-.2 1.41-.59l7.78-7.78 2.81-2.81c.8-.78.8-2.07 0-2.86zM5.41 20L4 18.59l7.72-7.72 1.47 1.35L5.41 20z\"/>\n",
              "  </svg>\n",
              "      </button>\n",
              "      \n",
              "  <style>\n",
              "    .colab-df-container {\n",
              "      display:flex;\n",
              "      flex-wrap:wrap;\n",
              "      gap: 12px;\n",
              "    }\n",
              "\n",
              "    .colab-df-convert {\n",
              "      background-color: #E8F0FE;\n",
              "      border: none;\n",
              "      border-radius: 50%;\n",
              "      cursor: pointer;\n",
              "      display: none;\n",
              "      fill: #1967D2;\n",
              "      height: 32px;\n",
              "      padding: 0 0 0 0;\n",
              "      width: 32px;\n",
              "    }\n",
              "\n",
              "    .colab-df-convert:hover {\n",
              "      background-color: #E2EBFA;\n",
              "      box-shadow: 0px 1px 2px rgba(60, 64, 67, 0.3), 0px 1px 3px 1px rgba(60, 64, 67, 0.15);\n",
              "      fill: #174EA6;\n",
              "    }\n",
              "\n",
              "    [theme=dark] .colab-df-convert {\n",
              "      background-color: #3B4455;\n",
              "      fill: #D2E3FC;\n",
              "    }\n",
              "\n",
              "    [theme=dark] .colab-df-convert:hover {\n",
              "      background-color: #434B5C;\n",
              "      box-shadow: 0px 1px 3px 1px rgba(0, 0, 0, 0.15);\n",
              "      filter: drop-shadow(0px 1px 2px rgba(0, 0, 0, 0.3));\n",
              "      fill: #FFFFFF;\n",
              "    }\n",
              "  </style>\n",
              "\n",
              "      <script>\n",
              "        const buttonEl =\n",
              "          document.querySelector('#df-df437204-cdc6-40ec-9770-aee659884fc9 button.colab-df-convert');\n",
              "        buttonEl.style.display =\n",
              "          google.colab.kernel.accessAllowed ? 'block' : 'none';\n",
              "\n",
              "        async function convertToInteractive(key) {\n",
              "          const element = document.querySelector('#df-df437204-cdc6-40ec-9770-aee659884fc9');\n",
              "          const dataTable =\n",
              "            await google.colab.kernel.invokeFunction('convertToInteractive',\n",
              "                                                     [key], {});\n",
              "          if (!dataTable) return;\n",
              "\n",
              "          const docLinkHtml = 'Like what you see? Visit the ' +\n",
              "            '<a target=\"_blank\" href=https://colab.research.google.com/notebooks/data_table.ipynb>data table notebook</a>'\n",
              "            + ' to learn more about interactive tables.';\n",
              "          element.innerHTML = '';\n",
              "          dataTable['output_type'] = 'display_data';\n",
              "          await google.colab.output.renderOutput(dataTable, element);\n",
              "          const docLink = document.createElement('div');\n",
              "          docLink.innerHTML = docLinkHtml;\n",
              "          element.appendChild(docLink);\n",
              "        }\n",
              "      </script>\n",
              "    </div>\n",
              "  </div>\n",
              "  "
            ]
          },
          "metadata": {},
          "execution_count": 41
        }
      ]
    },
    {
      "cell_type": "code",
      "source": [
        "df_yearly = df_sm.groupby(['publish_year','Theme Id']).sum()['total_post'].reset_index().sort_values(by=['publish_year','total_post'])\n",
        "df_yearly.head()"
      ],
      "metadata": {
        "colab": {
          "base_uri": "https://localhost:8080/",
          "height": 206
        },
        "id": "1-5XGz-Pz2cO",
        "outputId": "47bae903-e5fc-4342-c0fe-bb7be26eb8d5"
      },
      "id": "1-5XGz-Pz2cO",
      "execution_count": 52,
      "outputs": [
        {
          "output_type": "execute_result",
          "data": {
            "text/plain": [
              "     publish_year  Theme Id  total_post\n",
              "15           2015     139.0           0\n",
              "18           2015     144.0           0\n",
              "65           2015     552.0           0\n",
              "109          2015     727.0           0\n",
              "146          2015     873.0           0"
            ],
            "text/html": [
              "\n",
              "  <div id=\"df-5a0924f4-1a22-456a-9637-cdf66ecce68a\">\n",
              "    <div class=\"colab-df-container\">\n",
              "      <div>\n",
              "<style scoped>\n",
              "    .dataframe tbody tr th:only-of-type {\n",
              "        vertical-align: middle;\n",
              "    }\n",
              "\n",
              "    .dataframe tbody tr th {\n",
              "        vertical-align: top;\n",
              "    }\n",
              "\n",
              "    .dataframe thead th {\n",
              "        text-align: right;\n",
              "    }\n",
              "</style>\n",
              "<table border=\"1\" class=\"dataframe\">\n",
              "  <thead>\n",
              "    <tr style=\"text-align: right;\">\n",
              "      <th></th>\n",
              "      <th>publish_year</th>\n",
              "      <th>Theme Id</th>\n",
              "      <th>total_post</th>\n",
              "    </tr>\n",
              "  </thead>\n",
              "  <tbody>\n",
              "    <tr>\n",
              "      <th>15</th>\n",
              "      <td>2015</td>\n",
              "      <td>139.0</td>\n",
              "      <td>0</td>\n",
              "    </tr>\n",
              "    <tr>\n",
              "      <th>18</th>\n",
              "      <td>2015</td>\n",
              "      <td>144.0</td>\n",
              "      <td>0</td>\n",
              "    </tr>\n",
              "    <tr>\n",
              "      <th>65</th>\n",
              "      <td>2015</td>\n",
              "      <td>552.0</td>\n",
              "      <td>0</td>\n",
              "    </tr>\n",
              "    <tr>\n",
              "      <th>109</th>\n",
              "      <td>2015</td>\n",
              "      <td>727.0</td>\n",
              "      <td>0</td>\n",
              "    </tr>\n",
              "    <tr>\n",
              "      <th>146</th>\n",
              "      <td>2015</td>\n",
              "      <td>873.0</td>\n",
              "      <td>0</td>\n",
              "    </tr>\n",
              "  </tbody>\n",
              "</table>\n",
              "</div>\n",
              "      <button class=\"colab-df-convert\" onclick=\"convertToInteractive('df-5a0924f4-1a22-456a-9637-cdf66ecce68a')\"\n",
              "              title=\"Convert this dataframe to an interactive table.\"\n",
              "              style=\"display:none;\">\n",
              "        \n",
              "  <svg xmlns=\"http://www.w3.org/2000/svg\" height=\"24px\"viewBox=\"0 0 24 24\"\n",
              "       width=\"24px\">\n",
              "    <path d=\"M0 0h24v24H0V0z\" fill=\"none\"/>\n",
              "    <path d=\"M18.56 5.44l.94 2.06.94-2.06 2.06-.94-2.06-.94-.94-2.06-.94 2.06-2.06.94zm-11 1L8.5 8.5l.94-2.06 2.06-.94-2.06-.94L8.5 2.5l-.94 2.06-2.06.94zm10 10l.94 2.06.94-2.06 2.06-.94-2.06-.94-.94-2.06-.94 2.06-2.06.94z\"/><path d=\"M17.41 7.96l-1.37-1.37c-.4-.4-.92-.59-1.43-.59-.52 0-1.04.2-1.43.59L10.3 9.45l-7.72 7.72c-.78.78-.78 2.05 0 2.83L4 21.41c.39.39.9.59 1.41.59.51 0 1.02-.2 1.41-.59l7.78-7.78 2.81-2.81c.8-.78.8-2.07 0-2.86zM5.41 20L4 18.59l7.72-7.72 1.47 1.35L5.41 20z\"/>\n",
              "  </svg>\n",
              "      </button>\n",
              "      \n",
              "  <style>\n",
              "    .colab-df-container {\n",
              "      display:flex;\n",
              "      flex-wrap:wrap;\n",
              "      gap: 12px;\n",
              "    }\n",
              "\n",
              "    .colab-df-convert {\n",
              "      background-color: #E8F0FE;\n",
              "      border: none;\n",
              "      border-radius: 50%;\n",
              "      cursor: pointer;\n",
              "      display: none;\n",
              "      fill: #1967D2;\n",
              "      height: 32px;\n",
              "      padding: 0 0 0 0;\n",
              "      width: 32px;\n",
              "    }\n",
              "\n",
              "    .colab-df-convert:hover {\n",
              "      background-color: #E2EBFA;\n",
              "      box-shadow: 0px 1px 2px rgba(60, 64, 67, 0.3), 0px 1px 3px 1px rgba(60, 64, 67, 0.15);\n",
              "      fill: #174EA6;\n",
              "    }\n",
              "\n",
              "    [theme=dark] .colab-df-convert {\n",
              "      background-color: #3B4455;\n",
              "      fill: #D2E3FC;\n",
              "    }\n",
              "\n",
              "    [theme=dark] .colab-df-convert:hover {\n",
              "      background-color: #434B5C;\n",
              "      box-shadow: 0px 1px 3px 1px rgba(0, 0, 0, 0.15);\n",
              "      filter: drop-shadow(0px 1px 2px rgba(0, 0, 0, 0.3));\n",
              "      fill: #FFFFFF;\n",
              "    }\n",
              "  </style>\n",
              "\n",
              "      <script>\n",
              "        const buttonEl =\n",
              "          document.querySelector('#df-5a0924f4-1a22-456a-9637-cdf66ecce68a button.colab-df-convert');\n",
              "        buttonEl.style.display =\n",
              "          google.colab.kernel.accessAllowed ? 'block' : 'none';\n",
              "\n",
              "        async function convertToInteractive(key) {\n",
              "          const element = document.querySelector('#df-5a0924f4-1a22-456a-9637-cdf66ecce68a');\n",
              "          const dataTable =\n",
              "            await google.colab.kernel.invokeFunction('convertToInteractive',\n",
              "                                                     [key], {});\n",
              "          if (!dataTable) return;\n",
              "\n",
              "          const docLinkHtml = 'Like what you see? Visit the ' +\n",
              "            '<a target=\"_blank\" href=https://colab.research.google.com/notebooks/data_table.ipynb>data table notebook</a>'\n",
              "            + ' to learn more about interactive tables.';\n",
              "          element.innerHTML = '';\n",
              "          dataTable['output_type'] = 'display_data';\n",
              "          await google.colab.output.renderOutput(dataTable, element);\n",
              "          const docLink = document.createElement('div');\n",
              "          docLink.innerHTML = docLinkHtml;\n",
              "          element.appendChild(docLink);\n",
              "        }\n",
              "      </script>\n",
              "    </div>\n",
              "  </div>\n",
              "  "
            ]
          },
          "metadata": {},
          "execution_count": 52
        }
      ]
    },
    {
      "cell_type": "code",
      "source": [
        "print('Year - 2015 min: {} max: {}'.format(df_yearly[df_yearly.publish_year==2015].total_post.min(),df_yearly[df_yearly.publish_year==2015].total_post.max()))\n",
        "print('Year - 2016 min: {} max: {}'.format(df_yearly[df_yearly.publish_year==2016].total_post.min(),df_yearly[df_yearly.publish_year==2016].total_post.max()))\n",
        "print('Year - 2017 min: {} max: {}'.format(df_yearly[df_yearly.publish_year==2017].total_post.min(),df_yearly[df_yearly.publish_year==2017].total_post.max()))\n",
        "print('Year - 2018 min: {} max: {}'.format(df_yearly[df_yearly.publish_year==2018].total_post.min(),df_yearly[df_yearly.publish_year==2018].total_post.max()))\n",
        "print('Year - 2019 min: {} max: {}'.format(df_yearly[df_yearly.publish_year==2019].total_post.min(),df_yearly[df_yearly.publish_year==2019].total_post.max()))"
      ],
      "metadata": {
        "colab": {
          "base_uri": "https://localhost:8080/"
        },
        "id": "euYjr6ff6QCk",
        "outputId": "9ac1e300-438f-475c-cf9f-9c129fff627b"
      },
      "id": "euYjr6ff6QCk",
      "execution_count": 65,
      "outputs": [
        {
          "output_type": "stream",
          "name": "stdout",
          "text": [
            "Year - 2015 min: 0 max: 628674\n",
            "Year - 2016 min: 0 max: 1471491\n",
            "Year - 2017 min: 0 max: 906723\n",
            "Year - 2018 min: 0 max: 1343724\n",
            "Year - 2019 min: 0 max: 978980\n"
          ]
        }
      ]
    },
    {
      "cell_type": "code",
      "source": [
        "# sns.set_theme(style=\"whitegrid\")\n",
        "sns.set(style=\"darkgrid\")\n",
        "\n",
        "fig, axs = plt.subplots(3, 2, figsize=(15, 15))\n",
        "\n",
        "axs[0, 0].set_title(\"Publish Year - 2015\")\n",
        "axs[0, 1].set_title(\"Publish Year - 2016\")\n",
        "axs[1, 0].set_title(\"Publish Year - 2017\")\n",
        "axs[1, 1].set_title(\"Publish Year - 2018\")\n",
        "axs[2, 0].set_title(\"Publish Year - 2019\")\n",
        "\n",
        "plt.suptitle('Distribution of Total number of posts - across years')\n",
        "plt.subplots_adjust(bottom=0.05)\n",
        "\n",
        "#fig.tight_layout()\n",
        "\n",
        "sns.histplot(data=df_yearly[df_yearly.publish_year==2015], x=\"total_post\", kde=True, color=\"teal\", ax=axs[0, 0])\n",
        "sns.histplot(data=df_yearly[df_yearly.publish_year==2016], x=\"total_post\", kde=True, color=\"teal\", ax=axs[0, 1])\n",
        "sns.histplot(data=df_yearly[df_yearly.publish_year==2017], x=\"total_post\", kde=True, color=\"teal\", ax=axs[1,0])\n",
        "sns.histplot(data=df_yearly[df_yearly.publish_year==2018], x=\"total_post\", kde=True, color=\"teal\", ax=axs[1, 1])\n",
        "sns.histplot(data=df_yearly[df_yearly.publish_year==2019], x=\"total_post\", kde=True, color=\"teal\", ax=axs[2, 0])\n",
        "\n",
        "plt.show()"
      ],
      "metadata": {
        "colab": {
          "base_uri": "https://localhost:8080/",
          "height": 1000
        },
        "id": "PMB6Hz521MAO",
        "outputId": "5412ce73-b951-4d44-8afd-9d724d76abc1"
      },
      "id": "PMB6Hz521MAO",
      "execution_count": 155,
      "outputs": [
        {
          "output_type": "display_data",
          "data": {
            "text/plain": [
              "<Figure size 1080x1080 with 6 Axes>"
            ],
            "image/png": "[encoded data removed]"
          },
          "metadata": {}
        }
      ]
    },
    {
      "cell_type": "code",
      "source": [
        "# sns.set_theme(style=\"whitegrid\")\n",
        "sns.set(style=\"darkgrid\")\n",
        "\n",
        "fig, axs = plt.subplots(3, 2, figsize=(15, 15))\n",
        "\n",
        "axs[0, 0].set_title(\"Publish Year - 2015\")\n",
        "axs[0, 1].set_title(\"Publish Year - 2016\")\n",
        "axs[1, 0].set_title(\"Publish Year - 2017\")\n",
        "axs[1, 1].set_title(\"Publish Year - 2018\")\n",
        "axs[2, 0].set_title(\"Publish Year - 2019\")\n",
        "\n",
        "plt.suptitle('Distribution of Total number of posts - across theme ids')\n",
        "plt.subplots_adjust(bottom=0.05)\n",
        "\n",
        "#fig.tight_layout()\n",
        "\n",
        "sns.scatterplot(data=df_sm[df_sm['publish_year']==2015].groupby('Theme Id').sum().reset_index(), x = 'Theme Id',y='total_post',ax=axs[0, 0])\n",
        "sns.scatterplot(data=df_sm[df_sm['publish_year']==2016].groupby('Theme Id').sum().reset_index(), x = 'Theme Id',y='total_post',ax=axs[0, 1])\n",
        "sns.scatterplot(data=df_sm[df_sm['publish_year']==2017].groupby('Theme Id').sum().reset_index(), x = 'Theme Id',y='total_post',ax=axs[1, 0])\n",
        "sns.scatterplot(data=df_sm[df_sm['publish_year']==2018].groupby('Theme Id').sum().reset_index(), x = 'Theme Id',y='total_post',ax=axs[1, 1])\n",
        "sns.scatterplot(data=df_sm[df_sm['publish_year']==2019].groupby('Theme Id').sum().reset_index(), x = 'Theme Id',y='total_post',ax=axs[2, 0])\n",
        "\n",
        "plt.show()"
      ],
      "metadata": {
        "colab": {
          "base_uri": "https://localhost:8080/",
          "height": 1000
        },
        "id": "CxArIoV-I1JV",
        "outputId": "55051a85-cac7-451d-b086-66f72137caee"
      },
      "id": "CxArIoV-I1JV",
      "execution_count": 162,
      "outputs": [
        {
          "output_type": "display_data",
          "data": {
            "text/plain": [
              "<Figure size 1080x1080 with 6 Axes>"
            ],
            "image/png": "[encoded data removed]"
          },
          "metadata": {}
        }
      ]
    },
    {
      "cell_type": "code",
      "source": [
        "#df_weekly = df_sm.groupby(['publish_week','Theme Id']).sum()['total_post'].reset_index().sort_values(by=['publish_week','total_post'])\n",
        "#df_weekly.head()"
      ],
      "metadata": {
        "id": "koAiML7-9bkI"
      },
      "id": "koAiML7-9bkI",
      "execution_count": 74,
      "outputs": []
    },
    {
      "cell_type": "code",
      "source": [
        "df_sm.corr()"
      ],
      "metadata": {
        "colab": {
          "base_uri": "https://localhost:8080/",
          "height": 206
        },
        "id": "Xnmxriwd38PX",
        "outputId": "b1fb85af-e6a1-4602-818c-7715f47e1797"
      },
      "id": "Xnmxriwd38PX",
      "execution_count": 221,
      "outputs": [
        {
          "output_type": "execute_result",
          "data": {
            "text/plain": [
              "               Theme Id  total_post  publish_year  publish_month  publish_week\n",
              "Theme Id          1.000       0.026        -0.000         -0.000        -0.000\n",
              "total_post        0.026       1.000         0.027         -0.002        -0.003\n",
              "publish_year     -0.000       0.027         1.000         -0.136        -0.146\n",
              "publish_month    -0.000      -0.002        -0.136          1.000         0.978\n",
              "publish_week     -0.000      -0.003        -0.146          0.978         1.000"
            ],
            "text/html": [
              "\n",
              "  <div id=\"df-9d5339fa-99a6-44bb-8337-c7ad7512d067\">\n",
              "    <div class=\"colab-df-container\">\n",
              "      <div>\n",
              "<style scoped>\n",
              "    .dataframe tbody tr th:only-of-type {\n",
              "        vertical-align: middle;\n",
              "    }\n",
              "\n",
              "    .dataframe tbody tr th {\n",
              "        vertical-align: top;\n",
              "    }\n",
              "\n",
              "    .dataframe thead th {\n",
              "        text-align: right;\n",
              "    }\n",
              "</style>\n",
              "<table border=\"1\" class=\"dataframe\">\n",
              "  <thead>\n",
              "    <tr style=\"text-align: right;\">\n",
              "      <th></th>\n",
              "      <th>Theme Id</th>\n",
              "      <th>total_post</th>\n",
              "      <th>publish_year</th>\n",
              "      <th>publish_month</th>\n",
              "      <th>publish_week</th>\n",
              "    </tr>\n",
              "  </thead>\n",
              "  <tbody>\n",
              "    <tr>\n",
              "      <th>Theme Id</th>\n",
              "      <td>1.000</td>\n",
              "      <td>0.026</td>\n",
              "      <td>-0.000</td>\n",
              "      <td>-0.000</td>\n",
              "      <td>-0.000</td>\n",
              "    </tr>\n",
              "    <tr>\n",
              "      <th>total_post</th>\n",
              "      <td>0.026</td>\n",
              "      <td>1.000</td>\n",
              "      <td>0.027</td>\n",
              "      <td>-0.002</td>\n",
              "      <td>-0.003</td>\n",
              "    </tr>\n",
              "    <tr>\n",
              "      <th>publish_year</th>\n",
              "      <td>-0.000</td>\n",
              "      <td>0.027</td>\n",
              "      <td>1.000</td>\n",
              "      <td>-0.136</td>\n",
              "      <td>-0.146</td>\n",
              "    </tr>\n",
              "    <tr>\n",
              "      <th>publish_month</th>\n",
              "      <td>-0.000</td>\n",
              "      <td>-0.002</td>\n",
              "      <td>-0.136</td>\n",
              "      <td>1.000</td>\n",
              "      <td>0.978</td>\n",
              "    </tr>\n",
              "    <tr>\n",
              "      <th>publish_week</th>\n",
              "      <td>-0.000</td>\n",
              "      <td>-0.003</td>\n",
              "      <td>-0.146</td>\n",
              "      <td>0.978</td>\n",
              "      <td>1.000</td>\n",
              "    </tr>\n",
              "  </tbody>\n",
              "</table>\n",
              "</div>\n",
              "      <button class=\"colab-df-convert\" onclick=\"convertToInteractive('df-9d5339fa-99a6-44bb-8337-c7ad7512d067')\"\n",
              "              title=\"Convert this dataframe to an interactive table.\"\n",
              "              style=\"display:none;\">\n",
              "        \n",
              "  <svg xmlns=\"http://www.w3.org/2000/svg\" height=\"24px\"viewBox=\"0 0 24 24\"\n",
              "       width=\"24px\">\n",
              "    <path d=\"M0 0h24v24H0V0z\" fill=\"none\"/>\n",
              "    <path d=\"M18.56 5.44l.94 2.06.94-2.06 2.06-.94-2.06-.94-.94-2.06-.94 2.06-2.06.94zm-11 1L8.5 8.5l.94-2.06 2.06-.94-2.06-.94L8.5 2.5l-.94 2.06-2.06.94zm10 10l.94 2.06.94-2.06 2.06-.94-2.06-.94-.94-2.06-.94 2.06-2.06.94z\"/><path d=\"M17.41 7.96l-1.37-1.37c-.4-.4-.92-.59-1.43-.59-.52 0-1.04.2-1.43.59L10.3 9.45l-7.72 7.72c-.78.78-.78 2.05 0 2.83L4 21.41c.39.39.9.59 1.41.59.51 0 1.02-.2 1.41-.59l7.78-7.78 2.81-2.81c.8-.78.8-2.07 0-2.86zM5.41 20L4 18.59l7.72-7.72 1.47 1.35L5.41 20z\"/>\n",
              "  </svg>\n",
              "      </button>\n",
              "      \n",
              "  <style>\n",
              "    .colab-df-container {\n",
              "      display:flex;\n",
              "      flex-wrap:wrap;\n",
              "      gap: 12px;\n",
              "    }\n",
              "\n",
              "    .colab-df-convert {\n",
              "      background-color: #E8F0FE;\n",
              "      border: none;\n",
              "      border-radius: 50%;\n",
              "      cursor: pointer;\n",
              "      display: none;\n",
              "      fill: #1967D2;\n",
              "      height: 32px;\n",
              "      padding: 0 0 0 0;\n",
              "      width: 32px;\n",
              "    }\n",
              "\n",
              "    .colab-df-convert:hover {\n",
              "      background-color: #E2EBFA;\n",
              "      box-shadow: 0px 1px 2px rgba(60, 64, 67, 0.3), 0px 1px 3px 1px rgba(60, 64, 67, 0.15);\n",
              "      fill: #174EA6;\n",
              "    }\n",
              "\n",
              "    [theme=dark] .colab-df-convert {\n",
              "      background-color: #3B4455;\n",
              "      fill: #D2E3FC;\n",
              "    }\n",
              "\n",
              "    [theme=dark] .colab-df-convert:hover {\n",
              "      background-color: #434B5C;\n",
              "      box-shadow: 0px 1px 3px 1px rgba(0, 0, 0, 0.15);\n",
              "      filter: drop-shadow(0px 1px 2px rgba(0, 0, 0, 0.3));\n",
              "      fill: #FFFFFF;\n",
              "    }\n",
              "  </style>\n",
              "\n",
              "      <script>\n",
              "        const buttonEl =\n",
              "          document.querySelector('#df-9d5339fa-99a6-44bb-8337-c7ad7512d067 button.colab-df-convert');\n",
              "        buttonEl.style.display =\n",
              "          google.colab.kernel.accessAllowed ? 'block' : 'none';\n",
              "\n",
              "        async function convertToInteractive(key) {\n",
              "          const element = document.querySelector('#df-9d5339fa-99a6-44bb-8337-c7ad7512d067');\n",
              "          const dataTable =\n",
              "            await google.colab.kernel.invokeFunction('convertToInteractive',\n",
              "                                                     [key], {});\n",
              "          if (!dataTable) return;\n",
              "\n",
              "          const docLinkHtml = 'Like what you see? Visit the ' +\n",
              "            '<a target=\"_blank\" href=https://colab.research.google.com/notebooks/data_table.ipynb>data table notebook</a>'\n",
              "            + ' to learn more about interactive tables.';\n",
              "          element.innerHTML = '';\n",
              "          dataTable['output_type'] = 'display_data';\n",
              "          await google.colab.output.renderOutput(dataTable, element);\n",
              "          const docLink = document.createElement('div');\n",
              "          docLink.innerHTML = docLinkHtml;\n",
              "          element.appendChild(docLink);\n",
              "        }\n",
              "      </script>\n",
              "    </div>\n",
              "  </div>\n",
              "  "
            ]
          },
          "metadata": {},
          "execution_count": 221
        }
      ]
    },
    {
      "cell_type": "markdown",
      "id": "3d5045f4",
      "metadata": {
        "id": "3d5045f4"
      },
      "source": [
        "## Google search data"
      ]
    },
    {
      "cell_type": "code",
      "execution_count": 120,
      "id": "1b9d5f5c",
      "metadata": {
        "colab": {
          "base_uri": "https://localhost:8080/"
        },
        "id": "1b9d5f5c",
        "outputId": "0f82ace1-ea44-40ad-cc7a-4639a06bcf46"
      },
      "outputs": [
        {
          "output_type": "stream",
          "name": "stdout",
          "text": [
            "Shape of google_search_data : (181565, 6)\n",
            "\n",
            "List of columns in google_search_data : Index(['date', 'platform', 'searchVolume', 'Claim_ID', 'week_number',\n",
            "       'year_new'],\n",
            "      dtype='object')\n",
            "\n",
            "Datatype of columns in google_search_data :\n",
            "date            object\n",
            "platform        object\n",
            "searchVolume     int64\n",
            "Claim_ID         int64\n",
            "week_number      int64\n",
            "year_new         int64\n",
            "dtype: object\n"
          ]
        }
      ],
      "source": [
        "df_gs = input_read('files/google_search_data.csv')"
      ]
    },
    {
      "cell_type": "code",
      "source": [
        "df_gs_bkp = df_gs.copy()"
      ],
      "metadata": {
        "id": "032LoX2UWXZv"
      },
      "id": "032LoX2UWXZv",
      "execution_count": 121,
      "outputs": []
    },
    {
      "cell_type": "code",
      "source": [
        "df_gs.head()"
      ],
      "metadata": {
        "colab": {
          "base_uri": "https://localhost:8080/",
          "height": 206
        },
        "id": "g_iFn5MmWgJa",
        "outputId": "1cbdc839-9b83-472a-cb0a-4e71dbfebb32"
      },
      "id": "g_iFn5MmWgJa",
      "execution_count": 122,
      "outputs": [
        {
          "output_type": "execute_result",
          "data": {
            "text/plain": [
              "         date platform  searchVolume  Claim_ID  week_number  year_new\n",
              "0  05-01-2014   google           349       916            1      2014\n",
              "1  06-01-2014   google           349       916            2      2014\n",
              "2  07-01-2014   google           697       916            2      2014\n",
              "3  10-01-2014   google           349       916            2      2014\n",
              "4  20-01-2014   google           697       916            4      2014"
            ],
            "text/html": [
              "\n",
              "  <div id=\"df-9557a895-9938-465e-b737-de22a74b806c\">\n",
              "    <div class=\"colab-df-container\">\n",
              "      <div>\n",
              "<style scoped>\n",
              "    .dataframe tbody tr th:only-of-type {\n",
              "        vertical-align: middle;\n",
              "    }\n",
              "\n",
              "    .dataframe tbody tr th {\n",
              "        vertical-align: top;\n",
              "    }\n",
              "\n",
              "    .dataframe thead th {\n",
              "        text-align: right;\n",
              "    }\n",
              "</style>\n",
              "<table border=\"1\" class=\"dataframe\">\n",
              "  <thead>\n",
              "    <tr style=\"text-align: right;\">\n",
              "      <th></th>\n",
              "      <th>date</th>\n",
              "      <th>platform</th>\n",
              "      <th>searchVolume</th>\n",
              "      <th>Claim_ID</th>\n",
              "      <th>week_number</th>\n",
              "      <th>year_new</th>\n",
              "    </tr>\n",
              "  </thead>\n",
              "  <tbody>\n",
              "    <tr>\n",
              "      <th>0</th>\n",
              "      <td>05-01-2014</td>\n",
              "      <td>google</td>\n",
              "      <td>349</td>\n",
              "      <td>916</td>\n",
              "      <td>1</td>\n",
              "      <td>2014</td>\n",
              "    </tr>\n",
              "    <tr>\n",
              "      <th>1</th>\n",
              "      <td>06-01-2014</td>\n",
              "      <td>google</td>\n",
              "      <td>349</td>\n",
              "      <td>916</td>\n",
              "      <td>2</td>\n",
              "      <td>2014</td>\n",
              "    </tr>\n",
              "    <tr>\n",
              "      <th>2</th>\n",
              "      <td>07-01-2014</td>\n",
              "      <td>google</td>\n",
              "      <td>697</td>\n",
              "      <td>916</td>\n",
              "      <td>2</td>\n",
              "      <td>2014</td>\n",
              "    </tr>\n",
              "    <tr>\n",
              "      <th>3</th>\n",
              "      <td>10-01-2014</td>\n",
              "      <td>google</td>\n",
              "      <td>349</td>\n",
              "      <td>916</td>\n",
              "      <td>2</td>\n",
              "      <td>2014</td>\n",
              "    </tr>\n",
              "    <tr>\n",
              "      <th>4</th>\n",
              "      <td>20-01-2014</td>\n",
              "      <td>google</td>\n",
              "      <td>697</td>\n",
              "      <td>916</td>\n",
              "      <td>4</td>\n",
              "      <td>2014</td>\n",
              "    </tr>\n",
              "  </tbody>\n",
              "</table>\n",
              "</div>\n",
              "      <button class=\"colab-df-convert\" onclick=\"convertToInteractive('df-9557a895-9938-465e-b737-de22a74b806c')\"\n",
              "              title=\"Convert this dataframe to an interactive table.\"\n",
              "              style=\"display:none;\">\n",
              "        \n",
              "  <svg xmlns=\"http://www.w3.org/2000/svg\" height=\"24px\"viewBox=\"0 0 24 24\"\n",
              "       width=\"24px\">\n",
              "    <path d=\"M0 0h24v24H0V0z\" fill=\"none\"/>\n",
              "    <path d=\"M18.56 5.44l.94 2.06.94-2.06 2.06-.94-2.06-.94-.94-2.06-.94 2.06-2.06.94zm-11 1L8.5 8.5l.94-2.06 2.06-.94-2.06-.94L8.5 2.5l-.94 2.06-2.06.94zm10 10l.94 2.06.94-2.06 2.06-.94-2.06-.94-.94-2.06-.94 2.06-2.06.94z\"/><path d=\"M17.41 7.96l-1.37-1.37c-.4-.4-.92-.59-1.43-.59-.52 0-1.04.2-1.43.59L10.3 9.45l-7.72 7.72c-.78.78-.78 2.05 0 2.83L4 21.41c.39.39.9.59 1.41.59.51 0 1.02-.2 1.41-.59l7.78-7.78 2.81-2.81c.8-.78.8-2.07 0-2.86zM5.41 20L4 18.59l7.72-7.72 1.47 1.35L5.41 20z\"/>\n",
              "  </svg>\n",
              "      </button>\n",
              "      \n",
              "  <style>\n",
              "    .colab-df-container {\n",
              "      display:flex;\n",
              "      flex-wrap:wrap;\n",
              "      gap: 12px;\n",
              "    }\n",
              "\n",
              "    .colab-df-convert {\n",
              "      background-color: #E8F0FE;\n",
              "      border: none;\n",
              "      border-radius: 50%;\n",
              "      cursor: pointer;\n",
              "      display: none;\n",
              "      fill: #1967D2;\n",
              "      height: 32px;\n",
              "      padding: 0 0 0 0;\n",
              "      width: 32px;\n",
              "    }\n",
              "\n",
              "    .colab-df-convert:hover {\n",
              "      background-color: #E2EBFA;\n",
              "      box-shadow: 0px 1px 2px rgba(60, 64, 67, 0.3), 0px 1px 3px 1px rgba(60, 64, 67, 0.15);\n",
              "      fill: #174EA6;\n",
              "    }\n",
              "\n",
              "    [theme=dark] .colab-df-convert {\n",
              "      background-color: #3B4455;\n",
              "      fill: #D2E3FC;\n",
              "    }\n",
              "\n",
              "    [theme=dark] .colab-df-convert:hover {\n",
              "      background-color: #434B5C;\n",
              "      box-shadow: 0px 1px 3px 1px rgba(0, 0, 0, 0.15);\n",
              "      filter: drop-shadow(0px 1px 2px rgba(0, 0, 0, 0.3));\n",
              "      fill: #FFFFFF;\n",
              "    }\n",
              "  </style>\n",
              "\n",
              "      <script>\n",
              "        const buttonEl =\n",
              "          document.querySelector('#df-9557a895-9938-465e-b737-de22a74b806c button.colab-df-convert');\n",
              "        buttonEl.style.display =\n",
              "          google.colab.kernel.accessAllowed ? 'block' : 'none';\n",
              "\n",
              "        async function convertToInteractive(key) {\n",
              "          const element = document.querySelector('#df-9557a895-9938-465e-b737-de22a74b806c');\n",
              "          const dataTable =\n",
              "            await google.colab.kernel.invokeFunction('convertToInteractive',\n",
              "                                                     [key], {});\n",
              "          if (!dataTable) return;\n",
              "\n",
              "          const docLinkHtml = 'Like what you see? Visit the ' +\n",
              "            '<a target=\"_blank\" href=https://colab.research.google.com/notebooks/data_table.ipynb>data table notebook</a>'\n",
              "            + ' to learn more about interactive tables.';\n",
              "          element.innerHTML = '';\n",
              "          dataTable['output_type'] = 'display_data';\n",
              "          await google.colab.output.renderOutput(dataTable, element);\n",
              "          const docLink = document.createElement('div');\n",
              "          docLink.innerHTML = docLinkHtml;\n",
              "          element.appendChild(docLink);\n",
              "        }\n",
              "      </script>\n",
              "    </div>\n",
              "  </div>\n",
              "  "
            ]
          },
          "metadata": {},
          "execution_count": 122
        }
      ]
    },
    {
      "cell_type": "code",
      "source": [
        "print('Size of the data:',df_gs.shape)\n",
        "print('Total number of unique Theme Ids in Google Search Data:',df_gs['Claim_ID'].nunique())\n",
        "print('List of themes available in Google Search Data:', list(sorted(df_gs['Claim_ID'].unique())))\n",
        "print('Percentage of records with missing values in theme id:',round(df_gs[df_gs['Claim_ID'].isnull()].shape[0]*100/df_gs.shape[0],2),'%')"
      ],
      "metadata": {
        "colab": {
          "base_uri": "https://localhost:8080/"
        },
        "id": "Fii4egQFWfZi",
        "outputId": "c5187c73-d9d2-4431-eeef-3c125e0c36a2"
      },
      "id": "Fii4egQFWfZi",
      "execution_count": 123,
      "outputs": [
        {
          "output_type": "stream",
          "name": "stdout",
          "text": [
            "Size of the data: (181565, 6)\n",
            "Total number of unique Theme Ids in Google Search Data: 160\n",
            "List of themes available in Google Search Data: [8, 39, 40, 65, 75, 79, 81, 100, 101, 120, 125, 138, 139, 142, 148, 151, 152, 158, 163, 173, 177, 187, 191, 192, 193, 197, 207, 211, 227, 228, 384, 393, 430, 433, 437, 438, 507, 509, 510, 514, 516, 519, 526, 531, 536, 541, 543, 555, 556, 558, 566, 567, 574, 576, 583, 587, 594, 600, 601, 605, 606, 608, 613, 615, 616, 618, 620, 622, 632, 634, 650, 657, 659, 668, 670, 677, 681, 682, 683, 684, 689, 702, 704, 707, 713, 716, 720, 732, 737, 738, 741, 743, 747, 754, 755, 761, 770, 777, 780, 782, 785, 788, 789, 799, 803, 813, 816, 821, 823, 832, 839, 842, 843, 844, 847, 852, 860, 867, 869, 870, 877, 884, 887, 889, 900, 901, 903, 904, 906, 907, 908, 913, 915, 916, 918, 922, 928, 929, 930, 931, 937, 941, 944, 946, 948, 958, 959, 964, 965, 967, 970, 974, 977, 979, 980, 981, 982, 984, 985, 999]\n",
            "Percentage of records with missing values in theme id: 0.0 %\n"
          ]
        }
      ]
    },
    {
      "cell_type": "code",
      "execution_count": 124,
      "id": "ae1dbb63",
      "metadata": {
        "colab": {
          "base_uri": "https://localhost:8080/"
        },
        "id": "ae1dbb63",
        "outputId": "fea86d73-2c3a-4fa6-c5e9-cc87fcb62e47"
      },
      "outputs": [
        {
          "output_type": "execute_result",
          "data": {
            "text/plain": [
              "160"
            ]
          },
          "metadata": {},
          "execution_count": 124
        }
      ],
      "source": [
        "df_gs['Claim_ID'].nunique()"
      ]
    },
    {
      "cell_type": "code",
      "source": [
        "df_gs.isnull().sum()"
      ],
      "metadata": {
        "colab": {
          "base_uri": "https://localhost:8080/"
        },
        "id": "Vw9qd7FqXDlU",
        "outputId": "361a919c-16f1-4462-81b3-6efec2ca32d6"
      },
      "id": "Vw9qd7FqXDlU",
      "execution_count": 125,
      "outputs": [
        {
          "output_type": "execute_result",
          "data": {
            "text/plain": [
              "date            0\n",
              "platform        0\n",
              "searchVolume    0\n",
              "Claim_ID        0\n",
              "week_number     0\n",
              "year_new        0\n",
              "dtype: int64"
            ]
          },
          "metadata": {},
          "execution_count": 125
        }
      ]
    },
    {
      "cell_type": "code",
      "source": [
        "df_gs.info()"
      ],
      "metadata": {
        "colab": {
          "base_uri": "https://localhost:8080/"
        },
        "id": "2bMV6tlkXIi-",
        "outputId": "322d6365-7dbc-46d5-9eea-638dbfe900b8"
      },
      "id": "2bMV6tlkXIi-",
      "execution_count": 126,
      "outputs": [
        {
          "output_type": "stream",
          "name": "stdout",
          "text": [
            "<class 'pandas.core.frame.DataFrame'>\n",
            "RangeIndex: 181565 entries, 0 to 181564\n",
            "Data columns (total 6 columns):\n",
            " #   Column        Non-Null Count   Dtype \n",
            "---  ------        --------------   ----- \n",
            " 0   date          181565 non-null  object\n",
            " 1   platform      181565 non-null  object\n",
            " 2   searchVolume  181565 non-null  int64 \n",
            " 3   Claim_ID      181565 non-null  int64 \n",
            " 4   week_number   181565 non-null  int64 \n",
            " 5   year_new      181565 non-null  int64 \n",
            "dtypes: int64(4), object(2)\n",
            "memory usage: 8.3+ MB\n"
          ]
        }
      ]
    },
    {
      "cell_type": "code",
      "source": [
        "df_gs.year_new.value_counts()"
      ],
      "metadata": {
        "colab": {
          "base_uri": "https://localhost:8080/"
        },
        "id": "bpq5CK7F95r9",
        "outputId": "f6eb47f0-9e55-48ed-90e5-8ecd386daa29"
      },
      "id": "bpq5CK7F95r9",
      "execution_count": 127,
      "outputs": [
        {
          "output_type": "execute_result",
          "data": {
            "text/plain": [
              "2018    51388\n",
              "2019    38682\n",
              "2017    27399\n",
              "2016    22280\n",
              "2015    21372\n",
              "2014    20444\n",
              "Name: year_new, dtype: int64"
            ]
          },
          "metadata": {},
          "execution_count": 127
        }
      ]
    },
    {
      "cell_type": "code",
      "source": [
        "df_gs.describe()"
      ],
      "metadata": {
        "colab": {
          "base_uri": "https://localhost:8080/",
          "height": 300
        },
        "id": "TjyyIDvsXO3c",
        "outputId": "ddde2eac-f1cb-454f-9348-b065c2875856"
      },
      "id": "TjyyIDvsXO3c",
      "execution_count": 128,
      "outputs": [
        {
          "output_type": "execute_result",
          "data": {
            "text/plain": [
              "       searchVolume   Claim_ID  week_number   year_new\n",
              "count    181565.000 181565.000   181565.000 181565.000\n",
              "mean       5823.349    629.558       25.170   2017.013\n",
              "std       11251.075    284.427       14.614      1.656\n",
              "min           1.000      8.000        1.000   2014.000\n",
              "25%         281.000    516.000       13.000   2016.000\n",
              "50%        1173.000    670.000       25.000   2017.000\n",
              "75%        5539.000    901.000       37.000   2018.000\n",
              "max      370484.000    999.000       53.000   2019.000"
            ],
            "text/html": [
              "\n",
              "  <div id=\"df-047c9bee-f76c-481b-be94-254ec4f8afbe\">\n",
              "    <div class=\"colab-df-container\">\n",
              "      <div>\n",
              "<style scoped>\n",
              "    .dataframe tbody tr th:only-of-type {\n",
              "        vertical-align: middle;\n",
              "    }\n",
              "\n",
              "    .dataframe tbody tr th {\n",
              "        vertical-align: top;\n",
              "    }\n",
              "\n",
              "    .dataframe thead th {\n",
              "        text-align: right;\n",
              "    }\n",
              "</style>\n",
              "<table border=\"1\" class=\"dataframe\">\n",
              "  <thead>\n",
              "    <tr style=\"text-align: right;\">\n",
              "      <th></th>\n",
              "      <th>searchVolume</th>\n",
              "      <th>Claim_ID</th>\n",
              "      <th>week_number</th>\n",
              "      <th>year_new</th>\n",
              "    </tr>\n",
              "  </thead>\n",
              "  <tbody>\n",
              "    <tr>\n",
              "      <th>count</th>\n",
              "      <td>181565.000</td>\n",
              "      <td>181565.000</td>\n",
              "      <td>181565.000</td>\n",
              "      <td>181565.000</td>\n",
              "    </tr>\n",
              "    <tr>\n",
              "      <th>mean</th>\n",
              "      <td>5823.349</td>\n",
              "      <td>629.558</td>\n",
              "      <td>25.170</td>\n",
              "      <td>2017.013</td>\n",
              "    </tr>\n",
              "    <tr>\n",
              "      <th>std</th>\n",
              "      <td>11251.075</td>\n",
              "      <td>284.427</td>\n",
              "      <td>14.614</td>\n",
              "      <td>1.656</td>\n",
              "    </tr>\n",
              "    <tr>\n",
              "      <th>min</th>\n",
              "      <td>1.000</td>\n",
              "      <td>8.000</td>\n",
              "      <td>1.000</td>\n",
              "      <td>2014.000</td>\n",
              "    </tr>\n",
              "    <tr>\n",
              "      <th>25%</th>\n",
              "      <td>281.000</td>\n",
              "      <td>516.000</td>\n",
              "      <td>13.000</td>\n",
              "      <td>2016.000</td>\n",
              "    </tr>\n",
              "    <tr>\n",
              "      <th>50%</th>\n",
              "      <td>1173.000</td>\n",
              "      <td>670.000</td>\n",
              "      <td>25.000</td>\n",
              "      <td>2017.000</td>\n",
              "    </tr>\n",
              "    <tr>\n",
              "      <th>75%</th>\n",
              "      <td>5539.000</td>\n",
              "      <td>901.000</td>\n",
              "      <td>37.000</td>\n",
              "      <td>2018.000</td>\n",
              "    </tr>\n",
              "    <tr>\n",
              "      <th>max</th>\n",
              "      <td>370484.000</td>\n",
              "      <td>999.000</td>\n",
              "      <td>53.000</td>\n",
              "      <td>2019.000</td>\n",
              "    </tr>\n",
              "  </tbody>\n",
              "</table>\n",
              "</div>\n",
              "      <button class=\"colab-df-convert\" onclick=\"convertToInteractive('df-047c9bee-f76c-481b-be94-254ec4f8afbe')\"\n",
              "              title=\"Convert this dataframe to an interactive table.\"\n",
              "              style=\"display:none;\">\n",
              "        \n",
              "  <svg xmlns=\"http://www.w3.org/2000/svg\" height=\"24px\"viewBox=\"0 0 24 24\"\n",
              "       width=\"24px\">\n",
              "    <path d=\"M0 0h24v24H0V0z\" fill=\"none\"/>\n",
              "    <path d=\"M18.56 5.44l.94 2.06.94-2.06 2.06-.94-2.06-.94-.94-2.06-.94 2.06-2.06.94zm-11 1L8.5 8.5l.94-2.06 2.06-.94-2.06-.94L8.5 2.5l-.94 2.06-2.06.94zm10 10l.94 2.06.94-2.06 2.06-.94-2.06-.94-.94-2.06-.94 2.06-2.06.94z\"/><path d=\"M17.41 7.96l-1.37-1.37c-.4-.4-.92-.59-1.43-.59-.52 0-1.04.2-1.43.59L10.3 9.45l-7.72 7.72c-.78.78-.78 2.05 0 2.83L4 21.41c.39.39.9.59 1.41.59.51 0 1.02-.2 1.41-.59l7.78-7.78 2.81-2.81c.8-.78.8-2.07 0-2.86zM5.41 20L4 18.59l7.72-7.72 1.47 1.35L5.41 20z\"/>\n",
              "  </svg>\n",
              "      </button>\n",
              "      \n",
              "  <style>\n",
              "    .colab-df-container {\n",
              "      display:flex;\n",
              "      flex-wrap:wrap;\n",
              "      gap: 12px;\n",
              "    }\n",
              "\n",
              "    .colab-df-convert {\n",
              "      background-color: #E8F0FE;\n",
              "      border: none;\n",
              "      border-radius: 50%;\n",
              "      cursor: pointer;\n",
              "      display: none;\n",
              "      fill: #1967D2;\n",
              "      height: 32px;\n",
              "      padding: 0 0 0 0;\n",
              "      width: 32px;\n",
              "    }\n",
              "\n",
              "    .colab-df-convert:hover {\n",
              "      background-color: #E2EBFA;\n",
              "      box-shadow: 0px 1px 2px rgba(60, 64, 67, 0.3), 0px 1px 3px 1px rgba(60, 64, 67, 0.15);\n",
              "      fill: #174EA6;\n",
              "    }\n",
              "\n",
              "    [theme=dark] .colab-df-convert {\n",
              "      background-color: #3B4455;\n",
              "      fill: #D2E3FC;\n",
              "    }\n",
              "\n",
              "    [theme=dark] .colab-df-convert:hover {\n",
              "      background-color: #434B5C;\n",
              "      box-shadow: 0px 1px 3px 1px rgba(0, 0, 0, 0.15);\n",
              "      filter: drop-shadow(0px 1px 2px rgba(0, 0, 0, 0.3));\n",
              "      fill: #FFFFFF;\n",
              "    }\n",
              "  </style>\n",
              "\n",
              "      <script>\n",
              "        const buttonEl =\n",
              "          document.querySelector('#df-047c9bee-f76c-481b-be94-254ec4f8afbe button.colab-df-convert');\n",
              "        buttonEl.style.display =\n",
              "          google.colab.kernel.accessAllowed ? 'block' : 'none';\n",
              "\n",
              "        async function convertToInteractive(key) {\n",
              "          const element = document.querySelector('#df-047c9bee-f76c-481b-be94-254ec4f8afbe');\n",
              "          const dataTable =\n",
              "            await google.colab.kernel.invokeFunction('convertToInteractive',\n",
              "                                                     [key], {});\n",
              "          if (!dataTable) return;\n",
              "\n",
              "          const docLinkHtml = 'Like what you see? Visit the ' +\n",
              "            '<a target=\"_blank\" href=https://colab.research.google.com/notebooks/data_table.ipynb>data table notebook</a>'\n",
              "            + ' to learn more about interactive tables.';\n",
              "          element.innerHTML = '';\n",
              "          dataTable['output_type'] = 'display_data';\n",
              "          await google.colab.output.renderOutput(dataTable, element);\n",
              "          const docLink = document.createElement('div');\n",
              "          docLink.innerHTML = docLinkHtml;\n",
              "          element.appendChild(docLink);\n",
              "        }\n",
              "      </script>\n",
              "    </div>\n",
              "  </div>\n",
              "  "
            ]
          },
          "metadata": {},
          "execution_count": 128
        }
      ]
    },
    {
      "cell_type": "code",
      "source": [
        "fig = plt.figure() \n",
        "fig.set_size_inches(15, 8)\n",
        "sns.histplot(data=df_gs, x = 'Claim_ID')\n",
        "plt.title('Count of Records')\n",
        "plt.show()"
      ],
      "metadata": {
        "colab": {
          "base_uri": "https://localhost:8080/",
          "height": 518
        },
        "id": "HEwQhEcMCDGK",
        "outputId": "9202f2ad-a643-4914-b051-b148eb8d24fd"
      },
      "id": "HEwQhEcMCDGK",
      "execution_count": 130,
      "outputs": [
        {
          "output_type": "display_data",
          "data": {
            "text/plain": [
              "<Figure size 1080x576 with 1 Axes>"
            ],
            "image/png": "[encoded data removed]"
          },
          "metadata": {}
        }
      ]
    },
    {
      "cell_type": "code",
      "source": [
        "data  = df_gs.groupby(['year_new','Claim_ID','platform']).count().reset_index().sort_values(by=['Claim_ID','year_new','searchVolume'])\n",
        "data[data.searchVolume>380][['Claim_ID','year_new','searchVolume','platform']]"
      ],
      "metadata": {
        "colab": {
          "base_uri": "https://localhost:8080/",
          "height": 363
        },
        "id": "5s76pcVXC-xk",
        "outputId": "60e53e7b-f238-4be7-f17c-484ecbb01b27"
      },
      "id": "5s76pcVXC-xk",
      "execution_count": 144,
      "outputs": [
        {
          "output_type": "execute_result",
          "data": {
            "text/plain": [
              "      Claim_ID  year_new  searchVolume platform\n",
              "468        788      2017           417   google\n",
              "111        967      2014           629   google\n",
              "229        967      2015           657   google\n",
              "364        967      2016           661   google\n",
              "514        967      2017           710   google\n",
              "888        967      2018           439    chewy\n",
              "887        967      2018           493   amazon\n",
              "889        967      2018           701   google\n",
              "1263       967      2019           392   amazon\n",
              "1265       967      2019           514   google"
            ],
            "text/html": [
              "\n",
              "  <div id=\"df-943522b8-d169-4227-b234-547c6482cc30\">\n",
              "    <div class=\"colab-df-container\">\n",
              "      <div>\n",
              "<style scoped>\n",
              "    .dataframe tbody tr th:only-of-type {\n",
              "        vertical-align: middle;\n",
              "    }\n",
              "\n",
              "    .dataframe tbody tr th {\n",
              "        vertical-align: top;\n",
              "    }\n",
              "\n",
              "    .dataframe thead th {\n",
              "        text-align: right;\n",
              "    }\n",
              "</style>\n",
              "<table border=\"1\" class=\"dataframe\">\n",
              "  <thead>\n",
              "    <tr style=\"text-align: right;\">\n",
              "      <th></th>\n",
              "      <th>Claim_ID</th>\n",
              "      <th>year_new</th>\n",
              "      <th>searchVolume</th>\n",
              "      <th>platform</th>\n",
              "    </tr>\n",
              "  </thead>\n",
              "  <tbody>\n",
              "    <tr>\n",
              "      <th>468</th>\n",
              "      <td>788</td>\n",
              "      <td>2017</td>\n",
              "      <td>417</td>\n",
              "      <td>google</td>\n",
              "    </tr>\n",
              "    <tr>\n",
              "      <th>111</th>\n",
              "      <td>967</td>\n",
              "      <td>2014</td>\n",
              "      <td>629</td>\n",
              "      <td>google</td>\n",
              "    </tr>\n",
              "    <tr>\n",
              "      <th>229</th>\n",
              "      <td>967</td>\n",
              "      <td>2015</td>\n",
              "      <td>657</td>\n",
              "      <td>google</td>\n",
              "    </tr>\n",
              "    <tr>\n",
              "      <th>364</th>\n",
              "      <td>967</td>\n",
              "      <td>2016</td>\n",
              "      <td>661</td>\n",
              "      <td>google</td>\n",
              "    </tr>\n",
              "    <tr>\n",
              "      <th>514</th>\n",
              "      <td>967</td>\n",
              "      <td>2017</td>\n",
              "      <td>710</td>\n",
              "      <td>google</td>\n",
              "    </tr>\n",
              "    <tr>\n",
              "      <th>888</th>\n",
              "      <td>967</td>\n",
              "      <td>2018</td>\n",
              "      <td>439</td>\n",
              "      <td>chewy</td>\n",
              "    </tr>\n",
              "    <tr>\n",
              "      <th>887</th>\n",
              "      <td>967</td>\n",
              "      <td>2018</td>\n",
              "      <td>493</td>\n",
              "      <td>amazon</td>\n",
              "    </tr>\n",
              "    <tr>\n",
              "      <th>889</th>\n",
              "      <td>967</td>\n",
              "      <td>2018</td>\n",
              "      <td>701</td>\n",
              "      <td>google</td>\n",
              "    </tr>\n",
              "    <tr>\n",
              "      <th>1263</th>\n",
              "      <td>967</td>\n",
              "      <td>2019</td>\n",
              "      <td>392</td>\n",
              "      <td>amazon</td>\n",
              "    </tr>\n",
              "    <tr>\n",
              "      <th>1265</th>\n",
              "      <td>967</td>\n",
              "      <td>2019</td>\n",
              "      <td>514</td>\n",
              "      <td>google</td>\n",
              "    </tr>\n",
              "  </tbody>\n",
              "</table>\n",
              "</div>\n",
              "      <button class=\"colab-df-convert\" onclick=\"convertToInteractive('df-943522b8-d169-4227-b234-547c6482cc30')\"\n",
              "              title=\"Convert this dataframe to an interactive table.\"\n",
              "              style=\"display:none;\">\n",
              "        \n",
              "  <svg xmlns=\"http://www.w3.org/2000/svg\" height=\"24px\"viewBox=\"0 0 24 24\"\n",
              "       width=\"24px\">\n",
              "    <path d=\"M0 0h24v24H0V0z\" fill=\"none\"/>\n",
              "    <path d=\"M18.56 5.44l.94 2.06.94-2.06 2.06-.94-2.06-.94-.94-2.06-.94 2.06-2.06.94zm-11 1L8.5 8.5l.94-2.06 2.06-.94-2.06-.94L8.5 2.5l-.94 2.06-2.06.94zm10 10l.94 2.06.94-2.06 2.06-.94-2.06-.94-.94-2.06-.94 2.06-2.06.94z\"/><path d=\"M17.41 7.96l-1.37-1.37c-.4-.4-.92-.59-1.43-.59-.52 0-1.04.2-1.43.59L10.3 9.45l-7.72 7.72c-.78.78-.78 2.05 0 2.83L4 21.41c.39.39.9.59 1.41.59.51 0 1.02-.2 1.41-.59l7.78-7.78 2.81-2.81c.8-.78.8-2.07 0-2.86zM5.41 20L4 18.59l7.72-7.72 1.47 1.35L5.41 20z\"/>\n",
              "  </svg>\n",
              "      </button>\n",
              "      \n",
              "  <style>\n",
              "    .colab-df-container {\n",
              "      display:flex;\n",
              "      flex-wrap:wrap;\n",
              "      gap: 12px;\n",
              "    }\n",
              "\n",
              "    .colab-df-convert {\n",
              "      background-color: #E8F0FE;\n",
              "      border: none;\n",
              "      border-radius: 50%;\n",
              "      cursor: pointer;\n",
              "      display: none;\n",
              "      fill: #1967D2;\n",
              "      height: 32px;\n",
              "      padding: 0 0 0 0;\n",
              "      width: 32px;\n",
              "    }\n",
              "\n",
              "    .colab-df-convert:hover {\n",
              "      background-color: #E2EBFA;\n",
              "      box-shadow: 0px 1px 2px rgba(60, 64, 67, 0.3), 0px 1px 3px 1px rgba(60, 64, 67, 0.15);\n",
              "      fill: #174EA6;\n",
              "    }\n",
              "\n",
              "    [theme=dark] .colab-df-convert {\n",
              "      background-color: #3B4455;\n",
              "      fill: #D2E3FC;\n",
              "    }\n",
              "\n",
              "    [theme=dark] .colab-df-convert:hover {\n",
              "      background-color: #434B5C;\n",
              "      box-shadow: 0px 1px 3px 1px rgba(0, 0, 0, 0.15);\n",
              "      filter: drop-shadow(0px 1px 2px rgba(0, 0, 0, 0.3));\n",
              "      fill: #FFFFFF;\n",
              "    }\n",
              "  </style>\n",
              "\n",
              "      <script>\n",
              "        const buttonEl =\n",
              "          document.querySelector('#df-943522b8-d169-4227-b234-547c6482cc30 button.colab-df-convert');\n",
              "        buttonEl.style.display =\n",
              "          google.colab.kernel.accessAllowed ? 'block' : 'none';\n",
              "\n",
              "        async function convertToInteractive(key) {\n",
              "          const element = document.querySelector('#df-943522b8-d169-4227-b234-547c6482cc30');\n",
              "          const dataTable =\n",
              "            await google.colab.kernel.invokeFunction('convertToInteractive',\n",
              "                                                     [key], {});\n",
              "          if (!dataTable) return;\n",
              "\n",
              "          const docLinkHtml = 'Like what you see? Visit the ' +\n",
              "            '<a target=\"_blank\" href=https://colab.research.google.com/notebooks/data_table.ipynb>data table notebook</a>'\n",
              "            + ' to learn more about interactive tables.';\n",
              "          element.innerHTML = '';\n",
              "          dataTable['output_type'] = 'display_data';\n",
              "          await google.colab.output.renderOutput(dataTable, element);\n",
              "          const docLink = document.createElement('div');\n",
              "          docLink.innerHTML = docLinkHtml;\n",
              "          element.appendChild(docLink);\n",
              "        }\n",
              "      </script>\n",
              "    </div>\n",
              "  </div>\n",
              "  "
            ]
          },
          "metadata": {},
          "execution_count": 144
        }
      ]
    },
    {
      "cell_type": "code",
      "source": [
        "pd.set_option('display.float_format', lambda x: '%.3f' % x)\n",
        "df_gs.groupby('Claim_ID').sum().reset_index()['searchVolume'].describe()"
      ],
      "metadata": {
        "colab": {
          "base_uri": "https://localhost:8080/"
        },
        "id": "r31JEsAtCUGb",
        "outputId": "0979a6e9-a4a7-44d2-d0cc-ee858b830b98"
      },
      "id": "r31JEsAtCUGb",
      "execution_count": 131,
      "outputs": [
        {
          "output_type": "execute_result",
          "data": {
            "text/plain": [
              "count         160.000\n",
              "mean      6608227.619\n",
              "std      16628006.439\n",
              "min             3.000\n",
              "25%          6666.500\n",
              "50%        298011.500\n",
              "75%       2738163.000\n",
              "max     113502487.000\n",
              "Name: searchVolume, dtype: float64"
            ]
          },
          "metadata": {},
          "execution_count": 131
        }
      ]
    },
    {
      "cell_type": "code",
      "source": [
        "fig = plt.figure() \n",
        "fig.set_size_inches(15, 8)\n",
        "sns.scatterplot(data=df_gs.groupby('Claim_ID').sum().reset_index(), x = 'Claim_ID',y='searchVolume')\n",
        "plt.title('Search Volume')\n",
        "plt.show()"
      ],
      "metadata": {
        "colab": {
          "base_uri": "https://localhost:8080/",
          "height": 518
        },
        "id": "MTrjHCnNCdCC",
        "outputId": "3921af3c-becc-4637-f0e6-08b71f141c78"
      },
      "id": "MTrjHCnNCdCC",
      "execution_count": 188,
      "outputs": [
        {
          "output_type": "display_data",
          "data": {
            "text/plain": [
              "<Figure size 1080x576 with 1 Axes>"
            ],
            "image/png": "[encoded data removed]"
          },
          "metadata": {}
        }
      ]
    },
    {
      "cell_type": "code",
      "source": [
        "#fig = plt.figure() \n",
        "#fig.set_size_inches(15, 8)\n",
        "fig, axs = plt.subplots(1, 2)\n",
        "fig.set_size_inches(18, 8)\n",
        "sns.scatterplot(data=df_sm.groupby('Theme Id').sum().reset_index(), x = 'Theme Id',y='total_post', color='orange',ax=axs[0])\n",
        "sns.scatterplot(data=df_gs.groupby('Claim_ID').sum().reset_index(), x = 'Claim_ID',y='searchVolume', color='blue',ax=axs[1])\n",
        "axs[0].legend(['total_post'],loc='top left')\n",
        "axs[1].legend(['searchVolume'])\n",
        "\n",
        "plt.suptitle('Search Volume - Total posts')\n",
        "plt.show()"
      ],
      "metadata": {
        "colab": {
          "base_uri": "https://localhost:8080/",
          "height": 560
        },
        "id": "GrfcryQCjszV",
        "outputId": "1b692af4-ddc9-4e40-e342-a7f803d60ff4"
      },
      "id": "GrfcryQCjszV",
      "execution_count": 208,
      "outputs": [
        {
          "output_type": "display_data",
          "data": {
            "text/plain": [
              "<Figure size 1296x576 with 2 Axes>"
            ],
            "image/png": "[encoded data removed]"
          },
          "metadata": {}
        }
      ]
    },
    {
      "cell_type": "code",
      "execution_count": 133,
      "id": "0e45d82a",
      "metadata": {
        "colab": {
          "base_uri": "https://localhost:8080/"
        },
        "id": "0e45d82a",
        "outputId": "905eae6e-b22a-43ef-d5e8-902e831d1418"
      },
      "outputs": [
        {
          "output_type": "execute_result",
          "data": {
            "text/plain": [
              "Claim_ID\n",
              "869    113502487\n",
              "964     77711760\n",
              "613     74588723\n",
              "980     73957180\n",
              "576     56756609\n",
              "         ...    \n",
              "799           11\n",
              "941            5\n",
              "514            3\n",
              "832            3\n",
              "681            3\n",
              "Name: searchVolume, Length: 160, dtype: int64"
            ]
          },
          "metadata": {},
          "execution_count": 133
        }
      ],
      "source": [
        "df_gs.groupby('Claim_ID', dropna=False).sum().sort_values(by='searchVolume', ascending=False)['searchVolume']"
      ]
    },
    {
      "cell_type": "code",
      "source": [
        "df_gs['date'] = df_gs['date'].apply(lambda x: datetime.strptime(x,'%d-%m-%Y') if type(x)==str else x)"
      ],
      "metadata": {
        "id": "kM11dZiaH5x_"
      },
      "id": "kM11dZiaH5x_",
      "execution_count": 134,
      "outputs": []
    },
    {
      "cell_type": "code",
      "source": [
        "df_gs['search_year'] = df_gs['date'].apply(lambda x:x.year)\n",
        "df_gs['search_month'] = df_gs['date'].apply(lambda x:x.month)\n",
        "df_gs['search_week'] = df_gs['date'].apply(lambda x:x.isocalendar()[1])"
      ],
      "metadata": {
        "id": "Bfq2HbE8H8Wb"
      },
      "id": "Bfq2HbE8H8Wb",
      "execution_count": 135,
      "outputs": []
    },
    {
      "cell_type": "code",
      "source": [
        "print(df_gs['platform'].value_counts())"
      ],
      "metadata": {
        "colab": {
          "base_uri": "https://localhost:8080/"
        },
        "id": "kXjlRcrzYTPW",
        "outputId": "38028e7a-856d-4883-f008-310870f63f76"
      },
      "id": "kXjlRcrzYTPW",
      "execution_count": 136,
      "outputs": [
        {
          "output_type": "stream",
          "name": "stdout",
          "text": [
            "google     138115\n",
            "amazon      23828\n",
            "chewy       13352\n",
            "walmart      6270\n",
            "Name: platform, dtype: int64\n"
          ]
        }
      ]
    },
    {
      "cell_type": "code",
      "source": [
        "df_gs.columns"
      ],
      "metadata": {
        "colab": {
          "base_uri": "https://localhost:8080/"
        },
        "id": "r60ukiwOpAK2",
        "outputId": "afd75302-840c-4b7d-f92b-e737e0bc18d7"
      },
      "id": "r60ukiwOpAK2",
      "execution_count": 145,
      "outputs": [
        {
          "output_type": "execute_result",
          "data": {
            "text/plain": [
              "Index(['date', 'platform', 'searchVolume', 'Claim_ID', 'week_number',\n",
              "       'year_new', 'search_year', 'search_month', 'search_week'],\n",
              "      dtype='object')"
            ]
          },
          "metadata": {},
          "execution_count": 145
        }
      ]
    },
    {
      "cell_type": "code",
      "source": [
        "df_gs[df_gs.search_year!=df_gs.year_new]"
      ],
      "metadata": {
        "colab": {
          "base_uri": "https://localhost:8080/",
          "height": 423
        },
        "id": "yCEddQzxpC_B",
        "outputId": "f9c46a9d-6756-4776-d15d-9ea54f1d21ea"
      },
      "id": "yCEddQzxpC_B",
      "execution_count": 138,
      "outputs": [
        {
          "output_type": "execute_result",
          "data": {
            "text/plain": [
              "             date platform  searchVolume  Claim_ID  week_number  year_new  \\\n",
              "424    2014-12-29   google          5341         8            1      2015   \n",
              "425    2014-12-30   google          5977         8            1      2015   \n",
              "426    2014-12-31   google          4197         8            1      2015   \n",
              "588    2014-12-29   google           271        39            1      2015   \n",
              "1144   2014-12-29   google          5755       747            1      2015   \n",
              "...           ...      ...           ...       ...          ...       ...   \n",
              "141018 2018-12-31   amazon            76       732            1      2019   \n",
              "141070 2018-12-31   amazon           189        75            1      2019   \n",
              "141691 2018-12-31    chewy            38       904            1      2019   \n",
              "142059 2018-12-31    chewy            38       918            1      2019   \n",
              "142148 2018-12-31    chewy           832       670            1      2019   \n",
              "\n",
              "        search_year  search_month  search_week  \n",
              "424            2014            12            1  \n",
              "425            2014            12            1  \n",
              "426            2014            12            1  \n",
              "588            2014            12            1  \n",
              "1144           2014            12            1  \n",
              "...             ...           ...          ...  \n",
              "141018         2018            12            1  \n",
              "141070         2018            12            1  \n",
              "141691         2018            12            1  \n",
              "142059         2018            12            1  \n",
              "142148         2018            12            1  \n",
              "\n",
              "[966 rows x 9 columns]"
            ],
            "text/html": [
              "\n",
              "  <div id=\"df-d5773f5e-e338-4f1a-8504-281a895ffc76\">\n",
              "    <div class=\"colab-df-container\">\n",
              "      <div>\n",
              "<style scoped>\n",
              "    .dataframe tbody tr th:only-of-type {\n",
              "        vertical-align: middle;\n",
              "    }\n",
              "\n",
              "    .dataframe tbody tr th {\n",
              "        vertical-align: top;\n",
              "    }\n",
              "\n",
              "    .dataframe thead th {\n",
              "        text-align: right;\n",
              "    }\n",
              "</style>\n",
              "<table border=\"1\" class=\"dataframe\">\n",
              "  <thead>\n",
              "    <tr style=\"text-align: right;\">\n",
              "      <th></th>\n",
              "      <th>date</th>\n",
              "      <th>platform</th>\n",
              "      <th>searchVolume</th>\n",
              "      <th>Claim_ID</th>\n",
              "      <th>week_number</th>\n",
              "      <th>year_new</th>\n",
              "      <th>search_year</th>\n",
              "      <th>search_month</th>\n",
              "      <th>search_week</th>\n",
              "    </tr>\n",
              "  </thead>\n",
              "  <tbody>\n",
              "    <tr>\n",
              "      <th>424</th>\n",
              "      <td>2014-12-29</td>\n",
              "      <td>google</td>\n",
              "      <td>5341</td>\n",
              "      <td>8</td>\n",
              "      <td>1</td>\n",
              "      <td>2015</td>\n",
              "      <td>2014</td>\n",
              "      <td>12</td>\n",
              "      <td>1</td>\n",
              "    </tr>\n",
              "    <tr>\n",
              "      <th>425</th>\n",
              "      <td>2014-12-30</td>\n",
              "      <td>google</td>\n",
              "      <td>5977</td>\n",
              "      <td>8</td>\n",
              "      <td>1</td>\n",
              "      <td>2015</td>\n",
              "      <td>2014</td>\n",
              "      <td>12</td>\n",
              "      <td>1</td>\n",
              "    </tr>\n",
              "    <tr>\n",
              "      <th>426</th>\n",
              "      <td>2014-12-31</td>\n",
              "      <td>google</td>\n",
              "      <td>4197</td>\n",
              "      <td>8</td>\n",
              "      <td>1</td>\n",
              "      <td>2015</td>\n",
              "      <td>2014</td>\n",
              "      <td>12</td>\n",
              "      <td>1</td>\n",
              "    </tr>\n",
              "    <tr>\n",
              "      <th>588</th>\n",
              "      <td>2014-12-29</td>\n",
              "      <td>google</td>\n",
              "      <td>271</td>\n",
              "      <td>39</td>\n",
              "      <td>1</td>\n",
              "      <td>2015</td>\n",
              "      <td>2014</td>\n",
              "      <td>12</td>\n",
              "      <td>1</td>\n",
              "    </tr>\n",
              "    <tr>\n",
              "      <th>1144</th>\n",
              "      <td>2014-12-29</td>\n",
              "      <td>google</td>\n",
              "      <td>5755</td>\n",
              "      <td>747</td>\n",
              "      <td>1</td>\n",
              "      <td>2015</td>\n",
              "      <td>2014</td>\n",
              "      <td>12</td>\n",
              "      <td>1</td>\n",
              "    </tr>\n",
              "    <tr>\n",
              "      <th>...</th>\n",
              "      <td>...</td>\n",
              "      <td>...</td>\n",
              "      <td>...</td>\n",
              "      <td>...</td>\n",
              "      <td>...</td>\n",
              "      <td>...</td>\n",
              "      <td>...</td>\n",
              "      <td>...</td>\n",
              "      <td>...</td>\n",
              "    </tr>\n",
              "    <tr>\n",
              "      <th>141018</th>\n",
              "      <td>2018-12-31</td>\n",
              "      <td>amazon</td>\n",
              "      <td>76</td>\n",
              "      <td>732</td>\n",
              "      <td>1</td>\n",
              "      <td>2019</td>\n",
              "      <td>2018</td>\n",
              "      <td>12</td>\n",
              "      <td>1</td>\n",
              "    </tr>\n",
              "    <tr>\n",
              "      <th>141070</th>\n",
              "      <td>2018-12-31</td>\n",
              "      <td>amazon</td>\n",
              "      <td>189</td>\n",
              "      <td>75</td>\n",
              "      <td>1</td>\n",
              "      <td>2019</td>\n",
              "      <td>2018</td>\n",
              "      <td>12</td>\n",
              "      <td>1</td>\n",
              "    </tr>\n",
              "    <tr>\n",
              "      <th>141691</th>\n",
              "      <td>2018-12-31</td>\n",
              "      <td>chewy</td>\n",
              "      <td>38</td>\n",
              "      <td>904</td>\n",
              "      <td>1</td>\n",
              "      <td>2019</td>\n",
              "      <td>2018</td>\n",
              "      <td>12</td>\n",
              "      <td>1</td>\n",
              "    </tr>\n",
              "    <tr>\n",
              "      <th>142059</th>\n",
              "      <td>2018-12-31</td>\n",
              "      <td>chewy</td>\n",
              "      <td>38</td>\n",
              "      <td>918</td>\n",
              "      <td>1</td>\n",
              "      <td>2019</td>\n",
              "      <td>2018</td>\n",
              "      <td>12</td>\n",
              "      <td>1</td>\n",
              "    </tr>\n",
              "    <tr>\n",
              "      <th>142148</th>\n",
              "      <td>2018-12-31</td>\n",
              "      <td>chewy</td>\n",
              "      <td>832</td>\n",
              "      <td>670</td>\n",
              "      <td>1</td>\n",
              "      <td>2019</td>\n",
              "      <td>2018</td>\n",
              "      <td>12</td>\n",
              "      <td>1</td>\n",
              "    </tr>\n",
              "  </tbody>\n",
              "</table>\n",
              "<p>966 rows × 9 columns</p>\n",
              "</div>\n",
              "      <button class=\"colab-df-convert\" onclick=\"convertToInteractive('df-d5773f5e-e338-4f1a-8504-281a895ffc76')\"\n",
              "              title=\"Convert this dataframe to an interactive table.\"\n",
              "              style=\"display:none;\">\n",
              "        \n",
              "  <svg xmlns=\"http://www.w3.org/2000/svg\" height=\"24px\"viewBox=\"0 0 24 24\"\n",
              "       width=\"24px\">\n",
              "    <path d=\"M0 0h24v24H0V0z\" fill=\"none\"/>\n",
              "    <path d=\"M18.56 5.44l.94 2.06.94-2.06 2.06-.94-2.06-.94-.94-2.06-.94 2.06-2.06.94zm-11 1L8.5 8.5l.94-2.06 2.06-.94-2.06-.94L8.5 2.5l-.94 2.06-2.06.94zm10 10l.94 2.06.94-2.06 2.06-.94-2.06-.94-.94-2.06-.94 2.06-2.06.94z\"/><path d=\"M17.41 7.96l-1.37-1.37c-.4-.4-.92-.59-1.43-.59-.52 0-1.04.2-1.43.59L10.3 9.45l-7.72 7.72c-.78.78-.78 2.05 0 2.83L4 21.41c.39.39.9.59 1.41.59.51 0 1.02-.2 1.41-.59l7.78-7.78 2.81-2.81c.8-.78.8-2.07 0-2.86zM5.41 20L4 18.59l7.72-7.72 1.47 1.35L5.41 20z\"/>\n",
              "  </svg>\n",
              "      </button>\n",
              "      \n",
              "  <style>\n",
              "    .colab-df-container {\n",
              "      display:flex;\n",
              "      flex-wrap:wrap;\n",
              "      gap: 12px;\n",
              "    }\n",
              "\n",
              "    .colab-df-convert {\n",
              "      background-color: #E8F0FE;\n",
              "      border: none;\n",
              "      border-radius: 50%;\n",
              "      cursor: pointer;\n",
              "      display: none;\n",
              "      fill: #1967D2;\n",
              "      height: 32px;\n",
              "      padding: 0 0 0 0;\n",
              "      width: 32px;\n",
              "    }\n",
              "\n",
              "    .colab-df-convert:hover {\n",
              "      background-color: #E2EBFA;\n",
              "      box-shadow: 0px 1px 2px rgba(60, 64, 67, 0.3), 0px 1px 3px 1px rgba(60, 64, 67, 0.15);\n",
              "      fill: #174EA6;\n",
              "    }\n",
              "\n",
              "    [theme=dark] .colab-df-convert {\n",
              "      background-color: #3B4455;\n",
              "      fill: #D2E3FC;\n",
              "    }\n",
              "\n",
              "    [theme=dark] .colab-df-convert:hover {\n",
              "      background-color: #434B5C;\n",
              "      box-shadow: 0px 1px 3px 1px rgba(0, 0, 0, 0.15);\n",
              "      filter: drop-shadow(0px 1px 2px rgba(0, 0, 0, 0.3));\n",
              "      fill: #FFFFFF;\n",
              "    }\n",
              "  </style>\n",
              "\n",
              "      <script>\n",
              "        const buttonEl =\n",
              "          document.querySelector('#df-d5773f5e-e338-4f1a-8504-281a895ffc76 button.colab-df-convert');\n",
              "        buttonEl.style.display =\n",
              "          google.colab.kernel.accessAllowed ? 'block' : 'none';\n",
              "\n",
              "        async function convertToInteractive(key) {\n",
              "          const element = document.querySelector('#df-d5773f5e-e338-4f1a-8504-281a895ffc76');\n",
              "          const dataTable =\n",
              "            await google.colab.kernel.invokeFunction('convertToInteractive',\n",
              "                                                     [key], {});\n",
              "          if (!dataTable) return;\n",
              "\n",
              "          const docLinkHtml = 'Like what you see? Visit the ' +\n",
              "            '<a target=\"_blank\" href=https://colab.research.google.com/notebooks/data_table.ipynb>data table notebook</a>'\n",
              "            + ' to learn more about interactive tables.';\n",
              "          element.innerHTML = '';\n",
              "          dataTable['output_type'] = 'display_data';\n",
              "          await google.colab.output.renderOutput(dataTable, element);\n",
              "          const docLink = document.createElement('div');\n",
              "          docLink.innerHTML = docLinkHtml;\n",
              "          element.appendChild(docLink);\n",
              "        }\n",
              "      </script>\n",
              "    </div>\n",
              "  </div>\n",
              "  "
            ]
          },
          "metadata": {},
          "execution_count": 138
        }
      ]
    },
    {
      "cell_type": "code",
      "source": [
        "#df_gs.loc[((df_gs.search_week==1)|(df_gs.search_week==53)|(df_gs.search_week==52)) & (df_gs.search_month==12), 'search_year'] = df_gs.search_year+1\n",
        "df_gs_yearly = df_gs.groupby(['search_year','Claim_ID']).sum()['searchVolume'].reset_index().sort_values(by=['search_year','searchVolume'])\n",
        "df_gs_yearly.head()"
      ],
      "metadata": {
        "id": "L0pjQnIFpkju",
        "colab": {
          "base_uri": "https://localhost:8080/",
          "height": 206
        },
        "outputId": "830168f4-9b9f-4da6-880f-f57913c07997"
      },
      "id": "L0pjQnIFpkju",
      "execution_count": 146,
      "outputs": [
        {
          "output_type": "execute_result",
          "data": {
            "text/plain": [
              "     search_year  Claim_ID  searchVolume\n",
              "100         2014       928             2\n",
              "70          2014       754             4\n",
              "96          2014       915             9\n",
              "63          2014       702            30\n",
              "91          2014       903            60"
            ],
            "text/html": [
              "\n",
              "  <div id=\"df-08957adb-913e-41d6-8c62-81e2b2aa8db4\">\n",
              "    <div class=\"colab-df-container\">\n",
              "      <div>\n",
              "<style scoped>\n",
              "    .dataframe tbody tr th:only-of-type {\n",
              "        vertical-align: middle;\n",
              "    }\n",
              "\n",
              "    .dataframe tbody tr th {\n",
              "        vertical-align: top;\n",
              "    }\n",
              "\n",
              "    .dataframe thead th {\n",
              "        text-align: right;\n",
              "    }\n",
              "</style>\n",
              "<table border=\"1\" class=\"dataframe\">\n",
              "  <thead>\n",
              "    <tr style=\"text-align: right;\">\n",
              "      <th></th>\n",
              "      <th>search_year</th>\n",
              "      <th>Claim_ID</th>\n",
              "      <th>searchVolume</th>\n",
              "    </tr>\n",
              "  </thead>\n",
              "  <tbody>\n",
              "    <tr>\n",
              "      <th>100</th>\n",
              "      <td>2014</td>\n",
              "      <td>928</td>\n",
              "      <td>2</td>\n",
              "    </tr>\n",
              "    <tr>\n",
              "      <th>70</th>\n",
              "      <td>2014</td>\n",
              "      <td>754</td>\n",
              "      <td>4</td>\n",
              "    </tr>\n",
              "    <tr>\n",
              "      <th>96</th>\n",
              "      <td>2014</td>\n",
              "      <td>915</td>\n",
              "      <td>9</td>\n",
              "    </tr>\n",
              "    <tr>\n",
              "      <th>63</th>\n",
              "      <td>2014</td>\n",
              "      <td>702</td>\n",
              "      <td>30</td>\n",
              "    </tr>\n",
              "    <tr>\n",
              "      <th>91</th>\n",
              "      <td>2014</td>\n",
              "      <td>903</td>\n",
              "      <td>60</td>\n",
              "    </tr>\n",
              "  </tbody>\n",
              "</table>\n",
              "</div>\n",
              "      <button class=\"colab-df-convert\" onclick=\"convertToInteractive('df-08957adb-913e-41d6-8c62-81e2b2aa8db4')\"\n",
              "              title=\"Convert this dataframe to an interactive table.\"\n",
              "              style=\"display:none;\">\n",
              "        \n",
              "  <svg xmlns=\"http://www.w3.org/2000/svg\" height=\"24px\"viewBox=\"0 0 24 24\"\n",
              "       width=\"24px\">\n",
              "    <path d=\"M0 0h24v24H0V0z\" fill=\"none\"/>\n",
              "    <path d=\"M18.56 5.44l.94 2.06.94-2.06 2.06-.94-2.06-.94-.94-2.06-.94 2.06-2.06.94zm-11 1L8.5 8.5l.94-2.06 2.06-.94-2.06-.94L8.5 2.5l-.94 2.06-2.06.94zm10 10l.94 2.06.94-2.06 2.06-.94-2.06-.94-.94-2.06-.94 2.06-2.06.94z\"/><path d=\"M17.41 7.96l-1.37-1.37c-.4-.4-.92-.59-1.43-.59-.52 0-1.04.2-1.43.59L10.3 9.45l-7.72 7.72c-.78.78-.78 2.05 0 2.83L4 21.41c.39.39.9.59 1.41.59.51 0 1.02-.2 1.41-.59l7.78-7.78 2.81-2.81c.8-.78.8-2.07 0-2.86zM5.41 20L4 18.59l7.72-7.72 1.47 1.35L5.41 20z\"/>\n",
              "  </svg>\n",
              "      </button>\n",
              "      \n",
              "  <style>\n",
              "    .colab-df-container {\n",
              "      display:flex;\n",
              "      flex-wrap:wrap;\n",
              "      gap: 12px;\n",
              "    }\n",
              "\n",
              "    .colab-df-convert {\n",
              "      background-color: #E8F0FE;\n",
              "      border: none;\n",
              "      border-radius: 50%;\n",
              "      cursor: pointer;\n",
              "      display: none;\n",
              "      fill: #1967D2;\n",
              "      height: 32px;\n",
              "      padding: 0 0 0 0;\n",
              "      width: 32px;\n",
              "    }\n",
              "\n",
              "    .colab-df-convert:hover {\n",
              "      background-color: #E2EBFA;\n",
              "      box-shadow: 0px 1px 2px rgba(60, 64, 67, 0.3), 0px 1px 3px 1px rgba(60, 64, 67, 0.15);\n",
              "      fill: #174EA6;\n",
              "    }\n",
              "\n",
              "    [theme=dark] .colab-df-convert {\n",
              "      background-color: #3B4455;\n",
              "      fill: #D2E3FC;\n",
              "    }\n",
              "\n",
              "    [theme=dark] .colab-df-convert:hover {\n",
              "      background-color: #434B5C;\n",
              "      box-shadow: 0px 1px 3px 1px rgba(0, 0, 0, 0.15);\n",
              "      filter: drop-shadow(0px 1px 2px rgba(0, 0, 0, 0.3));\n",
              "      fill: #FFFFFF;\n",
              "    }\n",
              "  </style>\n",
              "\n",
              "      <script>\n",
              "        const buttonEl =\n",
              "          document.querySelector('#df-08957adb-913e-41d6-8c62-81e2b2aa8db4 button.colab-df-convert');\n",
              "        buttonEl.style.display =\n",
              "          google.colab.kernel.accessAllowed ? 'block' : 'none';\n",
              "\n",
              "        async function convertToInteractive(key) {\n",
              "          const element = document.querySelector('#df-08957adb-913e-41d6-8c62-81e2b2aa8db4');\n",
              "          const dataTable =\n",
              "            await google.colab.kernel.invokeFunction('convertToInteractive',\n",
              "                                                     [key], {});\n",
              "          if (!dataTable) return;\n",
              "\n",
              "          const docLinkHtml = 'Like what you see? Visit the ' +\n",
              "            '<a target=\"_blank\" href=https://colab.research.google.com/notebooks/data_table.ipynb>data table notebook</a>'\n",
              "            + ' to learn more about interactive tables.';\n",
              "          element.innerHTML = '';\n",
              "          dataTable['output_type'] = 'display_data';\n",
              "          await google.colab.output.renderOutput(dataTable, element);\n",
              "          const docLink = document.createElement('div');\n",
              "          docLink.innerHTML = docLinkHtml;\n",
              "          element.appendChild(docLink);\n",
              "        }\n",
              "      </script>\n",
              "    </div>\n",
              "  </div>\n",
              "  "
            ]
          },
          "metadata": {},
          "execution_count": 146
        }
      ]
    },
    {
      "cell_type": "code",
      "source": [
        "# sns.set_theme(style=\"whitegrid\")\n",
        "sns.set(style=\"darkgrid\")\n",
        "\n",
        "fig, axs = plt.subplots(3, 2, figsize=(15, 15))\n",
        "\n",
        "axs[0, 0].set_title(\"Search Year - 2015\")\n",
        "axs[0, 1].set_title(\"Search Year - 2016\")\n",
        "axs[1, 0].set_title(\"Search Year - 2017\")\n",
        "axs[1, 1].set_title(\"Search Year - 2018\")\n",
        "axs[2, 0].set_title(\"Search Year - 2019\")\n",
        "\n",
        "plt.subplots_adjust(bottom=0.05)\n",
        "#fig.tight_layout()\n",
        "\n",
        "sns.histplot(data=df_gs_yearly[df_gs_yearly.search_year==2014], x=\"searchVolume\", kde=True, color=\"teal\", ax=axs[0, 0])\n",
        "sns.histplot(data=df_gs_yearly[df_gs_yearly.search_year==2015], x=\"searchVolume\", kde=True, color=\"teal\", ax=axs[0, 1])\n",
        "sns.histplot(data=df_gs_yearly[df_gs_yearly.search_year==2016], x=\"searchVolume\", kde=True, color=\"teal\", ax=axs[1,0])\n",
        "sns.histplot(data=df_gs_yearly[df_gs_yearly.search_year==2017], x=\"searchVolume\", kde=True, color=\"teal\", ax=axs[1, 1])\n",
        "sns.histplot(data=df_gs_yearly[df_gs_yearly.search_year==2018], x=\"searchVolume\", kde=True, color=\"teal\", ax=axs[2, 0])\n",
        "sns.histplot(data=df_gs_yearly[df_gs_yearly.search_year==2019], x=\"searchVolume\", kde=True, color=\"teal\", ax=axs[2, 1])\n",
        "\n",
        "plt.show()"
      ],
      "metadata": {
        "colab": {
          "base_uri": "https://localhost:8080/",
          "height": 980
        },
        "id": "PRbXmvysC1bk",
        "outputId": "6c2b6d51-da3c-495c-b9bd-157d500622e0"
      },
      "id": "PRbXmvysC1bk",
      "execution_count": 148,
      "outputs": [
        {
          "output_type": "display_data",
          "data": {
            "text/plain": [
              "<Figure size 1080x1080 with 6 Axes>"
            ],
            "image/png": "[encoded data removed]"
          },
          "metadata": {}
        }
      ]
    },
    {
      "cell_type": "code",
      "source": [
        "# sns.set_theme(style=\"whitegrid\")\n",
        "sns.set(style=\"darkgrid\")\n",
        "\n",
        "fig, axs = plt.subplots(3, 2, figsize=(15, 15))\n",
        "\n",
        "axs[0, 0].set_title(\"Search Year - 2014\")\n",
        "axs[0, 1].set_title(\"Search Year - 2015\")\n",
        "axs[1, 0].set_title(\"Search Yearr - 2016\")\n",
        "axs[1, 1].set_title(\"Search Year - 2017\")\n",
        "axs[2, 0].set_title(\"Search Year - 2018\")\n",
        "axs[2, 1].set_title(\"Search Year - 2019\")\n",
        "\n",
        "plt.suptitle('Distribution of Total number of posts - across theme ids')\n",
        "plt.subplots_adjust(bottom=0.05)\n",
        "\n",
        "#fig.tight_layout()\n",
        "\n",
        "sns.scatterplot(data=df_gs[df_gs['search_year']==2014].groupby('Claim_ID').sum().reset_index(), x = 'Claim_ID',y='searchVolume',ax=axs[0, 0])\n",
        "sns.scatterplot(data=df_gs[df_gs['search_year']==2015].groupby('Claim_ID').sum().reset_index(), x = 'Claim_ID',y='searchVolume',ax=axs[0, 1])\n",
        "sns.scatterplot(data=df_gs[df_gs['search_year']==2016].groupby('Claim_ID').sum().reset_index(), x = 'Claim_ID',y='searchVolume',ax=axs[1, 0])\n",
        "sns.scatterplot(data=df_gs[df_gs['search_year']==2017].groupby('Claim_ID').sum().reset_index(), x = 'Claim_ID',y='searchVolume',ax=axs[1, 1])\n",
        "sns.scatterplot(data=df_gs[df_gs['search_year']==2018].groupby('Claim_ID').sum().reset_index(), x = 'Claim_ID',y='searchVolume',ax=axs[2, 0])\n",
        "sns.scatterplot(data=df_gs[df_gs['search_year']==2019].groupby('Claim_ID').sum().reset_index(), x = 'Claim_ID',y='searchVolume',ax=axs[2, 1])\n",
        "\n",
        "plt.show()"
      ],
      "metadata": {
        "colab": {
          "base_uri": "https://localhost:8080/",
          "height": 1000
        },
        "id": "jQ7EEb_tKMDd",
        "outputId": "2f2b0924-8b72-445d-abc6-7b3133247556"
      },
      "id": "jQ7EEb_tKMDd",
      "execution_count": 166,
      "outputs": [
        {
          "output_type": "display_data",
          "data": {
            "text/plain": [
              "<Figure size 1080x1080 with 6 Axes>"
            ],
            "image/png": "[encoded data removed]"
          },
          "metadata": {}
        }
      ]
    },
    {
      "cell_type": "code",
      "source": [
        "plt.figure().set_size_inches(10, 8)\n",
        "sns.heatmap(df_gs.corr())\n",
        "plt.show"
      ],
      "metadata": {
        "colab": {
          "base_uri": "https://localhost:8080/",
          "height": 575
        },
        "id": "YATEILyI4lqI",
        "outputId": "21517c0f-ea17-4583-a753-20262e4e0ada"
      },
      "id": "YATEILyI4lqI",
      "execution_count": 226,
      "outputs": [
        {
          "output_type": "execute_result",
          "data": {
            "text/plain": [
              "<function matplotlib.pyplot.show(*args, **kw)>"
            ]
          },
          "metadata": {},
          "execution_count": 226
        },
        {
          "output_type": "display_data",
          "data": {
            "text/plain": [
              "<Figure size 720x576 with 2 Axes>"
            ],
            "image/png": "[encoded data removed]"
          },
          "metadata": {}
        }
      ]
    },
    {
      "cell_type": "markdown",
      "source": [
        "## Sales Data"
      ],
      "metadata": {
        "id": "PIgCoLgTfJ8z"
      },
      "id": "PIgCoLgTfJ8z"
    },
    {
      "cell_type": "code",
      "source": [
        "df_sales = input_read('files/sales_data.csv')"
      ],
      "metadata": {
        "colab": {
          "base_uri": "https://localhost:8080/"
        },
        "id": "QjzmU72yfRGY",
        "outputId": "381ccecc-e2f7-4d7d-b50f-b4b05c72db2e"
      },
      "id": "QjzmU72yfRGY",
      "execution_count": 167,
      "outputs": [
        {
          "output_type": "stream",
          "name": "stdout",
          "text": [
            "Shape of sales_data : (4526182, 5)\n",
            "\n",
            "List of columns in sales_data : Index(['system_calendar_key_N', 'product_id', 'sales_dollars_value',\n",
            "       'sales_units_value', 'sales_lbs_value'],\n",
            "      dtype='object')\n",
            "\n",
            "Datatype of columns in sales_data :\n",
            "system_calendar_key_N      int64\n",
            "product_id                 int64\n",
            "sales_dollars_value      float64\n",
            "sales_units_value          int64\n",
            "sales_lbs_value            int64\n",
            "dtype: object\n"
          ]
        }
      ]
    },
    {
      "cell_type": "code",
      "source": [
        "df_sales_bkp = df_sales.copy()"
      ],
      "metadata": {
        "id": "_cjS6c-jfXtw"
      },
      "id": "_cjS6c-jfXtw",
      "execution_count": 168,
      "outputs": []
    },
    {
      "cell_type": "code",
      "source": [
        "df_sales.head()"
      ],
      "metadata": {
        "colab": {
          "base_uri": "https://localhost:8080/",
          "height": 206
        },
        "id": "dOwFCcxnfXxf",
        "outputId": "271b08fa-0550-4f3f-ad3e-304258d89902"
      },
      "id": "dOwFCcxnfXxf",
      "execution_count": 169,
      "outputs": [
        {
          "output_type": "execute_result",
          "data": {
            "text/plain": [
              "   system_calendar_key_N  product_id  sales_dollars_value  sales_units_value  \\\n",
              "0               20160109           1            13927.000                934   \n",
              "1               20160109           3            10289.000               1592   \n",
              "2               20160109           4              357.000                 22   \n",
              "3               20160109           6            23113.000               2027   \n",
              "4               20160109           7            23177.000               3231   \n",
              "\n",
              "   sales_lbs_value  \n",
              "0            18680  \n",
              "1            28646  \n",
              "2              440  \n",
              "3            81088  \n",
              "4            58164  "
            ],
            "text/html": [
              "\n",
              "  <div id=\"df-621c12eb-a5d5-40b0-94f8-ef1162737132\">\n",
              "    <div class=\"colab-df-container\">\n",
              "      <div>\n",
              "<style scoped>\n",
              "    .dataframe tbody tr th:only-of-type {\n",
              "        vertical-align: middle;\n",
              "    }\n",
              "\n",
              "    .dataframe tbody tr th {\n",
              "        vertical-align: top;\n",
              "    }\n",
              "\n",
              "    .dataframe thead th {\n",
              "        text-align: right;\n",
              "    }\n",
              "</style>\n",
              "<table border=\"1\" class=\"dataframe\">\n",
              "  <thead>\n",
              "    <tr style=\"text-align: right;\">\n",
              "      <th></th>\n",
              "      <th>system_calendar_key_N</th>\n",
              "      <th>product_id</th>\n",
              "      <th>sales_dollars_value</th>\n",
              "      <th>sales_units_value</th>\n",
              "      <th>sales_lbs_value</th>\n",
              "    </tr>\n",
              "  </thead>\n",
              "  <tbody>\n",
              "    <tr>\n",
              "      <th>0</th>\n",
              "      <td>20160109</td>\n",
              "      <td>1</td>\n",
              "      <td>13927.000</td>\n",
              "      <td>934</td>\n",
              "      <td>18680</td>\n",
              "    </tr>\n",
              "    <tr>\n",
              "      <th>1</th>\n",
              "      <td>20160109</td>\n",
              "      <td>3</td>\n",
              "      <td>10289.000</td>\n",
              "      <td>1592</td>\n",
              "      <td>28646</td>\n",
              "    </tr>\n",
              "    <tr>\n",
              "      <th>2</th>\n",
              "      <td>20160109</td>\n",
              "      <td>4</td>\n",
              "      <td>357.000</td>\n",
              "      <td>22</td>\n",
              "      <td>440</td>\n",
              "    </tr>\n",
              "    <tr>\n",
              "      <th>3</th>\n",
              "      <td>20160109</td>\n",
              "      <td>6</td>\n",
              "      <td>23113.000</td>\n",
              "      <td>2027</td>\n",
              "      <td>81088</td>\n",
              "    </tr>\n",
              "    <tr>\n",
              "      <th>4</th>\n",
              "      <td>20160109</td>\n",
              "      <td>7</td>\n",
              "      <td>23177.000</td>\n",
              "      <td>3231</td>\n",
              "      <td>58164</td>\n",
              "    </tr>\n",
              "  </tbody>\n",
              "</table>\n",
              "</div>\n",
              "      <button class=\"colab-df-convert\" onclick=\"convertToInteractive('df-621c12eb-a5d5-40b0-94f8-ef1162737132')\"\n",
              "              title=\"Convert this dataframe to an interactive table.\"\n",
              "              style=\"display:none;\">\n",
              "        \n",
              "  <svg xmlns=\"http://www.w3.org/2000/svg\" height=\"24px\"viewBox=\"0 0 24 24\"\n",
              "       width=\"24px\">\n",
              "    <path d=\"M0 0h24v24H0V0z\" fill=\"none\"/>\n",
              "    <path d=\"M18.56 5.44l.94 2.06.94-2.06 2.06-.94-2.06-.94-.94-2.06-.94 2.06-2.06.94zm-11 1L8.5 8.5l.94-2.06 2.06-.94-2.06-.94L8.5 2.5l-.94 2.06-2.06.94zm10 10l.94 2.06.94-2.06 2.06-.94-2.06-.94-.94-2.06-.94 2.06-2.06.94z\"/><path d=\"M17.41 7.96l-1.37-1.37c-.4-.4-.92-.59-1.43-.59-.52 0-1.04.2-1.43.59L10.3 9.45l-7.72 7.72c-.78.78-.78 2.05 0 2.83L4 21.41c.39.39.9.59 1.41.59.51 0 1.02-.2 1.41-.59l7.78-7.78 2.81-2.81c.8-.78.8-2.07 0-2.86zM5.41 20L4 18.59l7.72-7.72 1.47 1.35L5.41 20z\"/>\n",
              "  </svg>\n",
              "      </button>\n",
              "      \n",
              "  <style>\n",
              "    .colab-df-container {\n",
              "      display:flex;\n",
              "      flex-wrap:wrap;\n",
              "      gap: 12px;\n",
              "    }\n",
              "\n",
              "    .colab-df-convert {\n",
              "      background-color: #E8F0FE;\n",
              "      border: none;\n",
              "      border-radius: 50%;\n",
              "      cursor: pointer;\n",
              "      display: none;\n",
              "      fill: #1967D2;\n",
              "      height: 32px;\n",
              "      padding: 0 0 0 0;\n",
              "      width: 32px;\n",
              "    }\n",
              "\n",
              "    .colab-df-convert:hover {\n",
              "      background-color: #E2EBFA;\n",
              "      box-shadow: 0px 1px 2px rgba(60, 64, 67, 0.3), 0px 1px 3px 1px rgba(60, 64, 67, 0.15);\n",
              "      fill: #174EA6;\n",
              "    }\n",
              "\n",
              "    [theme=dark] .colab-df-convert {\n",
              "      background-color: #3B4455;\n",
              "      fill: #D2E3FC;\n",
              "    }\n",
              "\n",
              "    [theme=dark] .colab-df-convert:hover {\n",
              "      background-color: #434B5C;\n",
              "      box-shadow: 0px 1px 3px 1px rgba(0, 0, 0, 0.15);\n",
              "      filter: drop-shadow(0px 1px 2px rgba(0, 0, 0, 0.3));\n",
              "      fill: #FFFFFF;\n",
              "    }\n",
              "  </style>\n",
              "\n",
              "      <script>\n",
              "        const buttonEl =\n",
              "          document.querySelector('#df-621c12eb-a5d5-40b0-94f8-ef1162737132 button.colab-df-convert');\n",
              "        buttonEl.style.display =\n",
              "          google.colab.kernel.accessAllowed ? 'block' : 'none';\n",
              "\n",
              "        async function convertToInteractive(key) {\n",
              "          const element = document.querySelector('#df-621c12eb-a5d5-40b0-94f8-ef1162737132');\n",
              "          const dataTable =\n",
              "            await google.colab.kernel.invokeFunction('convertToInteractive',\n",
              "                                                     [key], {});\n",
              "          if (!dataTable) return;\n",
              "\n",
              "          const docLinkHtml = 'Like what you see? Visit the ' +\n",
              "            '<a target=\"_blank\" href=https://colab.research.google.com/notebooks/data_table.ipynb>data table notebook</a>'\n",
              "            + ' to learn more about interactive tables.';\n",
              "          element.innerHTML = '';\n",
              "          dataTable['output_type'] = 'display_data';\n",
              "          await google.colab.output.renderOutput(dataTable, element);\n",
              "          const docLink = document.createElement('div');\n",
              "          docLink.innerHTML = docLinkHtml;\n",
              "          element.appendChild(docLink);\n",
              "        }\n",
              "      </script>\n",
              "    </div>\n",
              "  </div>\n",
              "  "
            ]
          },
          "metadata": {},
          "execution_count": 169
        }
      ]
    },
    {
      "cell_type": "code",
      "source": [
        "df_sales.isnull().sum()"
      ],
      "metadata": {
        "colab": {
          "base_uri": "https://localhost:8080/"
        },
        "id": "12LPw1phO2n1",
        "outputId": "5a4a92bc-8cdf-4e4a-ed35-8f09e6f1aee7"
      },
      "id": "12LPw1phO2n1",
      "execution_count": 170,
      "outputs": [
        {
          "output_type": "execute_result",
          "data": {
            "text/plain": [
              "system_calendar_key_N    0\n",
              "product_id               0\n",
              "sales_dollars_value      0\n",
              "sales_units_value        0\n",
              "sales_lbs_value          0\n",
              "dtype: int64"
            ]
          },
          "metadata": {},
          "execution_count": 170
        }
      ]
    },
    {
      "cell_type": "code",
      "source": [
        "df_sales.describe()"
      ],
      "metadata": {
        "colab": {
          "base_uri": "https://localhost:8080/",
          "height": 300
        },
        "id": "y_DPTApQPuWQ",
        "outputId": "4773e9f5-ee67-43d2-f69d-a9873aca296a"
      },
      "id": "y_DPTApQPuWQ",
      "execution_count": 171,
      "outputs": [
        {
          "output_type": "execute_result",
          "data": {
            "text/plain": [
              "       system_calendar_key_N  product_id  sales_dollars_value  \\\n",
              "count            4526182.000 4526182.000          4526182.000   \n",
              "mean            20175054.752   28858.569            21594.541   \n",
              "std                10735.371   15312.537            78180.566   \n",
              "min             20160109.000       1.000                0.000   \n",
              "25%             20161231.000   15069.000              523.000   \n",
              "50%             20171209.000   29981.000             2655.000   \n",
              "75%             20181103.000   41513.000            11765.000   \n",
              "max             20191005.000   57317.000          4395964.000   \n",
              "\n",
              "       sales_units_value  sales_lbs_value  \n",
              "count        4526182.000      4526182.000  \n",
              "mean            5160.053        17153.392  \n",
              "std            26853.408       127340.124  \n",
              "min                1.000            0.000  \n",
              "25%               80.000           86.000  \n",
              "50%              403.000          611.000  \n",
              "75%             1807.000         3770.000  \n",
              "max           873998.000     11003100.000  "
            ],
            "text/html": [
              "\n",
              "  <div id=\"df-d21b705f-ed80-4a52-b622-48bb41166984\">\n",
              "    <div class=\"colab-df-container\">\n",
              "      <div>\n",
              "<style scoped>\n",
              "    .dataframe tbody tr th:only-of-type {\n",
              "        vertical-align: middle;\n",
              "    }\n",
              "\n",
              "    .dataframe tbody tr th {\n",
              "        vertical-align: top;\n",
              "    }\n",
              "\n",
              "    .dataframe thead th {\n",
              "        text-align: right;\n",
              "    }\n",
              "</style>\n",
              "<table border=\"1\" class=\"dataframe\">\n",
              "  <thead>\n",
              "    <tr style=\"text-align: right;\">\n",
              "      <th></th>\n",
              "      <th>system_calendar_key_N</th>\n",
              "      <th>product_id</th>\n",
              "      <th>sales_dollars_value</th>\n",
              "      <th>sales_units_value</th>\n",
              "      <th>sales_lbs_value</th>\n",
              "    </tr>\n",
              "  </thead>\n",
              "  <tbody>\n",
              "    <tr>\n",
              "      <th>count</th>\n",
              "      <td>4526182.000</td>\n",
              "      <td>4526182.000</td>\n",
              "      <td>4526182.000</td>\n",
              "      <td>4526182.000</td>\n",
              "      <td>4526182.000</td>\n",
              "    </tr>\n",
              "    <tr>\n",
              "      <th>mean</th>\n",
              "      <td>20175054.752</td>\n",
              "      <td>28858.569</td>\n",
              "      <td>21594.541</td>\n",
              "      <td>5160.053</td>\n",
              "      <td>17153.392</td>\n",
              "    </tr>\n",
              "    <tr>\n",
              "      <th>std</th>\n",
              "      <td>10735.371</td>\n",
              "      <td>15312.537</td>\n",
              "      <td>78180.566</td>\n",
              "      <td>26853.408</td>\n",
              "      <td>127340.124</td>\n",
              "    </tr>\n",
              "    <tr>\n",
              "      <th>min</th>\n",
              "      <td>20160109.000</td>\n",
              "      <td>1.000</td>\n",
              "      <td>0.000</td>\n",
              "      <td>1.000</td>\n",
              "      <td>0.000</td>\n",
              "    </tr>\n",
              "    <tr>\n",
              "      <th>25%</th>\n",
              "      <td>20161231.000</td>\n",
              "      <td>15069.000</td>\n",
              "      <td>523.000</td>\n",
              "      <td>80.000</td>\n",
              "      <td>86.000</td>\n",
              "    </tr>\n",
              "    <tr>\n",
              "      <th>50%</th>\n",
              "      <td>20171209.000</td>\n",
              "      <td>29981.000</td>\n",
              "      <td>2655.000</td>\n",
              "      <td>403.000</td>\n",
              "      <td>611.000</td>\n",
              "    </tr>\n",
              "    <tr>\n",
              "      <th>75%</th>\n",
              "      <td>20181103.000</td>\n",
              "      <td>41513.000</td>\n",
              "      <td>11765.000</td>\n",
              "      <td>1807.000</td>\n",
              "      <td>3770.000</td>\n",
              "    </tr>\n",
              "    <tr>\n",
              "      <th>max</th>\n",
              "      <td>20191005.000</td>\n",
              "      <td>57317.000</td>\n",
              "      <td>4395964.000</td>\n",
              "      <td>873998.000</td>\n",
              "      <td>11003100.000</td>\n",
              "    </tr>\n",
              "  </tbody>\n",
              "</table>\n",
              "</div>\n",
              "      <button class=\"colab-df-convert\" onclick=\"convertToInteractive('df-d21b705f-ed80-4a52-b622-48bb41166984')\"\n",
              "              title=\"Convert this dataframe to an interactive table.\"\n",
              "              style=\"display:none;\">\n",
              "        \n",
              "  <svg xmlns=\"http://www.w3.org/2000/svg\" height=\"24px\"viewBox=\"0 0 24 24\"\n",
              "       width=\"24px\">\n",
              "    <path d=\"M0 0h24v24H0V0z\" fill=\"none\"/>\n",
              "    <path d=\"M18.56 5.44l.94 2.06.94-2.06 2.06-.94-2.06-.94-.94-2.06-.94 2.06-2.06.94zm-11 1L8.5 8.5l.94-2.06 2.06-.94-2.06-.94L8.5 2.5l-.94 2.06-2.06.94zm10 10l.94 2.06.94-2.06 2.06-.94-2.06-.94-.94-2.06-.94 2.06-2.06.94z\"/><path d=\"M17.41 7.96l-1.37-1.37c-.4-.4-.92-.59-1.43-.59-.52 0-1.04.2-1.43.59L10.3 9.45l-7.72 7.72c-.78.78-.78 2.05 0 2.83L4 21.41c.39.39.9.59 1.41.59.51 0 1.02-.2 1.41-.59l7.78-7.78 2.81-2.81c.8-.78.8-2.07 0-2.86zM5.41 20L4 18.59l7.72-7.72 1.47 1.35L5.41 20z\"/>\n",
              "  </svg>\n",
              "      </button>\n",
              "      \n",
              "  <style>\n",
              "    .colab-df-container {\n",
              "      display:flex;\n",
              "      flex-wrap:wrap;\n",
              "      gap: 12px;\n",
              "    }\n",
              "\n",
              "    .colab-df-convert {\n",
              "      background-color: #E8F0FE;\n",
              "      border: none;\n",
              "      border-radius: 50%;\n",
              "      cursor: pointer;\n",
              "      display: none;\n",
              "      fill: #1967D2;\n",
              "      height: 32px;\n",
              "      padding: 0 0 0 0;\n",
              "      width: 32px;\n",
              "    }\n",
              "\n",
              "    .colab-df-convert:hover {\n",
              "      background-color: #E2EBFA;\n",
              "      box-shadow: 0px 1px 2px rgba(60, 64, 67, 0.3), 0px 1px 3px 1px rgba(60, 64, 67, 0.15);\n",
              "      fill: #174EA6;\n",
              "    }\n",
              "\n",
              "    [theme=dark] .colab-df-convert {\n",
              "      background-color: #3B4455;\n",
              "      fill: #D2E3FC;\n",
              "    }\n",
              "\n",
              "    [theme=dark] .colab-df-convert:hover {\n",
              "      background-color: #434B5C;\n",
              "      box-shadow: 0px 1px 3px 1px rgba(0, 0, 0, 0.15);\n",
              "      filter: drop-shadow(0px 1px 2px rgba(0, 0, 0, 0.3));\n",
              "      fill: #FFFFFF;\n",
              "    }\n",
              "  </style>\n",
              "\n",
              "      <script>\n",
              "        const buttonEl =\n",
              "          document.querySelector('#df-d21b705f-ed80-4a52-b622-48bb41166984 button.colab-df-convert');\n",
              "        buttonEl.style.display =\n",
              "          google.colab.kernel.accessAllowed ? 'block' : 'none';\n",
              "\n",
              "        async function convertToInteractive(key) {\n",
              "          const element = document.querySelector('#df-d21b705f-ed80-4a52-b622-48bb41166984');\n",
              "          const dataTable =\n",
              "            await google.colab.kernel.invokeFunction('convertToInteractive',\n",
              "                                                     [key], {});\n",
              "          if (!dataTable) return;\n",
              "\n",
              "          const docLinkHtml = 'Like what you see? Visit the ' +\n",
              "            '<a target=\"_blank\" href=https://colab.research.google.com/notebooks/data_table.ipynb>data table notebook</a>'\n",
              "            + ' to learn more about interactive tables.';\n",
              "          element.innerHTML = '';\n",
              "          dataTable['output_type'] = 'display_data';\n",
              "          await google.colab.output.renderOutput(dataTable, element);\n",
              "          const docLink = document.createElement('div');\n",
              "          docLink.innerHTML = docLinkHtml;\n",
              "          element.appendChild(docLink);\n",
              "        }\n",
              "      </script>\n",
              "    </div>\n",
              "  </div>\n",
              "  "
            ]
          },
          "metadata": {},
          "execution_count": 171
        }
      ]
    },
    {
      "cell_type": "code",
      "source": [
        "df_sales['product_id'].nunique()"
      ],
      "metadata": {
        "colab": {
          "base_uri": "https://localhost:8080/"
        },
        "id": "aEYy72QNRemW",
        "outputId": "e4b047da-bab0-4908-8e72-947ea06bf13b"
      },
      "id": "aEYy72QNRemW",
      "execution_count": 177,
      "outputs": [
        {
          "output_type": "execute_result",
          "data": {
            "text/plain": [
              "42616"
            ]
          },
          "metadata": {},
          "execution_count": 177
        }
      ]
    },
    {
      "cell_type": "code",
      "source": [
        "df_sales['year'] = df_sales['system_calendar_key_N'].apply(lambda x: int(str(x)[:4]))"
      ],
      "metadata": {
        "id": "0BJKdgMMP20m"
      },
      "id": "0BJKdgMMP20m",
      "execution_count": 172,
      "outputs": []
    },
    {
      "cell_type": "code",
      "source": [
        "df_sales['year'].value_counts()"
      ],
      "metadata": {
        "colab": {
          "base_uri": "https://localhost:8080/"
        },
        "id": "xru1o6kYQ2HM",
        "outputId": "db67b5a3-c042-4c61-c42f-e6d286e67aa0"
      },
      "id": "xru1o6kYQ2HM",
      "execution_count": 173,
      "outputs": [
        {
          "output_type": "execute_result",
          "data": {
            "text/plain": [
              "2018    1248368\n",
              "2017    1206939\n",
              "2016    1132156\n",
              "2019     938719\n",
              "Name: year, dtype: int64"
            ]
          },
          "metadata": {},
          "execution_count": 173
        }
      ]
    },
    {
      "cell_type": "markdown",
      "source": [
        "## Theme list"
      ],
      "metadata": {
        "id": "kP9RSWJ7fnWK"
      },
      "id": "kP9RSWJ7fnWK"
    },
    {
      "cell_type": "code",
      "source": [
        "df_themes = input_read('files/Theme_list.csv')"
      ],
      "metadata": {
        "colab": {
          "base_uri": "https://localhost:8080/"
        },
        "id": "MdXjTOsAfX1N",
        "outputId": "8841e30b-02e5-4464-ecb7-dce600b65059"
      },
      "id": "MdXjTOsAfX1N",
      "execution_count": 175,
      "outputs": [
        {
          "output_type": "stream",
          "name": "stdout",
          "text": [
            "Shape of Theme_list : (208, 2)\n",
            "\n",
            "List of columns in Theme_list : Index(['CLAIM_ID', 'Claim Name'], dtype='object')\n",
            "\n",
            "Datatype of columns in Theme_list :\n",
            "CLAIM_ID       int64\n",
            "Claim Name    object\n",
            "dtype: object\n"
          ]
        }
      ]
    },
    {
      "cell_type": "code",
      "source": [
        "df_themes.head()"
      ],
      "metadata": {
        "colab": {
          "base_uri": "https://localhost:8080/",
          "height": 206
        },
        "id": "sulDIh_xfX4r",
        "outputId": "aad54077-e519-4bae-ee31-e197ca5a4a64"
      },
      "id": "sulDIh_xfX4r",
      "execution_count": 178,
      "outputs": [
        {
          "output_type": "execute_result",
          "data": {
            "text/plain": [
              "   CLAIM_ID Claim Name\n",
              "0         0   No Claim\n",
              "1         8   low carb\n",
              "2        15      beans\n",
              "3        16      cocoa\n",
              "4        26    vanilla"
            ],
            "text/html": [
              "\n",
              "  <div id=\"df-1e3ffda6-78e6-427c-8364-d7dabae72c4d\">\n",
              "    <div class=\"colab-df-container\">\n",
              "      <div>\n",
              "<style scoped>\n",
              "    .dataframe tbody tr th:only-of-type {\n",
              "        vertical-align: middle;\n",
              "    }\n",
              "\n",
              "    .dataframe tbody tr th {\n",
              "        vertical-align: top;\n",
              "    }\n",
              "\n",
              "    .dataframe thead th {\n",
              "        text-align: right;\n",
              "    }\n",
              "</style>\n",
              "<table border=\"1\" class=\"dataframe\">\n",
              "  <thead>\n",
              "    <tr style=\"text-align: right;\">\n",
              "      <th></th>\n",
              "      <th>CLAIM_ID</th>\n",
              "      <th>Claim Name</th>\n",
              "    </tr>\n",
              "  </thead>\n",
              "  <tbody>\n",
              "    <tr>\n",
              "      <th>0</th>\n",
              "      <td>0</td>\n",
              "      <td>No Claim</td>\n",
              "    </tr>\n",
              "    <tr>\n",
              "      <th>1</th>\n",
              "      <td>8</td>\n",
              "      <td>low carb</td>\n",
              "    </tr>\n",
              "    <tr>\n",
              "      <th>2</th>\n",
              "      <td>15</td>\n",
              "      <td>beans</td>\n",
              "    </tr>\n",
              "    <tr>\n",
              "      <th>3</th>\n",
              "      <td>16</td>\n",
              "      <td>cocoa</td>\n",
              "    </tr>\n",
              "    <tr>\n",
              "      <th>4</th>\n",
              "      <td>26</td>\n",
              "      <td>vanilla</td>\n",
              "    </tr>\n",
              "  </tbody>\n",
              "</table>\n",
              "</div>\n",
              "      <button class=\"colab-df-convert\" onclick=\"convertToInteractive('df-1e3ffda6-78e6-427c-8364-d7dabae72c4d')\"\n",
              "              title=\"Convert this dataframe to an interactive table.\"\n",
              "              style=\"display:none;\">\n",
              "        \n",
              "  <svg xmlns=\"http://www.w3.org/2000/svg\" height=\"24px\"viewBox=\"0 0 24 24\"\n",
              "       width=\"24px\">\n",
              "    <path d=\"M0 0h24v24H0V0z\" fill=\"none\"/>\n",
              "    <path d=\"M18.56 5.44l.94 2.06.94-2.06 2.06-.94-2.06-.94-.94-2.06-.94 2.06-2.06.94zm-11 1L8.5 8.5l.94-2.06 2.06-.94-2.06-.94L8.5 2.5l-.94 2.06-2.06.94zm10 10l.94 2.06.94-2.06 2.06-.94-2.06-.94-.94-2.06-.94 2.06-2.06.94z\"/><path d=\"M17.41 7.96l-1.37-1.37c-.4-.4-.92-.59-1.43-.59-.52 0-1.04.2-1.43.59L10.3 9.45l-7.72 7.72c-.78.78-.78 2.05 0 2.83L4 21.41c.39.39.9.59 1.41.59.51 0 1.02-.2 1.41-.59l7.78-7.78 2.81-2.81c.8-.78.8-2.07 0-2.86zM5.41 20L4 18.59l7.72-7.72 1.47 1.35L5.41 20z\"/>\n",
              "  </svg>\n",
              "      </button>\n",
              "      \n",
              "  <style>\n",
              "    .colab-df-container {\n",
              "      display:flex;\n",
              "      flex-wrap:wrap;\n",
              "      gap: 12px;\n",
              "    }\n",
              "\n",
              "    .colab-df-convert {\n",
              "      background-color: #E8F0FE;\n",
              "      border: none;\n",
              "      border-radius: 50%;\n",
              "      cursor: pointer;\n",
              "      display: none;\n",
              "      fill: #1967D2;\n",
              "      height: 32px;\n",
              "      padding: 0 0 0 0;\n",
              "      width: 32px;\n",
              "    }\n",
              "\n",
              "    .colab-df-convert:hover {\n",
              "      background-color: #E2EBFA;\n",
              "      box-shadow: 0px 1px 2px rgba(60, 64, 67, 0.3), 0px 1px 3px 1px rgba(60, 64, 67, 0.15);\n",
              "      fill: #174EA6;\n",
              "    }\n",
              "\n",
              "    [theme=dark] .colab-df-convert {\n",
              "      background-color: #3B4455;\n",
              "      fill: #D2E3FC;\n",
              "    }\n",
              "\n",
              "    [theme=dark] .colab-df-convert:hover {\n",
              "      background-color: #434B5C;\n",
              "      box-shadow: 0px 1px 3px 1px rgba(0, 0, 0, 0.15);\n",
              "      filter: drop-shadow(0px 1px 2px rgba(0, 0, 0, 0.3));\n",
              "      fill: #FFFFFF;\n",
              "    }\n",
              "  </style>\n",
              "\n",
              "      <script>\n",
              "        const buttonEl =\n",
              "          document.querySelector('#df-1e3ffda6-78e6-427c-8364-d7dabae72c4d button.colab-df-convert');\n",
              "        buttonEl.style.display =\n",
              "          google.colab.kernel.accessAllowed ? 'block' : 'none';\n",
              "\n",
              "        async function convertToInteractive(key) {\n",
              "          const element = document.querySelector('#df-1e3ffda6-78e6-427c-8364-d7dabae72c4d');\n",
              "          const dataTable =\n",
              "            await google.colab.kernel.invokeFunction('convertToInteractive',\n",
              "                                                     [key], {});\n",
              "          if (!dataTable) return;\n",
              "\n",
              "          const docLinkHtml = 'Like what you see? Visit the ' +\n",
              "            '<a target=\"_blank\" href=https://colab.research.google.com/notebooks/data_table.ipynb>data table notebook</a>'\n",
              "            + ' to learn more about interactive tables.';\n",
              "          element.innerHTML = '';\n",
              "          dataTable['output_type'] = 'display_data';\n",
              "          await google.colab.output.renderOutput(dataTable, element);\n",
              "          const docLink = document.createElement('div');\n",
              "          docLink.innerHTML = docLinkHtml;\n",
              "          element.appendChild(docLink);\n",
              "        }\n",
              "      </script>\n",
              "    </div>\n",
              "  </div>\n",
              "  "
            ]
          },
          "metadata": {},
          "execution_count": 178
        }
      ]
    },
    {
      "cell_type": "code",
      "source": [
        "df_themes.CLAIM_ID.nunique()"
      ],
      "metadata": {
        "colab": {
          "base_uri": "https://localhost:8080/"
        },
        "id": "a9UGSg1FRnEY",
        "outputId": "a5c40580-6395-4aa3-87b8-8ae49aaa7544"
      },
      "id": "a9UGSg1FRnEY",
      "execution_count": 180,
      "outputs": [
        {
          "output_type": "execute_result",
          "data": {
            "text/plain": [
              "208"
            ]
          },
          "metadata": {},
          "execution_count": 180
        }
      ]
    },
    {
      "cell_type": "markdown",
      "source": [
        "## Theme product List"
      ],
      "metadata": {
        "id": "o7DMrl6lf6mE"
      },
      "id": "o7DMrl6lf6mE"
    },
    {
      "cell_type": "code",
      "source": [
        "df_theme_prod = input_read('files/Theme_product_list.csv')"
      ],
      "metadata": {
        "colab": {
          "base_uri": "https://localhost:8080/"
        },
        "id": "B8I_d5RafX8h",
        "outputId": "d60bd30d-b6d9-411e-8bac-4965ece01a2d"
      },
      "id": "B8I_d5RafX8h",
      "execution_count": 181,
      "outputs": [
        {
          "output_type": "stream",
          "name": "stdout",
          "text": [
            "Shape of Theme_product_list : (91485, 2)\n",
            "\n",
            "List of columns in Theme_product_list : Index(['PRODUCT_ID', 'CLAIM_ID'], dtype='object')\n",
            "\n",
            "Datatype of columns in Theme_product_list :\n",
            "PRODUCT_ID    int64\n",
            "CLAIM_ID      int64\n",
            "dtype: object\n"
          ]
        }
      ]
    },
    {
      "cell_type": "code",
      "source": [
        "df_theme_prod.head()"
      ],
      "metadata": {
        "colab": {
          "base_uri": "https://localhost:8080/",
          "height": 206
        },
        "id": "cYnstmzyf2lM",
        "outputId": "3ff3036c-28ba-48ec-e621-1965ca0d87ea"
      },
      "id": "cYnstmzyf2lM",
      "execution_count": 182,
      "outputs": [
        {
          "output_type": "execute_result",
          "data": {
            "text/plain": [
              "   PRODUCT_ID  CLAIM_ID\n",
              "0          26         8\n",
              "1          29         8\n",
              "2          48        81\n",
              "3          50        81\n",
              "4          74       227"
            ],
            "text/html": [
              "\n",
              "  <div id=\"df-c876f08e-9c68-4547-9df4-be9af0e5c798\">\n",
              "    <div class=\"colab-df-container\">\n",
              "      <div>\n",
              "<style scoped>\n",
              "    .dataframe tbody tr th:only-of-type {\n",
              "        vertical-align: middle;\n",
              "    }\n",
              "\n",
              "    .dataframe tbody tr th {\n",
              "        vertical-align: top;\n",
              "    }\n",
              "\n",
              "    .dataframe thead th {\n",
              "        text-align: right;\n",
              "    }\n",
              "</style>\n",
              "<table border=\"1\" class=\"dataframe\">\n",
              "  <thead>\n",
              "    <tr style=\"text-align: right;\">\n",
              "      <th></th>\n",
              "      <th>PRODUCT_ID</th>\n",
              "      <th>CLAIM_ID</th>\n",
              "    </tr>\n",
              "  </thead>\n",
              "  <tbody>\n",
              "    <tr>\n",
              "      <th>0</th>\n",
              "      <td>26</td>\n",
              "      <td>8</td>\n",
              "    </tr>\n",
              "    <tr>\n",
              "      <th>1</th>\n",
              "      <td>29</td>\n",
              "      <td>8</td>\n",
              "    </tr>\n",
              "    <tr>\n",
              "      <th>2</th>\n",
              "      <td>48</td>\n",
              "      <td>81</td>\n",
              "    </tr>\n",
              "    <tr>\n",
              "      <th>3</th>\n",
              "      <td>50</td>\n",
              "      <td>81</td>\n",
              "    </tr>\n",
              "    <tr>\n",
              "      <th>4</th>\n",
              "      <td>74</td>\n",
              "      <td>227</td>\n",
              "    </tr>\n",
              "  </tbody>\n",
              "</table>\n",
              "</div>\n",
              "      <button class=\"colab-df-convert\" onclick=\"convertToInteractive('df-c876f08e-9c68-4547-9df4-be9af0e5c798')\"\n",
              "              title=\"Convert this dataframe to an interactive table.\"\n",
              "              style=\"display:none;\">\n",
              "        \n",
              "  <svg xmlns=\"http://www.w3.org/2000/svg\" height=\"24px\"viewBox=\"0 0 24 24\"\n",
              "       width=\"24px\">\n",
              "    <path d=\"M0 0h24v24H0V0z\" fill=\"none\"/>\n",
              "    <path d=\"M18.56 5.44l.94 2.06.94-2.06 2.06-.94-2.06-.94-.94-2.06-.94 2.06-2.06.94zm-11 1L8.5 8.5l.94-2.06 2.06-.94-2.06-.94L8.5 2.5l-.94 2.06-2.06.94zm10 10l.94 2.06.94-2.06 2.06-.94-2.06-.94-.94-2.06-.94 2.06-2.06.94z\"/><path d=\"M17.41 7.96l-1.37-1.37c-.4-.4-.92-.59-1.43-.59-.52 0-1.04.2-1.43.59L10.3 9.45l-7.72 7.72c-.78.78-.78 2.05 0 2.83L4 21.41c.39.39.9.59 1.41.59.51 0 1.02-.2 1.41-.59l7.78-7.78 2.81-2.81c.8-.78.8-2.07 0-2.86zM5.41 20L4 18.59l7.72-7.72 1.47 1.35L5.41 20z\"/>\n",
              "  </svg>\n",
              "      </button>\n",
              "      \n",
              "  <style>\n",
              "    .colab-df-container {\n",
              "      display:flex;\n",
              "      flex-wrap:wrap;\n",
              "      gap: 12px;\n",
              "    }\n",
              "\n",
              "    .colab-df-convert {\n",
              "      background-color: #E8F0FE;\n",
              "      border: none;\n",
              "      border-radius: 50%;\n",
              "      cursor: pointer;\n",
              "      display: none;\n",
              "      fill: #1967D2;\n",
              "      height: 32px;\n",
              "      padding: 0 0 0 0;\n",
              "      width: 32px;\n",
              "    }\n",
              "\n",
              "    .colab-df-convert:hover {\n",
              "      background-color: #E2EBFA;\n",
              "      box-shadow: 0px 1px 2px rgba(60, 64, 67, 0.3), 0px 1px 3px 1px rgba(60, 64, 67, 0.15);\n",
              "      fill: #174EA6;\n",
              "    }\n",
              "\n",
              "    [theme=dark] .colab-df-convert {\n",
              "      background-color: #3B4455;\n",
              "      fill: #D2E3FC;\n",
              "    }\n",
              "\n",
              "    [theme=dark] .colab-df-convert:hover {\n",
              "      background-color: #434B5C;\n",
              "      box-shadow: 0px 1px 3px 1px rgba(0, 0, 0, 0.15);\n",
              "      filter: drop-shadow(0px 1px 2px rgba(0, 0, 0, 0.3));\n",
              "      fill: #FFFFFF;\n",
              "    }\n",
              "  </style>\n",
              "\n",
              "      <script>\n",
              "        const buttonEl =\n",
              "          document.querySelector('#df-c876f08e-9c68-4547-9df4-be9af0e5c798 button.colab-df-convert');\n",
              "        buttonEl.style.display =\n",
              "          google.colab.kernel.accessAllowed ? 'block' : 'none';\n",
              "\n",
              "        async function convertToInteractive(key) {\n",
              "          const element = document.querySelector('#df-c876f08e-9c68-4547-9df4-be9af0e5c798');\n",
              "          const dataTable =\n",
              "            await google.colab.kernel.invokeFunction('convertToInteractive',\n",
              "                                                     [key], {});\n",
              "          if (!dataTable) return;\n",
              "\n",
              "          const docLinkHtml = 'Like what you see? Visit the ' +\n",
              "            '<a target=\"_blank\" href=https://colab.research.google.com/notebooks/data_table.ipynb>data table notebook</a>'\n",
              "            + ' to learn more about interactive tables.';\n",
              "          element.innerHTML = '';\n",
              "          dataTable['output_type'] = 'display_data';\n",
              "          await google.colab.output.renderOutput(dataTable, element);\n",
              "          const docLink = document.createElement('div');\n",
              "          docLink.innerHTML = docLinkHtml;\n",
              "          element.appendChild(docLink);\n",
              "        }\n",
              "      </script>\n",
              "    </div>\n",
              "  </div>\n",
              "  "
            ]
          },
          "metadata": {},
          "execution_count": 182
        }
      ]
    },
    {
      "cell_type": "code",
      "source": [
        "print('Number of unique Products:',df_theme_prod.PRODUCT_ID.nunique())\n",
        "print('Number of unique Themes:',df_theme_prod.CLAIM_ID.nunique())"
      ],
      "metadata": {
        "colab": {
          "base_uri": "https://localhost:8080/"
        },
        "id": "X01n8xmDRuyg",
        "outputId": "b6abab1a-757d-4854-9c1b-0cb2f2c5850c"
      },
      "id": "X01n8xmDRuyg",
      "execution_count": 210,
      "outputs": [
        {
          "output_type": "stream",
          "name": "stdout",
          "text": [
            "Number of unique Products: 57317\n",
            "Number of unique Themes: 51\n"
          ]
        }
      ]
    },
    {
      "cell_type": "markdown",
      "source": [
        "## Product Manufacturer"
      ],
      "metadata": {
        "id": "AsAA2v5ugHqw"
      },
      "id": "AsAA2v5ugHqw"
    },
    {
      "cell_type": "code",
      "source": [
        "df_manufacture = input_read('files/product_manufacturer_list.csv')"
      ],
      "metadata": {
        "colab": {
          "base_uri": "https://localhost:8080/"
        },
        "id": "bt4MidrhgFVD",
        "outputId": "a18a1947-bd32-444a-f590-67a05cd6efbc"
      },
      "id": "bt4MidrhgFVD",
      "execution_count": 211,
      "outputs": [
        {
          "output_type": "stream",
          "name": "stdout",
          "text": [
            "Shape of product_manufacturer_list : (67175, 7)\n",
            "\n",
            "List of columns in product_manufacturer_list : Index(['PRODUCT_ID', 'Vendor', 'Unnamed: 2', 'Unnamed: 3', 'Unnamed: 4',\n",
            "       'Unnamed: 5', 'Unnamed: 6'],\n",
            "      dtype='object')\n",
            "\n",
            "Datatype of columns in product_manufacturer_list :\n",
            "PRODUCT_ID      int64\n",
            "Vendor         object\n",
            "Unnamed: 2    float64\n",
            "Unnamed: 3    float64\n",
            "Unnamed: 4    float64\n",
            "Unnamed: 5    float64\n",
            "Unnamed: 6    float64\n",
            "dtype: object\n"
          ]
        }
      ]
    },
    {
      "cell_type": "code",
      "source": [
        "df_manufacture = df_manufacture[['PRODUCT_ID','Vendor']]"
      ],
      "metadata": {
        "id": "4DvcQb6_f2ph"
      },
      "id": "4DvcQb6_f2ph",
      "execution_count": 212,
      "outputs": []
    },
    {
      "cell_type": "code",
      "source": [
        "df_manufacture.head()"
      ],
      "metadata": {
        "colab": {
          "base_uri": "https://localhost:8080/",
          "height": 206
        },
        "id": "DZ4SnmRZf2ti",
        "outputId": "469fe0cf-44d2-4f53-bee0-e86e115440a0"
      },
      "id": "DZ4SnmRZf2ti",
      "execution_count": 213,
      "outputs": [
        {
          "output_type": "execute_result",
          "data": {
            "text/plain": [
              "   PRODUCT_ID  Vendor\n",
              "0           1  Others\n",
              "1           2  Others\n",
              "2           3  Others\n",
              "3           4  Others\n",
              "4           5  Others"
            ],
            "text/html": [
              "\n",
              "  <div id=\"df-569394db-6de7-4137-96bc-aad70b76c6d3\">\n",
              "    <div class=\"colab-df-container\">\n",
              "      <div>\n",
              "<style scoped>\n",
              "    .dataframe tbody tr th:only-of-type {\n",
              "        vertical-align: middle;\n",
              "    }\n",
              "\n",
              "    .dataframe tbody tr th {\n",
              "        vertical-align: top;\n",
              "    }\n",
              "\n",
              "    .dataframe thead th {\n",
              "        text-align: right;\n",
              "    }\n",
              "</style>\n",
              "<table border=\"1\" class=\"dataframe\">\n",
              "  <thead>\n",
              "    <tr style=\"text-align: right;\">\n",
              "      <th></th>\n",
              "      <th>PRODUCT_ID</th>\n",
              "      <th>Vendor</th>\n",
              "    </tr>\n",
              "  </thead>\n",
              "  <tbody>\n",
              "    <tr>\n",
              "      <th>0</th>\n",
              "      <td>1</td>\n",
              "      <td>Others</td>\n",
              "    </tr>\n",
              "    <tr>\n",
              "      <th>1</th>\n",
              "      <td>2</td>\n",
              "      <td>Others</td>\n",
              "    </tr>\n",
              "    <tr>\n",
              "      <th>2</th>\n",
              "      <td>3</td>\n",
              "      <td>Others</td>\n",
              "    </tr>\n",
              "    <tr>\n",
              "      <th>3</th>\n",
              "      <td>4</td>\n",
              "      <td>Others</td>\n",
              "    </tr>\n",
              "    <tr>\n",
              "      <th>4</th>\n",
              "      <td>5</td>\n",
              "      <td>Others</td>\n",
              "    </tr>\n",
              "  </tbody>\n",
              "</table>\n",
              "</div>\n",
              "      <button class=\"colab-df-convert\" onclick=\"convertToInteractive('df-569394db-6de7-4137-96bc-aad70b76c6d3')\"\n",
              "              title=\"Convert this dataframe to an interactive table.\"\n",
              "              style=\"display:none;\">\n",
              "        \n",
              "  <svg xmlns=\"http://www.w3.org/2000/svg\" height=\"24px\"viewBox=\"0 0 24 24\"\n",
              "       width=\"24px\">\n",
              "    <path d=\"M0 0h24v24H0V0z\" fill=\"none\"/>\n",
              "    <path d=\"M18.56 5.44l.94 2.06.94-2.06 2.06-.94-2.06-.94-.94-2.06-.94 2.06-2.06.94zm-11 1L8.5 8.5l.94-2.06 2.06-.94-2.06-.94L8.5 2.5l-.94 2.06-2.06.94zm10 10l.94 2.06.94-2.06 2.06-.94-2.06-.94-.94-2.06-.94 2.06-2.06.94z\"/><path d=\"M17.41 7.96l-1.37-1.37c-.4-.4-.92-.59-1.43-.59-.52 0-1.04.2-1.43.59L10.3 9.45l-7.72 7.72c-.78.78-.78 2.05 0 2.83L4 21.41c.39.39.9.59 1.41.59.51 0 1.02-.2 1.41-.59l7.78-7.78 2.81-2.81c.8-.78.8-2.07 0-2.86zM5.41 20L4 18.59l7.72-7.72 1.47 1.35L5.41 20z\"/>\n",
              "  </svg>\n",
              "      </button>\n",
              "      \n",
              "  <style>\n",
              "    .colab-df-container {\n",
              "      display:flex;\n",
              "      flex-wrap:wrap;\n",
              "      gap: 12px;\n",
              "    }\n",
              "\n",
              "    .colab-df-convert {\n",
              "      background-color: #E8F0FE;\n",
              "      border: none;\n",
              "      border-radius: 50%;\n",
              "      cursor: pointer;\n",
              "      display: none;\n",
              "      fill: #1967D2;\n",
              "      height: 32px;\n",
              "      padding: 0 0 0 0;\n",
              "      width: 32px;\n",
              "    }\n",
              "\n",
              "    .colab-df-convert:hover {\n",
              "      background-color: #E2EBFA;\n",
              "      box-shadow: 0px 1px 2px rgba(60, 64, 67, 0.3), 0px 1px 3px 1px rgba(60, 64, 67, 0.15);\n",
              "      fill: #174EA6;\n",
              "    }\n",
              "\n",
              "    [theme=dark] .colab-df-convert {\n",
              "      background-color: #3B4455;\n",
              "      fill: #D2E3FC;\n",
              "    }\n",
              "\n",
              "    [theme=dark] .colab-df-convert:hover {\n",
              "      background-color: #434B5C;\n",
              "      box-shadow: 0px 1px 3px 1px rgba(0, 0, 0, 0.15);\n",
              "      filter: drop-shadow(0px 1px 2px rgba(0, 0, 0, 0.3));\n",
              "      fill: #FFFFFF;\n",
              "    }\n",
              "  </style>\n",
              "\n",
              "      <script>\n",
              "        const buttonEl =\n",
              "          document.querySelector('#df-569394db-6de7-4137-96bc-aad70b76c6d3 button.colab-df-convert');\n",
              "        buttonEl.style.display =\n",
              "          google.colab.kernel.accessAllowed ? 'block' : 'none';\n",
              "\n",
              "        async function convertToInteractive(key) {\n",
              "          const element = document.querySelector('#df-569394db-6de7-4137-96bc-aad70b76c6d3');\n",
              "          const dataTable =\n",
              "            await google.colab.kernel.invokeFunction('convertToInteractive',\n",
              "                                                     [key], {});\n",
              "          if (!dataTable) return;\n",
              "\n",
              "          const docLinkHtml = 'Like what you see? Visit the ' +\n",
              "            '<a target=\"_blank\" href=https://colab.research.google.com/notebooks/data_table.ipynb>data table notebook</a>'\n",
              "            + ' to learn more about interactive tables.';\n",
              "          element.innerHTML = '';\n",
              "          dataTable['output_type'] = 'display_data';\n",
              "          await google.colab.output.renderOutput(dataTable, element);\n",
              "          const docLink = document.createElement('div');\n",
              "          docLink.innerHTML = docLinkHtml;\n",
              "          element.appendChild(docLink);\n",
              "        }\n",
              "      </script>\n",
              "    </div>\n",
              "  </div>\n",
              "  "
            ]
          },
          "metadata": {},
          "execution_count": 213
        }
      ]
    },
    {
      "cell_type": "code",
      "source": [
        "print(df_theme_prod.PRODUCT_ID.nunique())\n",
        "print(df_manufacture.PRODUCT_ID.nunique())"
      ],
      "metadata": {
        "colab": {
          "base_uri": "https://localhost:8080/"
        },
        "id": "a4eqfGXeg94v",
        "outputId": "b8930bb0-3764-4292-a2d3-7986967db8f4"
      },
      "id": "a4eqfGXeg94v",
      "execution_count": 214,
      "outputs": [
        {
          "output_type": "stream",
          "name": "stdout",
          "text": [
            "57317\n",
            "67175\n"
          ]
        }
      ]
    },
    {
      "cell_type": "code",
      "source": [
        "df_theme_prod.CLAIM_ID.nunique()"
      ],
      "metadata": {
        "colab": {
          "base_uri": "https://localhost:8080/"
        },
        "id": "KEAVVc5njvvK",
        "outputId": "f62c13ca-812a-44b8-d85f-d2d7472355be"
      },
      "id": "KEAVVc5njvvK",
      "execution_count": 227,
      "outputs": [
        {
          "output_type": "execute_result",
          "data": {
            "text/plain": [
              "51"
            ]
          },
          "metadata": {},
          "execution_count": 227
        }
      ]
    },
    {
      "cell_type": "code",
      "source": [
        "67175-57317"
      ],
      "metadata": {
        "colab": {
          "base_uri": "https://localhost:8080/"
        },
        "id": "Ob29b27PhCI3",
        "outputId": "9ae37852-eefb-4069-912c-dff863a5f0c4"
      },
      "id": "Ob29b27PhCI3",
      "execution_count": 228,
      "outputs": [
        {
          "output_type": "execute_result",
          "data": {
            "text/plain": [
              "9858"
            ]
          },
          "metadata": {},
          "execution_count": 228
        }
      ]
    },
    {
      "cell_type": "code",
      "source": [
        "#combining product manufacturer information with sales data\n",
        "df_mid = pd.merge(df_theme_prod,df_manufacture, how='right', on='PRODUCT_ID' )"
      ],
      "metadata": {
        "id": "7JVhbaCmf2yE"
      },
      "id": "7JVhbaCmf2yE",
      "execution_count": 229,
      "outputs": []
    },
    {
      "cell_type": "code",
      "source": [
        "df_manufacture[df_manufacture['PRODUCT_ID'].isin(df_theme_prod['PRODUCT_ID'])]['PRODUCT_ID'].nunique()"
      ],
      "metadata": {
        "colab": {
          "base_uri": "https://localhost:8080/"
        },
        "id": "xUYQRCdb-OhL",
        "outputId": "66bfa2d5-02aa-4ed8-bce5-560267ce346a"
      },
      "id": "xUYQRCdb-OhL",
      "execution_count": 256,
      "outputs": [
        {
          "output_type": "execute_result",
          "data": {
            "text/plain": [
              "57317"
            ]
          },
          "metadata": {},
          "execution_count": 256
        }
      ]
    },
    {
      "cell_type": "code",
      "source": [
        "df_mid[df_mid.CLAIM_ID.isnull()].Vendor.value_counts()"
      ],
      "metadata": {
        "colab": {
          "base_uri": "https://localhost:8080/"
        },
        "id": "uNJce37bf22V",
        "outputId": "34eaf97b-3bfa-4548-94ce-9486a0d2fa9e"
      },
      "id": "uNJce37bf22V",
      "execution_count": 230,
      "outputs": [
        {
          "output_type": "execute_result",
          "data": {
            "text/plain": [
              "Private Label    9327\n",
              "Others            421\n",
              "A                  65\n",
              "B                  19\n",
              "D                  16\n",
              "F                   8\n",
              "H                   2\n",
              "Name: Vendor, dtype: int64"
            ]
          },
          "metadata": {},
          "execution_count": 230
        }
      ]
    },
    {
      "cell_type": "code",
      "source": [
        "df_mid.head()"
      ],
      "metadata": {
        "colab": {
          "base_uri": "https://localhost:8080/",
          "height": 206
        },
        "id": "sqc8FeB0fYAE",
        "outputId": "c83bc689-cdf5-4497-cefd-1d44a0e491ab"
      },
      "id": "sqc8FeB0fYAE",
      "execution_count": 233,
      "outputs": [
        {
          "output_type": "execute_result",
          "data": {
            "text/plain": [
              "   PRODUCT_ID  CLAIM_ID  Vendor\n",
              "0           1     0.000  Others\n",
              "1           2     0.000  Others\n",
              "2           3     0.000  Others\n",
              "3           4     0.000  Others\n",
              "4           5     0.000  Others"
            ],
            "text/html": [
              "\n",
              "  <div id=\"df-17812c78-65f3-4a0e-9cd4-9f9d3f60e6c8\">\n",
              "    <div class=\"colab-df-container\">\n",
              "      <div>\n",
              "<style scoped>\n",
              "    .dataframe tbody tr th:only-of-type {\n",
              "        vertical-align: middle;\n",
              "    }\n",
              "\n",
              "    .dataframe tbody tr th {\n",
              "        vertical-align: top;\n",
              "    }\n",
              "\n",
              "    .dataframe thead th {\n",
              "        text-align: right;\n",
              "    }\n",
              "</style>\n",
              "<table border=\"1\" class=\"dataframe\">\n",
              "  <thead>\n",
              "    <tr style=\"text-align: right;\">\n",
              "      <th></th>\n",
              "      <th>PRODUCT_ID</th>\n",
              "      <th>CLAIM_ID</th>\n",
              "      <th>Vendor</th>\n",
              "    </tr>\n",
              "  </thead>\n",
              "  <tbody>\n",
              "    <tr>\n",
              "      <th>0</th>\n",
              "      <td>1</td>\n",
              "      <td>0.000</td>\n",
              "      <td>Others</td>\n",
              "    </tr>\n",
              "    <tr>\n",
              "      <th>1</th>\n",
              "      <td>2</td>\n",
              "      <td>0.000</td>\n",
              "      <td>Others</td>\n",
              "    </tr>\n",
              "    <tr>\n",
              "      <th>2</th>\n",
              "      <td>3</td>\n",
              "      <td>0.000</td>\n",
              "      <td>Others</td>\n",
              "    </tr>\n",
              "    <tr>\n",
              "      <th>3</th>\n",
              "      <td>4</td>\n",
              "      <td>0.000</td>\n",
              "      <td>Others</td>\n",
              "    </tr>\n",
              "    <tr>\n",
              "      <th>4</th>\n",
              "      <td>5</td>\n",
              "      <td>0.000</td>\n",
              "      <td>Others</td>\n",
              "    </tr>\n",
              "  </tbody>\n",
              "</table>\n",
              "</div>\n",
              "      <button class=\"colab-df-convert\" onclick=\"convertToInteractive('df-17812c78-65f3-4a0e-9cd4-9f9d3f60e6c8')\"\n",
              "              title=\"Convert this dataframe to an interactive table.\"\n",
              "              style=\"display:none;\">\n",
              "        \n",
              "  <svg xmlns=\"http://www.w3.org/2000/svg\" height=\"24px\"viewBox=\"0 0 24 24\"\n",
              "       width=\"24px\">\n",
              "    <path d=\"M0 0h24v24H0V0z\" fill=\"none\"/>\n",
              "    <path d=\"M18.56 5.44l.94 2.06.94-2.06 2.06-.94-2.06-.94-.94-2.06-.94 2.06-2.06.94zm-11 1L8.5 8.5l.94-2.06 2.06-.94-2.06-.94L8.5 2.5l-.94 2.06-2.06.94zm10 10l.94 2.06.94-2.06 2.06-.94-2.06-.94-.94-2.06-.94 2.06-2.06.94z\"/><path d=\"M17.41 7.96l-1.37-1.37c-.4-.4-.92-.59-1.43-.59-.52 0-1.04.2-1.43.59L10.3 9.45l-7.72 7.72c-.78.78-.78 2.05 0 2.83L4 21.41c.39.39.9.59 1.41.59.51 0 1.02-.2 1.41-.59l7.78-7.78 2.81-2.81c.8-.78.8-2.07 0-2.86zM5.41 20L4 18.59l7.72-7.72 1.47 1.35L5.41 20z\"/>\n",
              "  </svg>\n",
              "      </button>\n",
              "      \n",
              "  <style>\n",
              "    .colab-df-container {\n",
              "      display:flex;\n",
              "      flex-wrap:wrap;\n",
              "      gap: 12px;\n",
              "    }\n",
              "\n",
              "    .colab-df-convert {\n",
              "      background-color: #E8F0FE;\n",
              "      border: none;\n",
              "      border-radius: 50%;\n",
              "      cursor: pointer;\n",
              "      display: none;\n",
              "      fill: #1967D2;\n",
              "      height: 32px;\n",
              "      padding: 0 0 0 0;\n",
              "      width: 32px;\n",
              "    }\n",
              "\n",
              "    .colab-df-convert:hover {\n",
              "      background-color: #E2EBFA;\n",
              "      box-shadow: 0px 1px 2px rgba(60, 64, 67, 0.3), 0px 1px 3px 1px rgba(60, 64, 67, 0.15);\n",
              "      fill: #174EA6;\n",
              "    }\n",
              "\n",
              "    [theme=dark] .colab-df-convert {\n",
              "      background-color: #3B4455;\n",
              "      fill: #D2E3FC;\n",
              "    }\n",
              "\n",
              "    [theme=dark] .colab-df-convert:hover {\n",
              "      background-color: #434B5C;\n",
              "      box-shadow: 0px 1px 3px 1px rgba(0, 0, 0, 0.15);\n",
              "      filter: drop-shadow(0px 1px 2px rgba(0, 0, 0, 0.3));\n",
              "      fill: #FFFFFF;\n",
              "    }\n",
              "  </style>\n",
              "\n",
              "      <script>\n",
              "        const buttonEl =\n",
              "          document.querySelector('#df-17812c78-65f3-4a0e-9cd4-9f9d3f60e6c8 button.colab-df-convert');\n",
              "        buttonEl.style.display =\n",
              "          google.colab.kernel.accessAllowed ? 'block' : 'none';\n",
              "\n",
              "        async function convertToInteractive(key) {\n",
              "          const element = document.querySelector('#df-17812c78-65f3-4a0e-9cd4-9f9d3f60e6c8');\n",
              "          const dataTable =\n",
              "            await google.colab.kernel.invokeFunction('convertToInteractive',\n",
              "                                                     [key], {});\n",
              "          if (!dataTable) return;\n",
              "\n",
              "          const docLinkHtml = 'Like what you see? Visit the ' +\n",
              "            '<a target=\"_blank\" href=https://colab.research.google.com/notebooks/data_table.ipynb>data table notebook</a>'\n",
              "            + ' to learn more about interactive tables.';\n",
              "          element.innerHTML = '';\n",
              "          dataTable['output_type'] = 'display_data';\n",
              "          await google.colab.output.renderOutput(dataTable, element);\n",
              "          const docLink = document.createElement('div');\n",
              "          docLink.innerHTML = docLinkHtml;\n",
              "          element.appendChild(docLink);\n",
              "        }\n",
              "      </script>\n",
              "    </div>\n",
              "  </div>\n",
              "  "
            ]
          },
          "metadata": {},
          "execution_count": 233
        }
      ]
    },
    {
      "cell_type": "code",
      "source": [
        "print(df_themes.CLAIM_ID.nunique())\n",
        "df_mid.CLAIM_ID.nunique()"
      ],
      "metadata": {
        "colab": {
          "base_uri": "https://localhost:8080/"
        },
        "id": "bLCpRVyBiASP",
        "outputId": "04d1d930-7277-4229-84e0-5055d2e126d2"
      },
      "id": "bLCpRVyBiASP",
      "execution_count": 232,
      "outputs": [
        {
          "output_type": "stream",
          "name": "stdout",
          "text": [
            "208\n"
          ]
        },
        {
          "output_type": "execute_result",
          "data": {
            "text/plain": [
              "51"
            ]
          },
          "metadata": {},
          "execution_count": 232
        }
      ]
    },
    {
      "cell_type": "code",
      "source": [
        "df_mid.isnull().sum()"
      ],
      "metadata": {
        "colab": {
          "base_uri": "https://localhost:8080/"
        },
        "id": "cunuuoKS69i_",
        "outputId": "9a33f270-aa28-47a7-877c-17f94b580045"
      },
      "id": "cunuuoKS69i_",
      "execution_count": 240,
      "outputs": [
        {
          "output_type": "execute_result",
          "data": {
            "text/plain": [
              "PRODUCT_ID       0\n",
              "CLAIM_ID      9858\n",
              "Vendor           0\n",
              "dtype: int64"
            ]
          },
          "metadata": {},
          "execution_count": 240
        }
      ]
    },
    {
      "cell_type": "code",
      "source": [
        "mid1_df = pd.merge(df_mid,df_themes, how='left', on='CLAIM_ID')"
      ],
      "metadata": {
        "id": "fS5mz8oyh4B8"
      },
      "id": "fS5mz8oyh4B8",
      "execution_count": 245,
      "outputs": []
    },
    {
      "cell_type": "code",
      "source": [
        "mid1_df.head()"
      ],
      "metadata": {
        "colab": {
          "base_uri": "https://localhost:8080/",
          "height": 206
        },
        "id": "py31GDaDilq_",
        "outputId": "5c9e9775-64bf-471b-872c-52ddfdb61123"
      },
      "id": "py31GDaDilq_",
      "execution_count": 246,
      "outputs": [
        {
          "output_type": "execute_result",
          "data": {
            "text/plain": [
              "   PRODUCT_ID  CLAIM_ID  Vendor Claim Name\n",
              "0           1     0.000  Others   No Claim\n",
              "1           2     0.000  Others   No Claim\n",
              "2           3     0.000  Others   No Claim\n",
              "3           4     0.000  Others   No Claim\n",
              "4           5     0.000  Others   No Claim"
            ],
            "text/html": [
              "\n",
              "  <div id=\"df-b85634dc-86a6-4942-95b5-ed489c275264\">\n",
              "    <div class=\"colab-df-container\">\n",
              "      <div>\n",
              "<style scoped>\n",
              "    .dataframe tbody tr th:only-of-type {\n",
              "        vertical-align: middle;\n",
              "    }\n",
              "\n",
              "    .dataframe tbody tr th {\n",
              "        vertical-align: top;\n",
              "    }\n",
              "\n",
              "    .dataframe thead th {\n",
              "        text-align: right;\n",
              "    }\n",
              "</style>\n",
              "<table border=\"1\" class=\"dataframe\">\n",
              "  <thead>\n",
              "    <tr style=\"text-align: right;\">\n",
              "      <th></th>\n",
              "      <th>PRODUCT_ID</th>\n",
              "      <th>CLAIM_ID</th>\n",
              "      <th>Vendor</th>\n",
              "      <th>Claim Name</th>\n",
              "    </tr>\n",
              "  </thead>\n",
              "  <tbody>\n",
              "    <tr>\n",
              "      <th>0</th>\n",
              "      <td>1</td>\n",
              "      <td>0.000</td>\n",
              "      <td>Others</td>\n",
              "      <td>No Claim</td>\n",
              "    </tr>\n",
              "    <tr>\n",
              "      <th>1</th>\n",
              "      <td>2</td>\n",
              "      <td>0.000</td>\n",
              "      <td>Others</td>\n",
              "      <td>No Claim</td>\n",
              "    </tr>\n",
              "    <tr>\n",
              "      <th>2</th>\n",
              "      <td>3</td>\n",
              "      <td>0.000</td>\n",
              "      <td>Others</td>\n",
              "      <td>No Claim</td>\n",
              "    </tr>\n",
              "    <tr>\n",
              "      <th>3</th>\n",
              "      <td>4</td>\n",
              "      <td>0.000</td>\n",
              "      <td>Others</td>\n",
              "      <td>No Claim</td>\n",
              "    </tr>\n",
              "    <tr>\n",
              "      <th>4</th>\n",
              "      <td>5</td>\n",
              "      <td>0.000</td>\n",
              "      <td>Others</td>\n",
              "      <td>No Claim</td>\n",
              "    </tr>\n",
              "  </tbody>\n",
              "</table>\n",
              "</div>\n",
              "      <button class=\"colab-df-convert\" onclick=\"convertToInteractive('df-b85634dc-86a6-4942-95b5-ed489c275264')\"\n",
              "              title=\"Convert this dataframe to an interactive table.\"\n",
              "              style=\"display:none;\">\n",
              "        \n",
              "  <svg xmlns=\"http://www.w3.org/2000/svg\" height=\"24px\"viewBox=\"0 0 24 24\"\n",
              "       width=\"24px\">\n",
              "    <path d=\"M0 0h24v24H0V0z\" fill=\"none\"/>\n",
              "    <path d=\"M18.56 5.44l.94 2.06.94-2.06 2.06-.94-2.06-.94-.94-2.06-.94 2.06-2.06.94zm-11 1L8.5 8.5l.94-2.06 2.06-.94-2.06-.94L8.5 2.5l-.94 2.06-2.06.94zm10 10l.94 2.06.94-2.06 2.06-.94-2.06-.94-.94-2.06-.94 2.06-2.06.94z\"/><path d=\"M17.41 7.96l-1.37-1.37c-.4-.4-.92-.59-1.43-.59-.52 0-1.04.2-1.43.59L10.3 9.45l-7.72 7.72c-.78.78-.78 2.05 0 2.83L4 21.41c.39.39.9.59 1.41.59.51 0 1.02-.2 1.41-.59l7.78-7.78 2.81-2.81c.8-.78.8-2.07 0-2.86zM5.41 20L4 18.59l7.72-7.72 1.47 1.35L5.41 20z\"/>\n",
              "  </svg>\n",
              "      </button>\n",
              "      \n",
              "  <style>\n",
              "    .colab-df-container {\n",
              "      display:flex;\n",
              "      flex-wrap:wrap;\n",
              "      gap: 12px;\n",
              "    }\n",
              "\n",
              "    .colab-df-convert {\n",
              "      background-color: #E8F0FE;\n",
              "      border: none;\n",
              "      border-radius: 50%;\n",
              "      cursor: pointer;\n",
              "      display: none;\n",
              "      fill: #1967D2;\n",
              "      height: 32px;\n",
              "      padding: 0 0 0 0;\n",
              "      width: 32px;\n",
              "    }\n",
              "\n",
              "    .colab-df-convert:hover {\n",
              "      background-color: #E2EBFA;\n",
              "      box-shadow: 0px 1px 2px rgba(60, 64, 67, 0.3), 0px 1px 3px 1px rgba(60, 64, 67, 0.15);\n",
              "      fill: #174EA6;\n",
              "    }\n",
              "\n",
              "    [theme=dark] .colab-df-convert {\n",
              "      background-color: #3B4455;\n",
              "      fill: #D2E3FC;\n",
              "    }\n",
              "\n",
              "    [theme=dark] .colab-df-convert:hover {\n",
              "      background-color: #434B5C;\n",
              "      box-shadow: 0px 1px 3px 1px rgba(0, 0, 0, 0.15);\n",
              "      filter: drop-shadow(0px 1px 2px rgba(0, 0, 0, 0.3));\n",
              "      fill: #FFFFFF;\n",
              "    }\n",
              "  </style>\n",
              "\n",
              "      <script>\n",
              "        const buttonEl =\n",
              "          document.querySelector('#df-b85634dc-86a6-4942-95b5-ed489c275264 button.colab-df-convert');\n",
              "        buttonEl.style.display =\n",
              "          google.colab.kernel.accessAllowed ? 'block' : 'none';\n",
              "\n",
              "        async function convertToInteractive(key) {\n",
              "          const element = document.querySelector('#df-b85634dc-86a6-4942-95b5-ed489c275264');\n",
              "          const dataTable =\n",
              "            await google.colab.kernel.invokeFunction('convertToInteractive',\n",
              "                                                     [key], {});\n",
              "          if (!dataTable) return;\n",
              "\n",
              "          const docLinkHtml = 'Like what you see? Visit the ' +\n",
              "            '<a target=\"_blank\" href=https://colab.research.google.com/notebooks/data_table.ipynb>data table notebook</a>'\n",
              "            + ' to learn more about interactive tables.';\n",
              "          element.innerHTML = '';\n",
              "          dataTable['output_type'] = 'display_data';\n",
              "          await google.colab.output.renderOutput(dataTable, element);\n",
              "          const docLink = document.createElement('div');\n",
              "          docLink.innerHTML = docLinkHtml;\n",
              "          element.appendChild(docLink);\n",
              "        }\n",
              "      </script>\n",
              "    </div>\n",
              "  </div>\n",
              "  "
            ]
          },
          "metadata": {},
          "execution_count": 246
        }
      ]
    },
    {
      "cell_type": "code",
      "source": [
        "mid1_df.isnull().sum()"
      ],
      "metadata": {
        "colab": {
          "base_uri": "https://localhost:8080/"
        },
        "id": "OMS8kpw5iptv",
        "outputId": "e090413f-a0d9-4b4d-c669-daa6d5d88d5d"
      },
      "id": "OMS8kpw5iptv",
      "execution_count": 247,
      "outputs": [
        {
          "output_type": "execute_result",
          "data": {
            "text/plain": [
              "PRODUCT_ID       0\n",
              "CLAIM_ID      9858\n",
              "Vendor           0\n",
              "Claim Name    9858\n",
              "dtype: int64"
            ]
          },
          "metadata": {},
          "execution_count": 247
        }
      ]
    },
    {
      "cell_type": "code",
      "source": [
        "mid1_df.head()"
      ],
      "metadata": {
        "colab": {
          "base_uri": "https://localhost:8080/",
          "height": 206
        },
        "id": "QJ1vId0S7Px-",
        "outputId": "07f5daaa-fae5-41e6-81a0-860b85fa99e7"
      },
      "id": "QJ1vId0S7Px-",
      "execution_count": 241,
      "outputs": [
        {
          "output_type": "execute_result",
          "data": {
            "text/plain": [
              "   PRODUCT_ID  CLAIM_ID  Vendor Claim Name\n",
              "0           1     0.000  Others   No Claim\n",
              "1           2     0.000  Others   No Claim\n",
              "2           3     0.000  Others   No Claim\n",
              "3           4     0.000  Others   No Claim\n",
              "4           5     0.000  Others   No Claim"
            ],
            "text/html": [
              "\n",
              "  <div id=\"df-94105aca-cc23-4178-b238-a75ddf18bf86\">\n",
              "    <div class=\"colab-df-container\">\n",
              "      <div>\n",
              "<style scoped>\n",
              "    .dataframe tbody tr th:only-of-type {\n",
              "        vertical-align: middle;\n",
              "    }\n",
              "\n",
              "    .dataframe tbody tr th {\n",
              "        vertical-align: top;\n",
              "    }\n",
              "\n",
              "    .dataframe thead th {\n",
              "        text-align: right;\n",
              "    }\n",
              "</style>\n",
              "<table border=\"1\" class=\"dataframe\">\n",
              "  <thead>\n",
              "    <tr style=\"text-align: right;\">\n",
              "      <th></th>\n",
              "      <th>PRODUCT_ID</th>\n",
              "      <th>CLAIM_ID</th>\n",
              "      <th>Vendor</th>\n",
              "      <th>Claim Name</th>\n",
              "    </tr>\n",
              "  </thead>\n",
              "  <tbody>\n",
              "    <tr>\n",
              "      <th>0</th>\n",
              "      <td>1</td>\n",
              "      <td>0.000</td>\n",
              "      <td>Others</td>\n",
              "      <td>No Claim</td>\n",
              "    </tr>\n",
              "    <tr>\n",
              "      <th>1</th>\n",
              "      <td>2</td>\n",
              "      <td>0.000</td>\n",
              "      <td>Others</td>\n",
              "      <td>No Claim</td>\n",
              "    </tr>\n",
              "    <tr>\n",
              "      <th>2</th>\n",
              "      <td>3</td>\n",
              "      <td>0.000</td>\n",
              "      <td>Others</td>\n",
              "      <td>No Claim</td>\n",
              "    </tr>\n",
              "    <tr>\n",
              "      <th>3</th>\n",
              "      <td>4</td>\n",
              "      <td>0.000</td>\n",
              "      <td>Others</td>\n",
              "      <td>No Claim</td>\n",
              "    </tr>\n",
              "    <tr>\n",
              "      <th>4</th>\n",
              "      <td>5</td>\n",
              "      <td>0.000</td>\n",
              "      <td>Others</td>\n",
              "      <td>No Claim</td>\n",
              "    </tr>\n",
              "  </tbody>\n",
              "</table>\n",
              "</div>\n",
              "      <button class=\"colab-df-convert\" onclick=\"convertToInteractive('df-94105aca-cc23-4178-b238-a75ddf18bf86')\"\n",
              "              title=\"Convert this dataframe to an interactive table.\"\n",
              "              style=\"display:none;\">\n",
              "        \n",
              "  <svg xmlns=\"http://www.w3.org/2000/svg\" height=\"24px\"viewBox=\"0 0 24 24\"\n",
              "       width=\"24px\">\n",
              "    <path d=\"M0 0h24v24H0V0z\" fill=\"none\"/>\n",
              "    <path d=\"M18.56 5.44l.94 2.06.94-2.06 2.06-.94-2.06-.94-.94-2.06-.94 2.06-2.06.94zm-11 1L8.5 8.5l.94-2.06 2.06-.94-2.06-.94L8.5 2.5l-.94 2.06-2.06.94zm10 10l.94 2.06.94-2.06 2.06-.94-2.06-.94-.94-2.06-.94 2.06-2.06.94z\"/><path d=\"M17.41 7.96l-1.37-1.37c-.4-.4-.92-.59-1.43-.59-.52 0-1.04.2-1.43.59L10.3 9.45l-7.72 7.72c-.78.78-.78 2.05 0 2.83L4 21.41c.39.39.9.59 1.41.59.51 0 1.02-.2 1.41-.59l7.78-7.78 2.81-2.81c.8-.78.8-2.07 0-2.86zM5.41 20L4 18.59l7.72-7.72 1.47 1.35L5.41 20z\"/>\n",
              "  </svg>\n",
              "      </button>\n",
              "      \n",
              "  <style>\n",
              "    .colab-df-container {\n",
              "      display:flex;\n",
              "      flex-wrap:wrap;\n",
              "      gap: 12px;\n",
              "    }\n",
              "\n",
              "    .colab-df-convert {\n",
              "      background-color: #E8F0FE;\n",
              "      border: none;\n",
              "      border-radius: 50%;\n",
              "      cursor: pointer;\n",
              "      display: none;\n",
              "      fill: #1967D2;\n",
              "      height: 32px;\n",
              "      padding: 0 0 0 0;\n",
              "      width: 32px;\n",
              "    }\n",
              "\n",
              "    .colab-df-convert:hover {\n",
              "      background-color: #E2EBFA;\n",
              "      box-shadow: 0px 1px 2px rgba(60, 64, 67, 0.3), 0px 1px 3px 1px rgba(60, 64, 67, 0.15);\n",
              "      fill: #174EA6;\n",
              "    }\n",
              "\n",
              "    [theme=dark] .colab-df-convert {\n",
              "      background-color: #3B4455;\n",
              "      fill: #D2E3FC;\n",
              "    }\n",
              "\n",
              "    [theme=dark] .colab-df-convert:hover {\n",
              "      background-color: #434B5C;\n",
              "      box-shadow: 0px 1px 3px 1px rgba(0, 0, 0, 0.15);\n",
              "      filter: drop-shadow(0px 1px 2px rgba(0, 0, 0, 0.3));\n",
              "      fill: #FFFFFF;\n",
              "    }\n",
              "  </style>\n",
              "\n",
              "      <script>\n",
              "        const buttonEl =\n",
              "          document.querySelector('#df-94105aca-cc23-4178-b238-a75ddf18bf86 button.colab-df-convert');\n",
              "        buttonEl.style.display =\n",
              "          google.colab.kernel.accessAllowed ? 'block' : 'none';\n",
              "\n",
              "        async function convertToInteractive(key) {\n",
              "          const element = document.querySelector('#df-94105aca-cc23-4178-b238-a75ddf18bf86');\n",
              "          const dataTable =\n",
              "            await google.colab.kernel.invokeFunction('convertToInteractive',\n",
              "                                                     [key], {});\n",
              "          if (!dataTable) return;\n",
              "\n",
              "          const docLinkHtml = 'Like what you see? Visit the ' +\n",
              "            '<a target=\"_blank\" href=https://colab.research.google.com/notebooks/data_table.ipynb>data table notebook</a>'\n",
              "            + ' to learn more about interactive tables.';\n",
              "          element.innerHTML = '';\n",
              "          dataTable['output_type'] = 'display_data';\n",
              "          await google.colab.output.renderOutput(dataTable, element);\n",
              "          const docLink = document.createElement('div');\n",
              "          docLink.innerHTML = docLinkHtml;\n",
              "          element.appendChild(docLink);\n",
              "        }\n",
              "      </script>\n",
              "    </div>\n",
              "  </div>\n",
              "  "
            ]
          },
          "metadata": {},
          "execution_count": 241
        }
      ]
    },
    {
      "cell_type": "code",
      "source": [
        "df_sales.head()"
      ],
      "metadata": {
        "colab": {
          "base_uri": "https://localhost:8080/",
          "height": 206
        },
        "id": "5nWq2vZC7UO_",
        "outputId": "7f0bac62-17a6-4741-a013-72ec4506bdda"
      },
      "id": "5nWq2vZC7UO_",
      "execution_count": 242,
      "outputs": [
        {
          "output_type": "execute_result",
          "data": {
            "text/plain": [
              "   system_calendar_key_N  product_id  sales_dollars_value  sales_units_value  \\\n",
              "0               20160109           1            13927.000                934   \n",
              "1               20160109           3            10289.000               1592   \n",
              "2               20160109           4              357.000                 22   \n",
              "3               20160109           6            23113.000               2027   \n",
              "4               20160109           7            23177.000               3231   \n",
              "\n",
              "   sales_lbs_value  year  \n",
              "0            18680  2016  \n",
              "1            28646  2016  \n",
              "2              440  2016  \n",
              "3            81088  2016  \n",
              "4            58164  2016  "
            ],
            "text/html": [
              "\n",
              "  <div id=\"df-3b5e8005-7741-45d4-ab4f-be57da29d2c1\">\n",
              "    <div class=\"colab-df-container\">\n",
              "      <div>\n",
              "<style scoped>\n",
              "    .dataframe tbody tr th:only-of-type {\n",
              "        vertical-align: middle;\n",
              "    }\n",
              "\n",
              "    .dataframe tbody tr th {\n",
              "        vertical-align: top;\n",
              "    }\n",
              "\n",
              "    .dataframe thead th {\n",
              "        text-align: right;\n",
              "    }\n",
              "</style>\n",
              "<table border=\"1\" class=\"dataframe\">\n",
              "  <thead>\n",
              "    <tr style=\"text-align: right;\">\n",
              "      <th></th>\n",
              "      <th>system_calendar_key_N</th>\n",
              "      <th>product_id</th>\n",
              "      <th>sales_dollars_value</th>\n",
              "      <th>sales_units_value</th>\n",
              "      <th>sales_lbs_value</th>\n",
              "      <th>year</th>\n",
              "    </tr>\n",
              "  </thead>\n",
              "  <tbody>\n",
              "    <tr>\n",
              "      <th>0</th>\n",
              "      <td>20160109</td>\n",
              "      <td>1</td>\n",
              "      <td>13927.000</td>\n",
              "      <td>934</td>\n",
              "      <td>18680</td>\n",
              "      <td>2016</td>\n",
              "    </tr>\n",
              "    <tr>\n",
              "      <th>1</th>\n",
              "      <td>20160109</td>\n",
              "      <td>3</td>\n",
              "      <td>10289.000</td>\n",
              "      <td>1592</td>\n",
              "      <td>28646</td>\n",
              "      <td>2016</td>\n",
              "    </tr>\n",
              "    <tr>\n",
              "      <th>2</th>\n",
              "      <td>20160109</td>\n",
              "      <td>4</td>\n",
              "      <td>357.000</td>\n",
              "      <td>22</td>\n",
              "      <td>440</td>\n",
              "      <td>2016</td>\n",
              "    </tr>\n",
              "    <tr>\n",
              "      <th>3</th>\n",
              "      <td>20160109</td>\n",
              "      <td>6</td>\n",
              "      <td>23113.000</td>\n",
              "      <td>2027</td>\n",
              "      <td>81088</td>\n",
              "      <td>2016</td>\n",
              "    </tr>\n",
              "    <tr>\n",
              "      <th>4</th>\n",
              "      <td>20160109</td>\n",
              "      <td>7</td>\n",
              "      <td>23177.000</td>\n",
              "      <td>3231</td>\n",
              "      <td>58164</td>\n",
              "      <td>2016</td>\n",
              "    </tr>\n",
              "  </tbody>\n",
              "</table>\n",
              "</div>\n",
              "      <button class=\"colab-df-convert\" onclick=\"convertToInteractive('df-3b5e8005-7741-45d4-ab4f-be57da29d2c1')\"\n",
              "              title=\"Convert this dataframe to an interactive table.\"\n",
              "              style=\"display:none;\">\n",
              "        \n",
              "  <svg xmlns=\"http://www.w3.org/2000/svg\" height=\"24px\"viewBox=\"0 0 24 24\"\n",
              "       width=\"24px\">\n",
              "    <path d=\"M0 0h24v24H0V0z\" fill=\"none\"/>\n",
              "    <path d=\"M18.56 5.44l.94 2.06.94-2.06 2.06-.94-2.06-.94-.94-2.06-.94 2.06-2.06.94zm-11 1L8.5 8.5l.94-2.06 2.06-.94-2.06-.94L8.5 2.5l-.94 2.06-2.06.94zm10 10l.94 2.06.94-2.06 2.06-.94-2.06-.94-.94-2.06-.94 2.06-2.06.94z\"/><path d=\"M17.41 7.96l-1.37-1.37c-.4-.4-.92-.59-1.43-.59-.52 0-1.04.2-1.43.59L10.3 9.45l-7.72 7.72c-.78.78-.78 2.05 0 2.83L4 21.41c.39.39.9.59 1.41.59.51 0 1.02-.2 1.41-.59l7.78-7.78 2.81-2.81c.8-.78.8-2.07 0-2.86zM5.41 20L4 18.59l7.72-7.72 1.47 1.35L5.41 20z\"/>\n",
              "  </svg>\n",
              "      </button>\n",
              "      \n",
              "  <style>\n",
              "    .colab-df-container {\n",
              "      display:flex;\n",
              "      flex-wrap:wrap;\n",
              "      gap: 12px;\n",
              "    }\n",
              "\n",
              "    .colab-df-convert {\n",
              "      background-color: #E8F0FE;\n",
              "      border: none;\n",
              "      border-radius: 50%;\n",
              "      cursor: pointer;\n",
              "      display: none;\n",
              "      fill: #1967D2;\n",
              "      height: 32px;\n",
              "      padding: 0 0 0 0;\n",
              "      width: 32px;\n",
              "    }\n",
              "\n",
              "    .colab-df-convert:hover {\n",
              "      background-color: #E2EBFA;\n",
              "      box-shadow: 0px 1px 2px rgba(60, 64, 67, 0.3), 0px 1px 3px 1px rgba(60, 64, 67, 0.15);\n",
              "      fill: #174EA6;\n",
              "    }\n",
              "\n",
              "    [theme=dark] .colab-df-convert {\n",
              "      background-color: #3B4455;\n",
              "      fill: #D2E3FC;\n",
              "    }\n",
              "\n",
              "    [theme=dark] .colab-df-convert:hover {\n",
              "      background-color: #434B5C;\n",
              "      box-shadow: 0px 1px 3px 1px rgba(0, 0, 0, 0.15);\n",
              "      filter: drop-shadow(0px 1px 2px rgba(0, 0, 0, 0.3));\n",
              "      fill: #FFFFFF;\n",
              "    }\n",
              "  </style>\n",
              "\n",
              "      <script>\n",
              "        const buttonEl =\n",
              "          document.querySelector('#df-3b5e8005-7741-45d4-ab4f-be57da29d2c1 button.colab-df-convert');\n",
              "        buttonEl.style.display =\n",
              "          google.colab.kernel.accessAllowed ? 'block' : 'none';\n",
              "\n",
              "        async function convertToInteractive(key) {\n",
              "          const element = document.querySelector('#df-3b5e8005-7741-45d4-ab4f-be57da29d2c1');\n",
              "          const dataTable =\n",
              "            await google.colab.kernel.invokeFunction('convertToInteractive',\n",
              "                                                     [key], {});\n",
              "          if (!dataTable) return;\n",
              "\n",
              "          const docLinkHtml = 'Like what you see? Visit the ' +\n",
              "            '<a target=\"_blank\" href=https://colab.research.google.com/notebooks/data_table.ipynb>data table notebook</a>'\n",
              "            + ' to learn more about interactive tables.';\n",
              "          element.innerHTML = '';\n",
              "          dataTable['output_type'] = 'display_data';\n",
              "          await google.colab.output.renderOutput(dataTable, element);\n",
              "          const docLink = document.createElement('div');\n",
              "          docLink.innerHTML = docLinkHtml;\n",
              "          element.appendChild(docLink);\n",
              "        }\n",
              "      </script>\n",
              "    </div>\n",
              "  </div>\n",
              "  "
            ]
          },
          "metadata": {},
          "execution_count": 242
        }
      ]
    },
    {
      "cell_type": "code",
      "source": [
        "final_df = pd.merge(df_sales,mid1_df, how='left', left_on='product_id',right_on='PRODUCT_ID')"
      ],
      "metadata": {
        "id": "rFivvJoJ7L1n"
      },
      "id": "rFivvJoJ7L1n",
      "execution_count": 250,
      "outputs": []
    },
    {
      "cell_type": "code",
      "source": [
        "final_df.head()"
      ],
      "metadata": {
        "colab": {
          "base_uri": "https://localhost:8080/",
          "height": 206
        },
        "id": "DdgYDSn37NTK",
        "outputId": "839bc59a-0733-4a3c-c6e3-33dc54a2c796"
      },
      "id": "DdgYDSn37NTK",
      "execution_count": 251,
      "outputs": [
        {
          "output_type": "execute_result",
          "data": {
            "text/plain": [
              "   system_calendar_key_N  product_id  sales_dollars_value  sales_units_value  \\\n",
              "0               20160109           1            13927.000                934   \n",
              "1               20160109           3            10289.000               1592   \n",
              "2               20160109           4              357.000                 22   \n",
              "3               20160109           6            23113.000               2027   \n",
              "4               20160109           7            23177.000               3231   \n",
              "\n",
              "   sales_lbs_value  year  PRODUCT_ID  CLAIM_ID  Vendor Claim Name  \n",
              "0            18680  2016           1     0.000  Others   No Claim  \n",
              "1            28646  2016           3     0.000  Others   No Claim  \n",
              "2              440  2016           4     0.000  Others   No Claim  \n",
              "3            81088  2016           6     0.000  Others   No Claim  \n",
              "4            58164  2016           7     0.000  Others   No Claim  "
            ],
            "text/html": [
              "\n",
              "  <div id=\"df-7d4d6e3a-672c-4f65-9e89-e13b62264984\">\n",
              "    <div class=\"colab-df-container\">\n",
              "      <div>\n",
              "<style scoped>\n",
              "    .dataframe tbody tr th:only-of-type {\n",
              "        vertical-align: middle;\n",
              "    }\n",
              "\n",
              "    .dataframe tbody tr th {\n",
              "        vertical-align: top;\n",
              "    }\n",
              "\n",
              "    .dataframe thead th {\n",
              "        text-align: right;\n",
              "    }\n",
              "</style>\n",
              "<table border=\"1\" class=\"dataframe\">\n",
              "  <thead>\n",
              "    <tr style=\"text-align: right;\">\n",
              "      <th></th>\n",
              "      <th>system_calendar_key_N</th>\n",
              "      <th>product_id</th>\n",
              "      <th>sales_dollars_value</th>\n",
              "      <th>sales_units_value</th>\n",
              "      <th>sales_lbs_value</th>\n",
              "      <th>year</th>\n",
              "      <th>PRODUCT_ID</th>\n",
              "      <th>CLAIM_ID</th>\n",
              "      <th>Vendor</th>\n",
              "      <th>Claim Name</th>\n",
              "    </tr>\n",
              "  </thead>\n",
              "  <tbody>\n",
              "    <tr>\n",
              "      <th>0</th>\n",
              "      <td>20160109</td>\n",
              "      <td>1</td>\n",
              "      <td>13927.000</td>\n",
              "      <td>934</td>\n",
              "      <td>18680</td>\n",
              "      <td>2016</td>\n",
              "      <td>1</td>\n",
              "      <td>0.000</td>\n",
              "      <td>Others</td>\n",
              "      <td>No Claim</td>\n",
              "    </tr>\n",
              "    <tr>\n",
              "      <th>1</th>\n",
              "      <td>20160109</td>\n",
              "      <td>3</td>\n",
              "      <td>10289.000</td>\n",
              "      <td>1592</td>\n",
              "      <td>28646</td>\n",
              "      <td>2016</td>\n",
              "      <td>3</td>\n",
              "      <td>0.000</td>\n",
              "      <td>Others</td>\n",
              "      <td>No Claim</td>\n",
              "    </tr>\n",
              "    <tr>\n",
              "      <th>2</th>\n",
              "      <td>20160109</td>\n",
              "      <td>4</td>\n",
              "      <td>357.000</td>\n",
              "      <td>22</td>\n",
              "      <td>440</td>\n",
              "      <td>2016</td>\n",
              "      <td>4</td>\n",
              "      <td>0.000</td>\n",
              "      <td>Others</td>\n",
              "      <td>No Claim</td>\n",
              "    </tr>\n",
              "    <tr>\n",
              "      <th>3</th>\n",
              "      <td>20160109</td>\n",
              "      <td>6</td>\n",
              "      <td>23113.000</td>\n",
              "      <td>2027</td>\n",
              "      <td>81088</td>\n",
              "      <td>2016</td>\n",
              "      <td>6</td>\n",
              "      <td>0.000</td>\n",
              "      <td>Others</td>\n",
              "      <td>No Claim</td>\n",
              "    </tr>\n",
              "    <tr>\n",
              "      <th>4</th>\n",
              "      <td>20160109</td>\n",
              "      <td>7</td>\n",
              "      <td>23177.000</td>\n",
              "      <td>3231</td>\n",
              "      <td>58164</td>\n",
              "      <td>2016</td>\n",
              "      <td>7</td>\n",
              "      <td>0.000</td>\n",
              "      <td>Others</td>\n",
              "      <td>No Claim</td>\n",
              "    </tr>\n",
              "  </tbody>\n",
              "</table>\n",
              "</div>\n",
              "      <button class=\"colab-df-convert\" onclick=\"convertToInteractive('df-7d4d6e3a-672c-4f65-9e89-e13b62264984')\"\n",
              "              title=\"Convert this dataframe to an interactive table.\"\n",
              "              style=\"display:none;\">\n",
              "        \n",
              "  <svg xmlns=\"http://www.w3.org/2000/svg\" height=\"24px\"viewBox=\"0 0 24 24\"\n",
              "       width=\"24px\">\n",
              "    <path d=\"M0 0h24v24H0V0z\" fill=\"none\"/>\n",
              "    <path d=\"M18.56 5.44l.94 2.06.94-2.06 2.06-.94-2.06-.94-.94-2.06-.94 2.06-2.06.94zm-11 1L8.5 8.5l.94-2.06 2.06-.94-2.06-.94L8.5 2.5l-.94 2.06-2.06.94zm10 10l.94 2.06.94-2.06 2.06-.94-2.06-.94-.94-2.06-.94 2.06-2.06.94z\"/><path d=\"M17.41 7.96l-1.37-1.37c-.4-.4-.92-.59-1.43-.59-.52 0-1.04.2-1.43.59L10.3 9.45l-7.72 7.72c-.78.78-.78 2.05 0 2.83L4 21.41c.39.39.9.59 1.41.59.51 0 1.02-.2 1.41-.59l7.78-7.78 2.81-2.81c.8-.78.8-2.07 0-2.86zM5.41 20L4 18.59l7.72-7.72 1.47 1.35L5.41 20z\"/>\n",
              "  </svg>\n",
              "      </button>\n",
              "      \n",
              "  <style>\n",
              "    .colab-df-container {\n",
              "      display:flex;\n",
              "      flex-wrap:wrap;\n",
              "      gap: 12px;\n",
              "    }\n",
              "\n",
              "    .colab-df-convert {\n",
              "      background-color: #E8F0FE;\n",
              "      border: none;\n",
              "      border-radius: 50%;\n",
              "      cursor: pointer;\n",
              "      display: none;\n",
              "      fill: #1967D2;\n",
              "      height: 32px;\n",
              "      padding: 0 0 0 0;\n",
              "      width: 32px;\n",
              "    }\n",
              "\n",
              "    .colab-df-convert:hover {\n",
              "      background-color: #E2EBFA;\n",
              "      box-shadow: 0px 1px 2px rgba(60, 64, 67, 0.3), 0px 1px 3px 1px rgba(60, 64, 67, 0.15);\n",
              "      fill: #174EA6;\n",
              "    }\n",
              "\n",
              "    [theme=dark] .colab-df-convert {\n",
              "      background-color: #3B4455;\n",
              "      fill: #D2E3FC;\n",
              "    }\n",
              "\n",
              "    [theme=dark] .colab-df-convert:hover {\n",
              "      background-color: #434B5C;\n",
              "      box-shadow: 0px 1px 3px 1px rgba(0, 0, 0, 0.15);\n",
              "      filter: drop-shadow(0px 1px 2px rgba(0, 0, 0, 0.3));\n",
              "      fill: #FFFFFF;\n",
              "    }\n",
              "  </style>\n",
              "\n",
              "      <script>\n",
              "        const buttonEl =\n",
              "          document.querySelector('#df-7d4d6e3a-672c-4f65-9e89-e13b62264984 button.colab-df-convert');\n",
              "        buttonEl.style.display =\n",
              "          google.colab.kernel.accessAllowed ? 'block' : 'none';\n",
              "\n",
              "        async function convertToInteractive(key) {\n",
              "          const element = document.querySelector('#df-7d4d6e3a-672c-4f65-9e89-e13b62264984');\n",
              "          const dataTable =\n",
              "            await google.colab.kernel.invokeFunction('convertToInteractive',\n",
              "                                                     [key], {});\n",
              "          if (!dataTable) return;\n",
              "\n",
              "          const docLinkHtml = 'Like what you see? Visit the ' +\n",
              "            '<a target=\"_blank\" href=https://colab.research.google.com/notebooks/data_table.ipynb>data table notebook</a>'\n",
              "            + ' to learn more about interactive tables.';\n",
              "          element.innerHTML = '';\n",
              "          dataTable['output_type'] = 'display_data';\n",
              "          await google.colab.output.renderOutput(dataTable, element);\n",
              "          const docLink = document.createElement('div');\n",
              "          docLink.innerHTML = docLinkHtml;\n",
              "          element.appendChild(docLink);\n",
              "        }\n",
              "      </script>\n",
              "    </div>\n",
              "  </div>\n",
              "  "
            ]
          },
          "metadata": {},
          "execution_count": 251
        }
      ]
    },
    {
      "cell_type": "code",
      "source": [
        "final_df.isnull().sum()"
      ],
      "metadata": {
        "colab": {
          "base_uri": "https://localhost:8080/"
        },
        "id": "kHQcw0rN-Gnb",
        "outputId": "45751720-387d-4a0d-ebb4-5fe48084c1ec"
      },
      "id": "kHQcw0rN-Gnb",
      "execution_count": 252,
      "outputs": [
        {
          "output_type": "execute_result",
          "data": {
            "text/plain": [
              "system_calendar_key_N    0\n",
              "product_id               0\n",
              "sales_dollars_value      0\n",
              "sales_units_value        0\n",
              "sales_lbs_value          0\n",
              "year                     0\n",
              "PRODUCT_ID               0\n",
              "CLAIM_ID                 0\n",
              "Vendor                   0\n",
              "Claim Name               0\n",
              "dtype: int64"
            ]
          },
          "metadata": {},
          "execution_count": 252
        }
      ]
    },
    {
      "cell_type": "code",
      "source": [
        ""
      ],
      "metadata": {
        "id": "lIF0ToemCL_d"
      },
      "id": "lIF0ToemCL_d",
      "execution_count": null,
      "outputs": []
    },
    {
      "cell_type": "code",
      "source": [
        "# combining both\n",
        "\n",
        "combined_df = pd.merge(df_sm,df_gs, how = 'inner', left_on =['Theme Id','publish_year','publish_week'], right_on = ['Claim_ID','search_year','search_week'])"
      ],
      "metadata": {
        "id": "7W8r6bRsH8Zl"
      },
      "id": "7W8r6bRsH8Zl",
      "execution_count": null,
      "outputs": []
    },
    {
      "cell_type": "code",
      "source": [
        "combined_df.shape"
      ],
      "metadata": {
        "colab": {
          "base_uri": "https://localhost:8080/"
        },
        "id": "OQ4x1enqH8cW",
        "outputId": "464d86cc-fdde-4903-eca9-2ce4fea6f01f"
      },
      "id": "OQ4x1enqH8cW",
      "execution_count": null,
      "outputs": [
        {
          "output_type": "execute_result",
          "data": {
            "text/plain": [
              "(1074156, 15)"
            ]
          },
          "metadata": {},
          "execution_count": 68
        }
      ]
    },
    {
      "cell_type": "code",
      "source": [
        "combined_df.head()"
      ],
      "metadata": {
        "colab": {
          "base_uri": "https://localhost:8080/",
          "height": 374
        },
        "id": "NW_aKcvYH8gF",
        "outputId": "94952e04-3207-4bea-f534-6f16ae94561d"
      },
      "id": "NW_aKcvYH8gF",
      "execution_count": null,
      "outputs": [
        {
          "output_type": "execute_result",
          "data": {
            "text/plain": [
              "   Theme Id published_date  total_post  publish_year  publish_month  \\\n",
              "0     148.0     2015-01-10          76          2015              1   \n",
              "1     148.0     2015-01-10          76          2015              1   \n",
              "2     148.0     2015-01-11           6          2015              1   \n",
              "3     148.0     2015-01-11           6          2015              1   \n",
              "4     148.0     2015-01-06           2          2015              1   \n",
              "\n",
              "   publish_week       date platform  searchVolume  Claim_ID  week_number  \\\n",
              "0             2 2015-01-09   google           342       148            2   \n",
              "1             2 2015-01-10   google           342       148            2   \n",
              "2             2 2015-01-09   google           342       148            2   \n",
              "3             2 2015-01-10   google           342       148            2   \n",
              "4             2 2015-01-09   google           342       148            2   \n",
              "\n",
              "   year_new  search_year  search_month  search_week  \n",
              "0      2015         2015             1            2  \n",
              "1      2015         2015             1            2  \n",
              "2      2015         2015             1            2  \n",
              "3      2015         2015             1            2  \n",
              "4      2015         2015             1            2  "
            ],
            "text/html": [
              "\n",
              "  <div id=\"df-a73f9bf0-967f-418b-b6e1-a8eb669659fc\">\n",
              "    <div class=\"colab-df-container\">\n",
              "      <div>\n",
              "<style scoped>\n",
              "    .dataframe tbody tr th:only-of-type {\n",
              "        vertical-align: middle;\n",
              "    }\n",
              "\n",
              "    .dataframe tbody tr th {\n",
              "        vertical-align: top;\n",
              "    }\n",
              "\n",
              "    .dataframe thead th {\n",
              "        text-align: right;\n",
              "    }\n",
              "</style>\n",
              "<table border=\"1\" class=\"dataframe\">\n",
              "  <thead>\n",
              "    <tr style=\"text-align: right;\">\n",
              "      <th></th>\n",
              "      <th>Theme Id</th>\n",
              "      <th>published_date</th>\n",
              "      <th>total_post</th>\n",
              "      <th>publish_year</th>\n",
              "      <th>publish_month</th>\n",
              "      <th>publish_week</th>\n",
              "      <th>date</th>\n",
              "      <th>platform</th>\n",
              "      <th>searchVolume</th>\n",
              "      <th>Claim_ID</th>\n",
              "      <th>week_number</th>\n",
              "      <th>year_new</th>\n",
              "      <th>search_year</th>\n",
              "      <th>search_month</th>\n",
              "      <th>search_week</th>\n",
              "    </tr>\n",
              "  </thead>\n",
              "  <tbody>\n",
              "    <tr>\n",
              "      <th>0</th>\n",
              "      <td>148.0</td>\n",
              "      <td>2015-01-10</td>\n",
              "      <td>76</td>\n",
              "      <td>2015</td>\n",
              "      <td>1</td>\n",
              "      <td>2</td>\n",
              "      <td>2015-01-09</td>\n",
              "      <td>google</td>\n",
              "      <td>342</td>\n",
              "      <td>148</td>\n",
              "      <td>2</td>\n",
              "      <td>2015</td>\n",
              "      <td>2015</td>\n",
              "      <td>1</td>\n",
              "      <td>2</td>\n",
              "    </tr>\n",
              "    <tr>\n",
              "      <th>1</th>\n",
              "      <td>148.0</td>\n",
              "      <td>2015-01-10</td>\n",
              "      <td>76</td>\n",
              "      <td>2015</td>\n",
              "      <td>1</td>\n",
              "      <td>2</td>\n",
              "      <td>2015-01-10</td>\n",
              "      <td>google</td>\n",
              "      <td>342</td>\n",
              "      <td>148</td>\n",
              "      <td>2</td>\n",
              "      <td>2015</td>\n",
              "      <td>2015</td>\n",
              "      <td>1</td>\n",
              "      <td>2</td>\n",
              "    </tr>\n",
              "    <tr>\n",
              "      <th>2</th>\n",
              "      <td>148.0</td>\n",
              "      <td>2015-01-11</td>\n",
              "      <td>6</td>\n",
              "      <td>2015</td>\n",
              "      <td>1</td>\n",
              "      <td>2</td>\n",
              "      <td>2015-01-09</td>\n",
              "      <td>google</td>\n",
              "      <td>342</td>\n",
              "      <td>148</td>\n",
              "      <td>2</td>\n",
              "      <td>2015</td>\n",
              "      <td>2015</td>\n",
              "      <td>1</td>\n",
              "      <td>2</td>\n",
              "    </tr>\n",
              "    <tr>\n",
              "      <th>3</th>\n",
              "      <td>148.0</td>\n",
              "      <td>2015-01-11</td>\n",
              "      <td>6</td>\n",
              "      <td>2015</td>\n",
              "      <td>1</td>\n",
              "      <td>2</td>\n",
              "      <td>2015-01-10</td>\n",
              "      <td>google</td>\n",
              "      <td>342</td>\n",
              "      <td>148</td>\n",
              "      <td>2</td>\n",
              "      <td>2015</td>\n",
              "      <td>2015</td>\n",
              "      <td>1</td>\n",
              "      <td>2</td>\n",
              "    </tr>\n",
              "    <tr>\n",
              "      <th>4</th>\n",
              "      <td>148.0</td>\n",
              "      <td>2015-01-06</td>\n",
              "      <td>2</td>\n",
              "      <td>2015</td>\n",
              "      <td>1</td>\n",
              "      <td>2</td>\n",
              "      <td>2015-01-09</td>\n",
              "      <td>google</td>\n",
              "      <td>342</td>\n",
              "      <td>148</td>\n",
              "      <td>2</td>\n",
              "      <td>2015</td>\n",
              "      <td>2015</td>\n",
              "      <td>1</td>\n",
              "      <td>2</td>\n",
              "    </tr>\n",
              "  </tbody>\n",
              "</table>\n",
              "</div>\n",
              "      <button class=\"colab-df-convert\" onclick=\"convertToInteractive('df-a73f9bf0-967f-418b-b6e1-a8eb669659fc')\"\n",
              "              title=\"Convert this dataframe to an interactive table.\"\n",
              "              style=\"display:none;\">\n",
              "        \n",
              "  <svg xmlns=\"http://www.w3.org/2000/svg\" height=\"24px\"viewBox=\"0 0 24 24\"\n",
              "       width=\"24px\">\n",
              "    <path d=\"M0 0h24v24H0V0z\" fill=\"none\"/>\n",
              "    <path d=\"M18.56 5.44l.94 2.06.94-2.06 2.06-.94-2.06-.94-.94-2.06-.94 2.06-2.06.94zm-11 1L8.5 8.5l.94-2.06 2.06-.94-2.06-.94L8.5 2.5l-.94 2.06-2.06.94zm10 10l.94 2.06.94-2.06 2.06-.94-2.06-.94-.94-2.06-.94 2.06-2.06.94z\"/><path d=\"M17.41 7.96l-1.37-1.37c-.4-.4-.92-.59-1.43-.59-.52 0-1.04.2-1.43.59L10.3 9.45l-7.72 7.72c-.78.78-.78 2.05 0 2.83L4 21.41c.39.39.9.59 1.41.59.51 0 1.02-.2 1.41-.59l7.78-7.78 2.81-2.81c.8-.78.8-2.07 0-2.86zM5.41 20L4 18.59l7.72-7.72 1.47 1.35L5.41 20z\"/>\n",
              "  </svg>\n",
              "      </button>\n",
              "      \n",
              "  <style>\n",
              "    .colab-df-container {\n",
              "      display:flex;\n",
              "      flex-wrap:wrap;\n",
              "      gap: 12px;\n",
              "    }\n",
              "\n",
              "    .colab-df-convert {\n",
              "      background-color: #E8F0FE;\n",
              "      border: none;\n",
              "      border-radius: 50%;\n",
              "      cursor: pointer;\n",
              "      display: none;\n",
              "      fill: #1967D2;\n",
              "      height: 32px;\n",
              "      padding: 0 0 0 0;\n",
              "      width: 32px;\n",
              "    }\n",
              "\n",
              "    .colab-df-convert:hover {\n",
              "      background-color: #E2EBFA;\n",
              "      box-shadow: 0px 1px 2px rgba(60, 64, 67, 0.3), 0px 1px 3px 1px rgba(60, 64, 67, 0.15);\n",
              "      fill: #174EA6;\n",
              "    }\n",
              "\n",
              "    [theme=dark] .colab-df-convert {\n",
              "      background-color: #3B4455;\n",
              "      fill: #D2E3FC;\n",
              "    }\n",
              "\n",
              "    [theme=dark] .colab-df-convert:hover {\n",
              "      background-color: #434B5C;\n",
              "      box-shadow: 0px 1px 3px 1px rgba(0, 0, 0, 0.15);\n",
              "      filter: drop-shadow(0px 1px 2px rgba(0, 0, 0, 0.3));\n",
              "      fill: #FFFFFF;\n",
              "    }\n",
              "  </style>\n",
              "\n",
              "      <script>\n",
              "        const buttonEl =\n",
              "          document.querySelector('#df-a73f9bf0-967f-418b-b6e1-a8eb669659fc button.colab-df-convert');\n",
              "        buttonEl.style.display =\n",
              "          google.colab.kernel.accessAllowed ? 'block' : 'none';\n",
              "\n",
              "        async function convertToInteractive(key) {\n",
              "          const element = document.querySelector('#df-a73f9bf0-967f-418b-b6e1-a8eb669659fc');\n",
              "          const dataTable =\n",
              "            await google.colab.kernel.invokeFunction('convertToInteractive',\n",
              "                                                     [key], {});\n",
              "          if (!dataTable) return;\n",
              "\n",
              "          const docLinkHtml = 'Like what you see? Visit the ' +\n",
              "            '<a target=\"_blank\" href=https://colab.research.google.com/notebooks/data_table.ipynb>data table notebook</a>'\n",
              "            + ' to learn more about interactive tables.';\n",
              "          element.innerHTML = '';\n",
              "          dataTable['output_type'] = 'display_data';\n",
              "          await google.colab.output.renderOutput(dataTable, element);\n",
              "          const docLink = document.createElement('div');\n",
              "          docLink.innerHTML = docLinkHtml;\n",
              "          element.appendChild(docLink);\n",
              "        }\n",
              "      </script>\n",
              "    </div>\n",
              "  </div>\n",
              "  "
            ]
          },
          "metadata": {},
          "execution_count": 69
        }
      ]
    },
    {
      "cell_type": "code",
      "source": [
        ""
      ],
      "metadata": {
        "id": "4TzMZKd3H8i8"
      },
      "id": "4TzMZKd3H8i8",
      "execution_count": null,
      "outputs": []
    },
    {
      "cell_type": "code",
      "source": [
        ""
      ],
      "metadata": {
        "id": "pOUQxy5F65ed"
      },
      "id": "pOUQxy5F65ed",
      "execution_count": null,
      "outputs": []
    },
    {
      "cell_type": "code",
      "source": [
        ""
      ],
      "metadata": {
        "id": "lSnCqBIV65pC"
      },
      "id": "lSnCqBIV65pC",
      "execution_count": null,
      "outputs": []
    },
    {
      "cell_type": "code",
      "source": [
        ""
      ],
      "metadata": {
        "id": "p3H0_j0c650W"
      },
      "id": "p3H0_j0c650W",
      "execution_count": null,
      "outputs": []
    },
    {
      "cell_type": "code",
      "source": [
        ""
      ],
      "metadata": {
        "id": "cS66KKDd657n"
      },
      "id": "cS66KKDd657n",
      "execution_count": null,
      "outputs": []
    },
    {
      "cell_type": "code",
      "source": [
        ""
      ],
      "metadata": {
        "id": "0iMoR4IO66CS"
      },
      "id": "0iMoR4IO66CS",
      "execution_count": null,
      "outputs": []
    },
    {
      "cell_type": "code",
      "source": [
        ""
      ],
      "metadata": {
        "id": "oytrEZDs66J-"
      },
      "id": "oytrEZDs66J-",
      "execution_count": null,
      "outputs": []
    },
    {
      "cell_type": "markdown",
      "id": "8b68c01e",
      "metadata": {
        "id": "8b68c01e"
      },
      "source": [
        "#Value counts\n",
        "    print(\"Value counts\")\n",
        "    for column in data.columns:\n",
        "        print(\"{} : {}\".format(column,data[column].value_counts()))"
      ]
    },
    {
      "cell_type": "code",
      "source": [
        "# sns.set_theme(style=\"whitegrid\")\n",
        "sns.set(style=\"darkgrid\")\n",
        "\n",
        "# sns.boxplot(x=iqr_df['life_expectancy'])\n",
        "# sns.scatterplot( x=iqr_df.index , y=iqr_df['life_expectancy'] , hue = iqr_df['year'])\n",
        "# sns.stripplot(y=iqr_df['life_expectancy'])\n",
        "# sns.distplot(iqr_df['life_expectancy'])\n",
        "# sns.kdeplot(iqr_df['life_expectancy'], shade=True)\n",
        "# sns.swarmplot(x=iqr_df['life_expectancy'])\n",
        "\n",
        "fig, axs = plt.subplots(2, 2, figsize=(15, 15))\n",
        "\n",
        "sns.histplot(data=iqr_df, x=\"life_expectancy\", kde=True, color=\"skyblue\", ax=axs[0, 0])\n",
        "sns.histplot(data=iqr_df, x=\"adult_mortality\", kde=True, color=\"olive\", ax=axs[0, 1])\n",
        "sns.histplot(data=iqr_df, x=\"infant_deaths\", kde=True, color=\"gold\", ax=axs[1, 0])\n",
        "sns.histplot(data=iqr_df, x=\"income_composition_of_resources\", kde=True, color=\"teal\", ax=axs[1, 1])\n",
        "\n",
        "plt.show()"
      ],
      "metadata": {
        "id": "rqq-ziZD3pKe"
      },
      "id": "rqq-ziZD3pKe",
      "execution_count": null,
      "outputs": []
    },
    {
      "cell_type": "code",
      "source": [
        "# ddf = iqr_df.select_dtypes(include=np.number)\n",
        "# ddf = ddf.iloc[:,:2]\n",
        "# cols = ddf.columns.to_list()\n",
        "# plt.figure(figsize=(5,5))\n",
        "# plt.boxplot(x=ddf.values,labels=cols)\n",
        "# # ddf.head()"
      ],
      "metadata": {
        "id": "2SZMMOgK3p3A"
      },
      "id": "2SZMMOgK3p3A",
      "execution_count": 55,
      "outputs": []
    },
    {
      "cell_type": "code",
      "source": [
        "def outliers_iqr(data):\n",
        "\n",
        "    data = np.sort(data)\n",
        "\n",
        "    q1 = np.percentile(data, 25, interpolation = 'midpoint') \n",
        "    q2 = np.percentile(data, 50, interpolation = 'midpoint') \n",
        "    q3 = np.percentile(data, 75, interpolation = 'midpoint')\n",
        "\n",
        "    iqr = q3-q1\n",
        "    lb  = q1-1*iqr \n",
        "    ub  = q3+1*iqr\n",
        "\n",
        "    # print('Lower bound:',lb)\n",
        "    # print('Upper bound:',ub)\n",
        "    result = {'lower_bound':lb,'upper_bound':ub}\n",
        "    \n",
        "    # data = [i for i in data if (i>lb) and (i<ub)]\n",
        "    return result\n",
        "\n",
        "iqr_df = preprocess(org_df)\n",
        "print('Dataset length(original):',len(org_df))\n",
        "\n",
        "colnames_numerics_only = iqr_df.select_dtypes(include=np.number).columns.tolist()\n",
        "\n",
        "#CAPPING -  Winsorization\n",
        "\n",
        "for i in colnames_numerics_only:\n",
        "  res = outliers_iqr(iqr_df[i])\n",
        "  iqr_df = iqr_df[(iqr_df[i]>=res['lower_bound']) & (iqr_df[i]<=res['upper_bound'])]\n",
        "\n",
        "print('Dataset length(after IQR outlier removal):',len(iqr_df))"
      ],
      "metadata": {
        "id": "WgkL9NSd3tqX"
      },
      "id": "WgkL9NSd3tqX",
      "execution_count": null,
      "outputs": []
    },
    {
      "cell_type": "code",
      "source": [
        ""
      ],
      "metadata": {
        "id": "wLI8JRRB3xMT"
      },
      "id": "wLI8JRRB3xMT",
      "execution_count": null,
      "outputs": []
    }
  ],
  "metadata": {
    "kernelspec": {
      "display_name": "Python 3",
      "language": "python",
      "name": "python3"
    },
    "language_info": {
      "codemirror_mode": {
        "name": "ipython",
        "version": 3
      },
      "file_extension": ".py",
      "mimetype": "text/x-python",
      "name": "python",
      "nbconvert_exporter": "python",
      "pygments_lexer": "ipython3",
      "version": "3.8.5"
    },
    "colab": {
      "name": "data_exploration.ipynb",
      "provenance": [],
      "collapsed_sections": [],
      "include_colab_link": true
    }
  },
  "nbformat": 4,
  "nbformat_minor": 5
}